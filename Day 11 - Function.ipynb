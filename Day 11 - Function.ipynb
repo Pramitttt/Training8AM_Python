{
 "cells": [
  {
   "cell_type": "code",
   "execution_count": null,
   "id": "85ff768e",
   "metadata": {},
   "outputs": [],
   "source": [
    "# Function\n",
    "# - print ()\n",
    "# - input ()\n",
    "# - str ()\n",
    "# - int ()\n",
    "# - list ()\n",
    "# - tuple ()\n"
   ]
  },
  {
   "cell_type": "code",
   "execution_count": null,
   "id": "d53eccc3",
   "metadata": {},
   "outputs": [],
   "source": [
    "# user defined function = \n",
    "# if a same code is used multiple times, then that code is stored inside a function which can be reused."
   ]
  },
  {
   "cell_type": "code",
   "execution_count": null,
   "id": "3dbb0571",
   "metadata": {},
   "outputs": [],
   "source": [
    "#user defined\n",
    "def<function_name>():   #defining function\n",
    "    <operation>\n",
    "    \n",
    "<function_name>()    #calling function"
   ]
  },
  {
   "cell_type": "code",
   "execution_count": 5,
   "id": "c51de075",
   "metadata": {},
   "outputs": [
    {
     "name": "stdout",
     "output_type": "stream",
     "text": [
      "babbal world\n"
     ]
    }
   ],
   "source": [
    "def hello ():\n",
    "    print(\"babbal world\")\n",
    "    \n",
    "hello()"
   ]
  },
  {
   "cell_type": "code",
   "execution_count": 4,
   "id": "2315d40b",
   "metadata": {},
   "outputs": [
    {
     "name": "stdout",
     "output_type": "stream",
     "text": [
      "enter l = 2\n",
      "enter b = 3\n",
      "6\n"
     ]
    }
   ],
   "source": [
    "def area ():\n",
    "    l = int(input(\"enter l = \"))  #local variable\n",
    "    b = int(input(\"enter b = \"))  #local variable\n",
    "    a = l*b                       #local variable\n",
    "    \n",
    "    print (a)\n",
    "    \n",
    "area()"
   ]
  },
  {
   "cell_type": "code",
   "execution_count": 7,
   "id": "9dc716b2",
   "metadata": {},
   "outputs": [
    {
     "name": "stdout",
     "output_type": "stream",
     "text": [
      "enter l = 4\n",
      "enter b = 5\n",
      "20\n",
      "4 5\n"
     ]
    }
   ],
   "source": [
    "l = int(input(\"enter l = \"))  #global variable\n",
    "b = int(input(\"enter b = \"))  #global variable\n",
    "\n",
    "def area ():\n",
    "   \n",
    "    a = l*b                       #local variable \n",
    "    print (a)\n",
    "    \n",
    "area()\n",
    "print(l,b)         #global variables can be printed outside but not the local ones\n"
   ]
  },
  {
   "cell_type": "code",
   "execution_count": 2,
   "id": "6b095979",
   "metadata": {},
   "outputs": [
    {
     "name": "stdout",
     "output_type": "stream",
     "text": [
      "enter l = 2\n",
      "enter b = 3\n",
      "enter h = 4\n",
      "6\n",
      "24\n"
     ]
    }
   ],
   "source": [
    "# function without argument or return type \n",
    "\n",
    "l = int(input(\"enter l = \"))  \n",
    "b = int(input(\"enter b = \")) \n",
    "h = int(input(\"enter h = \"))\n",
    "def area ():\n",
    "   \n",
    "    a = l*b                      \n",
    "    print (a)\n",
    "    \n",
    "def volume():\n",
    "    v = l*b*h\n",
    "    print (v)\n",
    "    \n",
    "area()\n",
    "volume()       \n"
   ]
  },
  {
   "cell_type": "code",
   "execution_count": 11,
   "id": "be1ad9ea",
   "metadata": {},
   "outputs": [
    {
     "name": "stdout",
     "output_type": "stream",
     "text": [
      "50\n"
     ]
    }
   ],
   "source": [
    "def area(l,b): #(l,b) are parameter\n",
    "    a = l*b\n",
    "    print (a)\n",
    "    \n",
    "area(10,5)  #(10,5) is argument"
   ]
  },
  {
   "cell_type": "code",
   "execution_count": 14,
   "id": "8eed72bb",
   "metadata": {},
   "outputs": [
    {
     "name": "stdout",
     "output_type": "stream",
     "text": [
      "enter p = 5\n",
      "enter t = 4\n",
      "enter r = 2\n",
      "0.4\n"
     ]
    }
   ],
   "source": [
    "# functions with argument\n",
    "\n",
    "def cal (x,y,z):\n",
    "    i = x*y*z / 100\n",
    "    print (i)\n",
    "    \n",
    "p = int (input(\"enter p = \"))\n",
    "t = int (input(\"enter t = \"))\n",
    "r = int (input(\"enter r = \"))\n",
    "\n",
    "cal (p,t,r)"
   ]
  },
  {
   "cell_type": "code",
   "execution_count": 5,
   "id": "dc64e8c9",
   "metadata": {},
   "outputs": [
    {
     "name": "stdout",
     "output_type": "stream",
     "text": [
      "enter a number = 2\n",
      "enter another number = 8\n",
      "enter + - * / /\n",
      "0.25\n"
     ]
    }
   ],
   "source": [
    "#basic calculator using ifelse\n",
    "a = int (input (\"enter a number = \"))\n",
    "b = int ( input (\"enter another number = \"))\n",
    "o = input (\"enter + - * / \")\n",
    "if o == \"+\":\n",
    "    print (a + b)\n",
    "elif o == \"-\":\n",
    "    print (a-b)\n",
    "elif o == \"*\" :\n",
    "    print (a*b)\n",
    "elif o == \"/\":\n",
    "    if b!= 0:\n",
    "        print (a/b)\n",
    "    else:\n",
    "        print (\"the value of b cannot be zero\")\n",
    "else:\n",
    "    print (\"invalid operator\")\n",
    "    "
   ]
  },
  {
   "cell_type": "code",
   "execution_count": 18,
   "id": "21e5799b",
   "metadata": {
    "scrolled": true
   },
   "outputs": [
    {
     "name": "stdout",
     "output_type": "stream",
     "text": [
      "enter a number = 2\n",
      "enter another number = 3\n",
      "enter + - * / *\n",
      "6\n"
     ]
    }
   ],
   "source": [
    "#basic calculator using function\n",
    "a = int (input (\"enter a number = \"))\n",
    "b = int ( input (\"enter another number = \"))\n",
    "o = input (\"enter + - * / \")\n",
    "\n",
    "def cal():\n",
    "    if o == \"+\":\n",
    "        print (a + b)\n",
    "    elif o == \"-\":\n",
    "        print (a-b)\n",
    "    elif o == \"*\" :\n",
    "        print (a*b)\n",
    "    elif o == \"/\":\n",
    "        print (a/b)\n",
    "    else:\n",
    "        print (\"invalid operator\")\n",
    "    \n",
    "cal ()"
   ]
  },
  {
   "cell_type": "code",
   "execution_count": 37,
   "id": "fe96937d",
   "metadata": {},
   "outputs": [
    {
     "name": "stdout",
     "output_type": "stream",
     "text": [
      "enter a number = 2\n",
      "enter another number = 3\n",
      "enter + - * / /\n",
      "0.6666666666666666\n"
     ]
    }
   ],
   "source": [
    "#function with argument\n",
    "def cal(a,b,o):\n",
    "    if o == \"+\":\n",
    "        print (a + b)\n",
    "    elif o == \"-\":\n",
    "        print (a-b)\n",
    "    elif o == \"*\" :\n",
    "        print (a*b)\n",
    "    elif o == \"/\":\n",
    "        print (a/b)\n",
    "    else:\n",
    "        print (\"invalid operator\")\n",
    "\n",
    "a = int (input (\"enter a number = \"))\n",
    "b = int ( input (\"enter another number = \"))\n",
    "o = input (\"enter + - * / \")\n",
    "\n",
    "cal (a,b,o)"
   ]
  },
  {
   "cell_type": "code",
   "execution_count": 41,
   "id": "febaca53",
   "metadata": {},
   "outputs": [
    {
     "name": "stdout",
     "output_type": "stream",
     "text": [
      "hello world\n",
      "hello world i am python\n"
     ]
    }
   ],
   "source": [
    "#return type function\n",
    "\n",
    "def hello():\n",
    "    return (\"hello world\")\n",
    "    \n",
    "x = hello()\n",
    "print (x)\n",
    "print (x, \"i am python\")"
   ]
  },
  {
   "cell_type": "code",
   "execution_count": 46,
   "id": "49309cc5",
   "metadata": {},
   "outputs": [
    {
     "name": "stdout",
     "output_type": "stream",
     "text": [
      "50\n",
      "100\n"
     ]
    }
   ],
   "source": [
    "def cal():\n",
    "    l = 10\n",
    "    b = 5\n",
    "    a = l*b\n",
    "    return a\n",
    "\n",
    "area = cal()\n",
    "print (area)\n",
    "h = 2\n",
    "v = area*h\n",
    "print (v)"
   ]
  },
  {
   "cell_type": "code",
   "execution_count": 51,
   "id": "7c402a66",
   "metadata": {},
   "outputs": [
    {
     "name": "stdout",
     "output_type": "stream",
     "text": [
      "the area is =  50\n",
      "the volume is =  150\n"
     ]
    }
   ],
   "source": [
    "def cal():\n",
    "    l = 10\n",
    "    b = 5\n",
    "    h = 3\n",
    "    a = l*b\n",
    "    v = a*h\n",
    "    return a,v\n",
    "\n",
    "area, vol = cal()\n",
    "print(\"the area is = \", area)\n",
    "print (\"the volume is = \",vol)\n",
    "\n"
   ]
  },
  {
   "cell_type": "code",
   "execution_count": null,
   "id": "46488c51",
   "metadata": {},
   "outputs": [],
   "source": []
  }
 ],
 "metadata": {
  "kernelspec": {
   "display_name": "Python 3 (ipykernel)",
   "language": "python",
   "name": "python3"
  },
  "language_info": {
   "codemirror_mode": {
    "name": "ipython",
    "version": 3
   },
   "file_extension": ".py",
   "mimetype": "text/x-python",
   "name": "python",
   "nbconvert_exporter": "python",
   "pygments_lexer": "ipython3",
   "version": "3.9.7"
  }
 },
 "nbformat": 4,
 "nbformat_minor": 5
}
