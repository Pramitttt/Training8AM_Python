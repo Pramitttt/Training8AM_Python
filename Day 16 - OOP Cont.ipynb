{
 "cells": [
  {
   "cell_type": "code",
   "execution_count": 2,
   "id": "79e10d52",
   "metadata": {},
   "outputs": [
    {
     "name": "stdout",
     "output_type": "stream",
     "text": [
      "50\n",
      "100\n"
     ]
    }
   ],
   "source": [
    "class Area:\n",
    "    def __init__(self,l,b):\n",
    "        self.length = l\n",
    "        self.breadth = b\n",
    "    \n",
    "        \n",
    "    def area (self):\n",
    "        a = self.length*self.breadth\n",
    "        return a\n",
    "    \n",
    "class Volume: \n",
    "    def __init__(self,l,b,h):\n",
    "        self.l = l\n",
    "        self.b = b\n",
    "        self.h = h\n",
    "        \n",
    "    def volume(self):\n",
    "        v = self.l*self.b*self.h\n",
    "        return v\n",
    "        \n",
    "        \n",
    "obj1 = Area (10,5)\n",
    "obj2 = Volume(10,5,2)\n",
    "print(obj1.area())\n",
    "print(obj2.volume())\n"
   ]
  },
  {
   "cell_type": "code",
   "execution_count": null,
   "id": "63fd5f71",
   "metadata": {},
   "outputs": [],
   "source": [
    "# value return and object return"
   ]
  },
  {
   "cell_type": "code",
   "execution_count": 11,
   "id": "842f047a",
   "metadata": {},
   "outputs": [
    {
     "name": "stdout",
     "output_type": "stream",
     "text": [
      "enter name = Raju\n",
      "enter age = 29\n",
      "enter add = Ktm\n",
      "Raju\n",
      "Hello world i am Raju. i am from Ktm. i am 29\n",
      "<class '__main__.Info'>\n",
      "<class 'str'>\n"
     ]
    }
   ],
   "source": [
    "class Info:\n",
    "    def __init__ (self,name,age,add):\n",
    "        self.name = name\n",
    "        self.age = age\n",
    "        self.add = add\n",
    "        \n",
    "    def info(self):\n",
    "        return f\"Hello world i am {self.name}. i am from {self.add}. i am {self.age}\"\n",
    "    \n",
    "    def __str__(self): #lass ma bhayeko value return garna kam lagcha, as a boject return garcha!!\n",
    "        return self.name\n",
    "\n",
    "name = input (\"enter name = \")\n",
    "age = int(input(\"enter age = \"))\n",
    "add = input(\"enter add = \")\n",
    "\n",
    "obj = Info(name,age,add)\n",
    "print(obj)\n",
    "print(obj.info())\n",
    "\n",
    "print(type(obj))\n",
    "print(type(obj.info()))"
   ]
  },
  {
   "cell_type": "code",
   "execution_count": 13,
   "id": "702cfe9c",
   "metadata": {},
   "outputs": [
    {
     "name": "stdout",
     "output_type": "stream",
     "text": [
      "enter name = Krishna\n",
      "enter age = 35\n",
      "enter add = Bkt\n",
      "Krishna\n",
      "Hello world i am Krishna. i am from Bkt. i am 35\n",
      "<class '__main__.Info'>\n",
      "Krishna\n",
      "Krishna\n",
      "<class 'str'>\n"
     ]
    }
   ],
   "source": [
    "class Info:\n",
    "    def __init__ (self,name,age,add):\n",
    "        self.name = name\n",
    "        self.age = age\n",
    "        self.add = add\n",
    "        \n",
    "    def info(self):\n",
    "        return f\"Hello world i am {self.name}. i am from {self.add}. i am {self.age}\"\n",
    "    \n",
    "    def __str__(self): #lass ma bhayeko value return garna kam lagcha, as a boject return garcha!!\n",
    "        return self.name\n",
    "\n",
    "name = input (\"enter name = \")\n",
    "age = int(input(\"enter age = \"))\n",
    "add = input(\"enter add = \")\n",
    "\n",
    "obj = Info(name,age,add)\n",
    "print(obj)\n",
    "print(obj.info())\n",
    "\n",
    "print(type(obj))\n",
    "print(obj.__str__())\n",
    "print(str(obj))\n",
    "print(type(obj.info()))"
   ]
  },
  {
   "cell_type": "code",
   "execution_count": null,
   "id": "aeb733a7",
   "metadata": {},
   "outputs": [],
   "source": []
  }
 ],
 "metadata": {
  "kernelspec": {
   "display_name": "Python 3 (ipykernel)",
   "language": "python",
   "name": "python3"
  },
  "language_info": {
   "codemirror_mode": {
    "name": "ipython",
    "version": 3
   },
   "file_extension": ".py",
   "mimetype": "text/x-python",
   "name": "python",
   "nbconvert_exporter": "python",
   "pygments_lexer": "ipython3",
   "version": "3.9.7"
  }
 },
 "nbformat": 4,
 "nbformat_minor": 5
}
