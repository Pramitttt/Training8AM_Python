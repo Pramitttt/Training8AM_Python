{
 "cells": [
  {
   "cell_type": "code",
   "execution_count": null,
   "id": "77f0872f",
   "metadata": {},
   "outputs": [],
   "source": [
    "#list comprehensions: List, Dictonary\n"
   ]
  },
  {
   "cell_type": "code",
   "execution_count": 3,
   "id": "a0387f46",
   "metadata": {},
   "outputs": [
    {
     "data": {
      "text/plain": [
       "[1, 2, 3, 4, 5, 6, 7, 8, 9, 10]"
      ]
     },
     "execution_count": 3,
     "metadata": {},
     "output_type": "execute_result"
    }
   ],
   "source": [
    "l = []\n",
    "for i in range (1,11):\n",
    "    l.append(i)\n",
    "    \n",
    "l"
   ]
  },
  {
   "cell_type": "code",
   "execution_count": 5,
   "id": "f37d2022",
   "metadata": {},
   "outputs": [
    {
     "data": {
      "text/plain": [
       "[1, 2, 3, 4, 5, 6, 7, 8, 9, 10]"
      ]
     },
     "execution_count": 5,
     "metadata": {},
     "output_type": "execute_result"
    }
   ],
   "source": [
    "a =[i for i in range (1,11)]\n",
    "a"
   ]
  },
  {
   "cell_type": "code",
   "execution_count": 7,
   "id": "2122e2cd",
   "metadata": {},
   "outputs": [
    {
     "data": {
      "text/plain": [
       "[5, 8, 13, 20, 29, 40, 53, 68, 85, 104]"
      ]
     },
     "execution_count": 7,
     "metadata": {},
     "output_type": "execute_result"
    }
   ],
   "source": [
    "a =[i**2+4 for i in range (1,11)]\n",
    "a"
   ]
  },
  {
   "cell_type": "code",
   "execution_count": 9,
   "id": "421598d5",
   "metadata": {},
   "outputs": [
    {
     "data": {
      "text/plain": [
       "[2, 4, 6, 8, 10]"
      ]
     },
     "execution_count": 9,
     "metadata": {},
     "output_type": "execute_result"
    }
   ],
   "source": [
    "a = [1,2,3,4,5,6,7,8,9,10]\n",
    "b = [i for i in a if i%2 == 0]\n",
    "b"
   ]
  },
  {
   "cell_type": "code",
   "execution_count": 13,
   "id": "a561557e",
   "metadata": {},
   "outputs": [
    {
     "data": {
      "text/plain": [
       "['Ball', 'Cat']"
      ]
     },
     "execution_count": 13,
     "metadata": {},
     "output_type": "execute_result"
    }
   ],
   "source": [
    "a = [\"apple\",\"Ball\",\"Cat\", \"doggie\", \"fish\"]\n",
    "v = [i for i in a if i[0].isupper()] #i[0]= suru ko letter only \n",
    "v"
   ]
  },
  {
   "cell_type": "code",
   "execution_count": 15,
   "id": "eb7bda19",
   "metadata": {},
   "outputs": [
    {
     "data": {
      "text/plain": [
       "{1: 1, 2: 4, 3: 9, 4: 16, 5: 25, 6: 36, 7: 49, 8: 64, 9: 81, 10: 100}"
      ]
     },
     "execution_count": 15,
     "metadata": {},
     "output_type": "execute_result"
    }
   ],
   "source": [
    "a= {i:i**2 for i in range (1,11)}\n",
    "a"
   ]
  },
  {
   "cell_type": "code",
   "execution_count": 16,
   "id": "8f85f843",
   "metadata": {},
   "outputs": [
    {
     "data": {
      "text/plain": [
       "{'apple': 'apple',\n",
       " 'Ball': 'ball',\n",
       " 'Cat': 'cat',\n",
       " 'doggie': 'doggie',\n",
       " 'fish': 'fish'}"
      ]
     },
     "execution_count": 16,
     "metadata": {},
     "output_type": "execute_result"
    }
   ],
   "source": [
    "a = [\"apple\",\"Ball\",\"Cat\", \"doggie\", \"fish\"]\n",
    "b = {i:i.lower() for i in a}\n",
    "b"
   ]
  },
  {
   "cell_type": "code",
   "execution_count": null,
   "id": "42ddb81d",
   "metadata": {},
   "outputs": [],
   "source": [
    "#OS Package"
   ]
  },
  {
   "cell_type": "code",
   "execution_count": 19,
   "id": "4ef863de",
   "metadata": {},
   "outputs": [
    {
     "name": "stdout",
     "output_type": "stream",
     "text": [
      "Already deleted\n"
     ]
    }
   ],
   "source": [
    "import os\n",
    "try:\n",
    "    os.remove('covid_data.csv')\n",
    "    print(\"success\")\n",
    "except:\n",
    "    print(\"Already deleted\")\n"
   ]
  },
  {
   "cell_type": "code",
   "execution_count": 20,
   "id": "ec2df627",
   "metadata": {},
   "outputs": [],
   "source": [
    "#mkdir chdir list_dir\n",
    "os.mkdir(\"Hello\")"
   ]
  },
  {
   "cell_type": "code",
   "execution_count": 21,
   "id": "0d08c86f",
   "metadata": {},
   "outputs": [],
   "source": [
    "os.chdir(\"Hello\")"
   ]
  },
  {
   "cell_type": "code",
   "execution_count": 22,
   "id": "02b31302",
   "metadata": {},
   "outputs": [
    {
     "data": {
      "text/plain": [
       "'C:\\\\Users\\\\hp\\\\Python8AM\\\\Hello'"
      ]
     },
     "execution_count": 22,
     "metadata": {},
     "output_type": "execute_result"
    }
   ],
   "source": [
    "pwd"
   ]
  },
  {
   "cell_type": "code",
   "execution_count": 23,
   "id": "6ecb5613",
   "metadata": {},
   "outputs": [
    {
     "name": "stdout",
     "output_type": "stream",
     "text": [
      "C:\\Users\\hp\\Python8AM\n"
     ]
    }
   ],
   "source": [
    "cd .."
   ]
  },
  {
   "cell_type": "code",
   "execution_count": 26,
   "id": "6ae79d7e",
   "metadata": {},
   "outputs": [
    {
     "data": {
      "text/plain": [
       "['.ipynb_checkpoints',\n",
       " 'Assignment 1.ipynb',\n",
       " 'Control Statement.ipynb',\n",
       " 'covid_data1.csv',\n",
       " 'data.csv',\n",
       " 'data.txt',\n",
       " 'datas.txt',\n",
       " 'dataz.csv',\n",
       " 'dataz.txt',\n",
       " 'Day 1 - Basics.ipynb',\n",
       " 'Day 10 -  Dict inside Dict .ipynb',\n",
       " 'Day 10 - Set.ipynb',\n",
       " 'Day 11 - Function.ipynb',\n",
       " 'Day 12 - Function continue.ipynb',\n",
       " 'Day 13 - File Handeling.ipynb',\n",
       " 'Day 14 - PANDAS.ipynb',\n",
       " 'Day 15 - OOP in Python.ipynb',\n",
       " 'Day 16 - OOP Cont.ipynb',\n",
       " 'Day 17 -  Inheritance .ipynb',\n",
       " 'Day 18 -  Incapsulation.ipynb',\n",
       " 'Day 19 -20 - Database.ipynb',\n",
       " 'Day 2 - ifelse.ipynb',\n",
       " 'Day 21 - My SQL.ipynb',\n",
       " 'Day 22-23  - WEB SCRAPPING.ipynb',\n",
       " 'Day 24 - Bonus Topic.ipynb',\n",
       " 'Day 24 - Project First Draft.ipynb',\n",
       " 'Day 3 - Loop.ipynb',\n",
       " 'Day 4 - For and while comparision.ipynb',\n",
       " 'Day 5 - String.ipynb',\n",
       " 'Day 6 - Introduction to List.ipynb',\n",
       " 'Day 7 -  List (Delete,  List inside List, Logical).ipynb',\n",
       " 'Day 8 - Tuple.ipynb',\n",
       " 'Day 9 - Dictionary.ipynb',\n",
       " 'Day-2 practice session .ipynb',\n",
       " 'Hello',\n",
       " 'neew_file1.csv',\n",
       " 'new_data.csv',\n",
       " 'Practice day 2.ipynb',\n",
       " 'Untitled.ipynb',\n",
       " 'webdata1.csv',\n",
       " 'web_scrapping_8am.ipynb']"
      ]
     },
     "execution_count": 26,
     "metadata": {},
     "output_type": "execute_result"
    }
   ],
   "source": [
    "os.listdir()"
   ]
  },
  {
   "cell_type": "code",
   "execution_count": 28,
   "id": "607e57ca",
   "metadata": {},
   "outputs": [],
   "source": [
    "os.rmdir('Hello')"
   ]
  },
  {
   "cell_type": "code",
   "execution_count": null,
   "id": "2d89491b",
   "metadata": {},
   "outputs": [],
   "source": [
    "# PYTHON - DATE AND TIME"
   ]
  },
  {
   "cell_type": "code",
   "execution_count": 35,
   "id": "0d42f917",
   "metadata": {},
   "outputs": [
    {
     "name": "stdout",
     "output_type": "stream",
     "text": [
      "Hello World\n",
      "Hello World\n",
      "Hello World\n",
      "Hello World\n",
      "Hello World\n",
      "0:00:00\n"
     ]
    }
   ],
   "source": [
    "import datetime\n",
    "\n",
    "x = datetime.datetime.now()\n",
    "for i in range(5):\n",
    "    print(\"Hello World\")\n",
    "y = datetime.datetime.now()\n",
    "print(y-x)"
   ]
  },
  {
   "cell_type": "code",
   "execution_count": 41,
   "id": "f9b984f0",
   "metadata": {},
   "outputs": [
    {
     "name": "stdout",
     "output_type": "stream",
     "text": [
      "enter name = pramit\n",
      "0:00:00.697598\n"
     ]
    }
   ],
   "source": [
    "import datetime\n",
    "\n",
    "x = datetime.datetime.now()\n",
    "name = input (\"enter name = \")\n",
    "y = datetime.datetime.now()\n",
    "\n",
    "print(y-x)"
   ]
  },
  {
   "cell_type": "code",
   "execution_count": 48,
   "id": "501c324d",
   "metadata": {},
   "outputs": [
    {
     "name": "stdout",
     "output_type": "stream",
     "text": [
      "Tue Jun 14 09:15:16 2022\n"
     ]
    }
   ],
   "source": [
    "import datetime\n",
    "\n",
    "x = datetime.datetime.now()\n",
    "\n",
    "\n",
    "print(x.strftime(\"%c\"))"
   ]
  },
  {
   "cell_type": "code",
   "execution_count": null,
   "id": "99b74002",
   "metadata": {},
   "outputs": [],
   "source": [
    "\n"
   ]
  }
 ],
 "metadata": {
  "kernelspec": {
   "display_name": "Python 3 (ipykernel)",
   "language": "python",
   "name": "python3"
  },
  "language_info": {
   "codemirror_mode": {
    "name": "ipython",
    "version": 3
   },
   "file_extension": ".py",
   "mimetype": "text/x-python",
   "name": "python",
   "nbconvert_exporter": "python",
   "pygments_lexer": "ipython3",
   "version": "3.9.7"
  }
 },
 "nbformat": 4,
 "nbformat_minor": 5
}
