{
 "cells": [
  {
   "cell_type": "code",
   "execution_count": null,
   "id": "e90f79d0",
   "metadata": {},
   "outputs": [],
   "source": [
    "# Inheritance -  euta class ma bhayeko attribute arko class le share garna kojcha bhane we use inheritance."
   ]
  },
  {
   "cell_type": "code",
   "execution_count": null,
   "id": "1077c88f",
   "metadata": {},
   "outputs": [],
   "source": [
    "#EXAMPLE\n",
    "class A:\n",
    "    pass\n",
    "\n",
    "class B(A):\n",
    "    pass\n",
    "\n",
    "obj = B()"
   ]
  },
  {
   "cell_type": "code",
   "execution_count": 11,
   "id": "feecaa1e",
   "metadata": {},
   "outputs": [
    {
     "name": "stdout",
     "output_type": "stream",
     "text": [
      "enter name = Pramit\n",
      "enter address = Thamel\n",
      "Hello World, i am Pramit. i live in Thamel.\n",
      "Pramit\n",
      "Thamel\n"
     ]
    }
   ],
   "source": [
    "class Info:                                   #parent class\n",
    "    def __init__ (self):\n",
    "        self.name = input (\"enter name = \")\n",
    "        self.add = input(\"enter address = \")\n",
    "\n",
    "class Data(Info):                            #child class\n",
    "    def data(self):\n",
    "        print (f\"Hello World, i am {self.name}. i live in {self.add}.\")\n",
    "        \n",
    "obj = Data()\n",
    "obj.data()\n",
    "print(obj.name)\n",
    "print(obj.add)\n"
   ]
  },
  {
   "cell_type": "code",
   "execution_count": 6,
   "id": "5b281a50",
   "metadata": {},
   "outputs": [
    {
     "name": "stdout",
     "output_type": "stream",
     "text": [
      "enter name = Raju\n",
      "enter address = Jhapa\n",
      "enter phone no = 1234567\n",
      "enter ward no = 5.5\n",
      "Hello World, i am Raju. i live in Jhapa. My contact detail is 1234567. my ward no is 5.5\n",
      "Raju\n",
      "Jhapa\n",
      "1234567\n",
      "5.5\n"
     ]
    }
   ],
   "source": [
    "class Info:                                   #parent class\n",
    "    def __init__ (self,name,add, phone,ward):\n",
    "        self.name = name\n",
    "        self.add = add\n",
    "        self.phone = phone\n",
    "        self.ward = ward\n",
    "        \n",
    "\n",
    "class Data(Info):                            #child class\n",
    "    def data(self):\n",
    "        print (f\"Hello World, i am {self.name}. i live in {self.add}. My contact detail is {self.phone}. my ward no is {self.ward}\")\n",
    "        \n",
    "name = input (\"enter name = \")\n",
    "add = input(\"enter address = \")\n",
    "phone = int(input(\"enter phone no = \"))\n",
    "ward = float(input(\"enter ward no = \"))\n",
    "        \n",
    "obj = Data(name,add,phone,ward)\n",
    "obj.data()\n",
    "print(obj.name)\n",
    "print(obj.add)\n",
    "print(obj.phone)\n",
    "print(obj.ward)\n"
   ]
  },
  {
   "cell_type": "code",
   "execution_count": 15,
   "id": "a33a987b",
   "metadata": {},
   "outputs": [
    {
     "name": "stdout",
     "output_type": "stream",
     "text": [
      "enter name = Ramesh\n",
      "enter address = lalitpur\n",
      "enter phone no = 12344444\n",
      "enter ward no = 21\n",
      "Hello World, i am Ramesh. i live in lalitpur. My contact detail is 12344444. my ward no is 21.0\n",
      "Hello i am from lalitpur, my number is 12344444 and my ward is 21.0\n",
      "Hello i am from kathmandu, my number is 980000400 and my ward is 12\n",
      "Ramesh\n",
      "lalitpur\n",
      "12344444\n",
      "21.0\n"
     ]
    }
   ],
   "source": [
    "class Info:                                   #parent class\n",
    "    def __init__ (self,add, phone,ward):\n",
    "        self.add = add\n",
    "        self.phone = phone\n",
    "        self.ward = ward\n",
    "    def info(self):\n",
    "        print(f\"Hello i am from {self.add}, my number is {self.phone} and my ward is {self.ward}\")\n",
    "\n",
    "class Data(Info):\n",
    "    def __init__(self,name,add,phone,ward): #prtially initialize\n",
    "        self.name = name\n",
    "        Info.__init__(self,add,phone,ward) # add,phone ra ward lai mathi  ko class bata initialize garna we do this step\n",
    "        \n",
    "    def data(self):\n",
    "        print (f\"Hello World, i am {self.name}. i live in {self.add}. My contact detail is {self.phone}. my ward no is {self.ward}\")\n",
    "        \n",
    "name = input (\"enter name = \")\n",
    "add = input(\"enter address = \")\n",
    "phone = int(input(\"enter phone no = \"))\n",
    "ward = float(input(\"enter ward no = \"))\n",
    "        \n",
    "obj = Data(name,add,phone,ward)\n",
    "obj.data()\n",
    "obj.info()\n",
    "obj1 = Info (\"kathmandu\",980000400,12)\n",
    "obj1.info()\n",
    "print(obj.name)\n",
    "print(obj.add)\n",
    "print(obj.phone)\n",
    "print(obj.ward)\n"
   ]
  },
  {
   "cell_type": "code",
   "execution_count": null,
   "id": "407a2fb6",
   "metadata": {},
   "outputs": [],
   "source": [
    "# multi - level = sending the value to upper class "
   ]
  },
  {
   "cell_type": "code",
   "execution_count": 16,
   "id": "c1c670ab",
   "metadata": {},
   "outputs": [
    {
     "name": "stdout",
     "output_type": "stream",
     "text": [
      "enter name = Pooja\n",
      "enter address = Balaju\n",
      "enter phone no = 4700298\n",
      "enter ward no = 16\n",
      "Hello World, i am Pooja. i live in Balaju. My contact detail is 4700298. my ward no is 16.0\n",
      "Hello i am from Balaju, my number is 4700298 and my ward is 16.0\n",
      "Hello i am from kathmandu, my number is 980000400 and my ward is 12\n"
     ]
    }
   ],
   "source": [
    "class Contact:\n",
    "    def __init__(self,phone):\n",
    "        self.phone = phone\n",
    "        \n",
    "class Info(Contact):                                   #parent class\n",
    "    def __init__ (self,add, phone,ward):\n",
    "        self.add = add\n",
    "        Contact.__init__(self,phone)\n",
    "        self.ward = ward\n",
    "        \n",
    "    def info(self):\n",
    "        print(f\"Hello i am from {self.add}, my number is {self.phone} and my ward is {self.ward}\")\n",
    "\n",
    "class Data(Info):\n",
    "    def __init__(self,name,add,phone,ward): #prtially initialize\n",
    "        self.name = name\n",
    "        Info.__init__(self,add,phone,ward) # add,phone ra ward lai mathi  ko class bata initialize garna we do this step\n",
    "        \n",
    "    def data(self):\n",
    "        print (f\"Hello World, i am {self.name}. i live in {self.add}. My contact detail is {self.phone}. my ward no is {self.ward}\")\n",
    "        \n",
    "name = input (\"enter name = \")\n",
    "add = input(\"enter address = \")\n",
    "phone = int(input(\"enter phone no = \"))\n",
    "ward = float(input(\"enter ward no = \"))\n",
    "        \n",
    "obj = Data(name,add,phone,ward)\n",
    "obj.data()\n",
    "obj.info()\n",
    "obj1 = Info (\"kathmandu\",980000400,12)\n",
    "obj1.info()\n",
    "\n"
   ]
  },
  {
   "cell_type": "code",
   "execution_count": null,
   "id": "2e5f379f",
   "metadata": {},
   "outputs": [],
   "source": [
    "# Multiple (practically used more)"
   ]
  },
  {
   "cell_type": "code",
   "execution_count": 1,
   "id": "f038807b",
   "metadata": {},
   "outputs": [
    {
     "name": "stdout",
     "output_type": "stream",
     "text": [
      "enter name = abhishek\n",
      "enter address = durbar margh\n",
      "enter phone no = 987898989\n",
      "enter ward no = 13.2\n",
      "Hello World, i am abhishek. i live in durbar margh. My contact detail is 987898989. my ward no is 13.2\n",
      "Hello i am from durbar margh and my ward is 13.2\n"
     ]
    }
   ],
   "source": [
    "class Contact:\n",
    "    def __init__(self,phone):\n",
    "        self.phone = phone\n",
    "        \n",
    "class Info:                                   #parent class\n",
    "    def __init__ (self,add,ward):\n",
    "        self.add = add\n",
    "        self.ward = ward\n",
    "        \n",
    "    def info(self):\n",
    "        print(f\"Hello i am from {self.add} and my ward is {self.ward}\")\n",
    "\n",
    "class Data(Info,Contact):\n",
    "    def __init__(self,name,add,phone,ward): #prtially initialize\n",
    "        self.name = name\n",
    "        Info.__init__(self,add,ward) # add,phone ra ward lai mathi  ko class bata initialize garna we do this step\n",
    "        Contact.__init__(self,phone)\n",
    "        \n",
    "    def data(self):\n",
    "        print (f\"Hello World, i am {self.__name}. i live in {self._add}. My contact detail is {self.phone}. my ward no is {self.ward}\")\n",
    "        \n",
    "name = input (\"enter name = \")\n",
    "add = input(\"enter address = \")\n",
    "phone = int(input(\"enter phone no = \"))\n",
    "ward = float(input(\"enter ward no = \"))\n",
    "        \n",
    "obj = Data(name,add,phone,ward)\n",
    "obj.data()\n",
    "obj.info()\n",
    "\n",
    "\n"
   ]
  },
  {
   "cell_type": "code",
   "execution_count": null,
   "id": "31f832ed",
   "metadata": {},
   "outputs": [],
   "source": []
  }
 ],
 "metadata": {
  "kernelspec": {
   "display_name": "Python 3 (ipykernel)",
   "language": "python",
   "name": "python3"
  },
  "language_info": {
   "codemirror_mode": {
    "name": "ipython",
    "version": 3
   },
   "file_extension": ".py",
   "mimetype": "text/x-python",
   "name": "python",
   "nbconvert_exporter": "python",
   "pygments_lexer": "ipython3",
   "version": "3.9.7"
  }
 },
 "nbformat": 4,
 "nbformat_minor": 5
}
