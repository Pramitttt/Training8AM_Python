{
 "cells": [
  {
   "cell_type": "code",
   "execution_count": null,
   "id": "88b1dc6d",
   "metadata": {},
   "outputs": [],
   "source": [
    "# Tuple\n",
    "# - indexxed\n",
    "# - ordered\n",
    "# - duplicate and multiple value\n",
    "# - imutable\n"
   ]
  },
  {
   "cell_type": "code",
   "execution_count": 11,
   "id": "fa014676",
   "metadata": {},
   "outputs": [
    {
     "name": "stdout",
     "output_type": "stream",
     "text": [
      "<class 'tuple'>\n",
      "<class 'tuple'>\n",
      "(1, 2, 3, 4)\n",
      "('apple', 'ball', 'cat', 'dog')\n"
     ]
    }
   ],
   "source": [
    "#Tuple is always inside small bracket\n",
    "a = (1,2,3,4)\n",
    "b = (\"apple\", \"ball\", \"cat\", \"dog\",)\n",
    "print (type (a))\n",
    "print (type(b))\n",
    "print(a)\n",
    "print(b)"
   ]
  },
  {
   "cell_type": "code",
   "execution_count": 3,
   "id": "a13806b6",
   "metadata": {},
   "outputs": [
    {
     "name": "stdout",
     "output_type": "stream",
     "text": [
      "apple\n"
     ]
    }
   ],
   "source": [
    "b = (\"apple\", \"ball\", \"cat\", \"dog\")\n",
    "print(b[0])"
   ]
  },
  {
   "cell_type": "code",
   "execution_count": 4,
   "id": "277e4d48",
   "metadata": {},
   "outputs": [
    {
     "name": "stdout",
     "output_type": "stream",
     "text": [
      "('apple', 'ball')\n"
     ]
    }
   ],
   "source": [
    "b = (\"apple\", \"ball\", \"cat\", \"dog\")\n",
    "print(b[0:2]) #index"
   ]
  },
  {
   "cell_type": "code",
   "execution_count": 6,
   "id": "78e098be",
   "metadata": {},
   "outputs": [
    {
     "name": "stdout",
     "output_type": "stream",
     "text": [
      "(1, 2, 3, 4, 5, 'apple', 'rat', 'ball', 'cat', 'dog')\n"
     ]
    }
   ],
   "source": [
    "b = (\"apple\", \"rat\", \"ball\", \"cat\", \"dog\")\n",
    "a = (1,2,3,4,5)\n",
    "c = a + b\n",
    "print (c)"
   ]
  },
  {
   "cell_type": "code",
   "execution_count": 7,
   "id": "2e4ff629",
   "metadata": {},
   "outputs": [
    {
     "data": {
      "text/plain": [
       "('apple', 'ball', 'cat', 'dog', 'dog')"
      ]
     },
     "execution_count": 7,
     "metadata": {},
     "output_type": "execute_result"
    }
   ],
   "source": [
    "b = (\"apple\", \"ball\", \"cat\", \"dog\",\"dog\")  #multiple value like dog\n",
    "b"
   ]
  },
  {
   "cell_type": "code",
   "execution_count": 10,
   "id": "13860afd",
   "metadata": {},
   "outputs": [
    {
     "name": "stdout",
     "output_type": "stream",
     "text": [
      "(1,)\n",
      "<class 'tuple'>\n"
     ]
    }
   ],
   "source": [
    "a = (1,) #if youre assigning just one value then add one comma, or even if its multiple value add one comma at the end (MUST)\n",
    "print(a)\n",
    "print(type(a))"
   ]
  },
  {
   "cell_type": "code",
   "execution_count": null,
   "id": "4b006565",
   "metadata": {},
   "outputs": [],
   "source": [
    "# in tuple we cannot perform tasks like list such as append (), insert (), extend ()\n",
    "# no update\n",
    "# no delete or remove or pop\n",
    "# no sort \n",
    "# once tuple is created its there forever\n"
   ]
  },
  {
   "cell_type": "code",
   "execution_count": 13,
   "id": "a0d04158",
   "metadata": {},
   "outputs": [
    {
     "data": {
      "text/plain": [
       "('apple', 'ball', 'cat')"
      ]
     },
     "execution_count": 13,
     "metadata": {},
     "output_type": "execute_result"
    }
   ],
   "source": [
    "a = ()\n",
    "b = (\"apple\",)\n",
    "c = (\"ball\",)\n",
    "d = (\"cat\",)\n",
    "a = a +b + c +d\n",
    "\n",
    "a #concate is possible with comma in the end\n"
   ]
  },
  {
   "cell_type": "code",
   "execution_count": 14,
   "id": "1d572f17",
   "metadata": {},
   "outputs": [
    {
     "name": "stdout",
     "output_type": "stream",
     "text": [
      "enter n = 3\n",
      "enter x = 1\n",
      "enter x = 2\n",
      "enter x = 3\n",
      "(1, 2, 3)\n"
     ]
    }
   ],
   "source": [
    "a = ()\n",
    "n = int(input(\"enter n = \"))\n",
    "for i in range (n):\n",
    "    x = int(input(\"enter x = \"))\n",
    "    a = a + (x,) #convert the value of x into tuple by adding (x,)\n",
    "    \n",
    "print (a)"
   ]
  },
  {
   "cell_type": "code",
   "execution_count": 17,
   "id": "1fda4c88",
   "metadata": {},
   "outputs": [
    {
     "data": {
      "text/plain": [
       "['apple', 'ball', 'cat', 'dog']"
      ]
     },
     "execution_count": 17,
     "metadata": {},
     "output_type": "execute_result"
    }
   ],
   "source": [
    "b = (\"apple\", \"ball\", \"cat\", \"dog\")\n",
    "a = list(b)\n",
    "a"
   ]
  },
  {
   "cell_type": "code",
   "execution_count": 18,
   "id": "97f59817",
   "metadata": {},
   "outputs": [
    {
     "data": {
      "text/plain": [
       "('apple', 'ball', 'cat', 'dog')"
      ]
     },
     "execution_count": 18,
     "metadata": {},
     "output_type": "execute_result"
    }
   ],
   "source": [
    "a = ['apple', 'ball', 'cat', 'dog',]\n",
    "a = tuple (a)\n",
    "a"
   ]
  },
  {
   "cell_type": "code",
   "execution_count": 23,
   "id": "094a23c7",
   "metadata": {},
   "outputs": [
    {
     "data": {
      "text/plain": [
       "('ball', 'cat', 'dog')"
      ]
     },
     "execution_count": 23,
     "metadata": {},
     "output_type": "execute_result"
    }
   ],
   "source": [
    "b = (\"apple\", \"ball\", \"cat\", \"dog\")\n",
    "a = list (b)\n",
    "del a[0]\n",
    "a = tuple(a)\n",
    "a"
   ]
  },
  {
   "cell_type": "code",
   "execution_count": 24,
   "id": "8ee3f621",
   "metadata": {},
   "outputs": [
    {
     "data": {
      "text/plain": [
       "(1, 2, 3)"
      ]
     },
     "execution_count": 24,
     "metadata": {},
     "output_type": "execute_result"
    }
   ],
   "source": [
    "#tuple inside tuple\n",
    "a = ((1,2,3),(4,5,6),(7,8,9)) #search,sum,max, min, count, index herna  milcha tuple ma\n",
    "a[0]"
   ]
  },
  {
   "cell_type": "code",
   "execution_count": 4,
   "id": "1700ec0f",
   "metadata": {},
   "outputs": [
    {
     "name": "stdout",
     "output_type": "stream",
     "text": [
      "enter n = 2\n",
      "enter a name = ram\n",
      "enter age = 12\n",
      "enter a address = dang\n",
      "enter a name = sam\n",
      "enter age = 34\n",
      "enter a address = tihar\n",
      "(('ram', 12, 'dang'), ('sam', 34, 'tihar'))\n"
     ]
    }
   ],
   "source": [
    "a = ()\n",
    "n = int(input(\"enter n = \"))\n",
    "for i in range (n):\n",
    "    name = input(\"enter a name = \")\n",
    "    age = int (input (\"enter age = \"))\n",
    "    add = input (\"enter a address = \")\n",
    "    a = a + ((name,age,add), )\n",
    "\n",
    "    \n",
    "print(a)"
   ]
  },
  {
   "cell_type": "code",
   "execution_count": 5,
   "id": "7903904f",
   "metadata": {},
   "outputs": [
    {
     "name": "stdout",
     "output_type": "stream",
     "text": [
      "[2, 4, 5, 60, 100, 234, 333]\n",
      "(234, 333, 4, 5, 60, 2, 100)\n"
     ]
    }
   ],
   "source": [
    "#sorted = first convert into list then only sort \n",
    "a = (234,333,4,5,60,2,100)\n",
    "print(sorted(a)) \n",
    "print(a)"
   ]
  },
  {
   "cell_type": "code",
   "execution_count": 10,
   "id": "52c07f70",
   "metadata": {},
   "outputs": [
    {
     "data": {
      "text/plain": [
       "[('ram', 12, 'dang'), ('sam', 34, 'tihar')]"
      ]
     },
     "execution_count": 10,
     "metadata": {},
     "output_type": "execute_result"
    }
   ],
   "source": [
    "a = (('ram', 12, 'dang'), ('sam', 34, 'tihar'))\n",
    "b = list(a)\n",
    "b"
   ]
  },
  {
   "cell_type": "code",
   "execution_count": 11,
   "id": "73ff5bae",
   "metadata": {},
   "outputs": [
    {
     "data": {
      "text/plain": [
       "[('ram', 12, 'dang'), ('sam', 34, 'tihar'), ('hari', 13, 'india')]"
      ]
     },
     "execution_count": 11,
     "metadata": {},
     "output_type": "execute_result"
    }
   ],
   "source": [
    "b.append((\"hari\",13,\"india\"))\n",
    "b"
   ]
  },
  {
   "cell_type": "code",
   "execution_count": 12,
   "id": "98415e48",
   "metadata": {},
   "outputs": [
    {
     "data": {
      "text/plain": [
       "[('ramaeshwor', 67, 'Bara'), ('sam', 34, 'tihar'), ('hari', 13, 'india')]"
      ]
     },
     "execution_count": 12,
     "metadata": {},
     "output_type": "execute_result"
    }
   ],
   "source": [
    "b [0] = (\"ramaeshwor\", 67,\"Bara\")\n",
    "b"
   ]
  },
  {
   "cell_type": "code",
   "execution_count": 13,
   "id": "48795613",
   "metadata": {},
   "outputs": [
    {
     "data": {
      "text/plain": [
       "[('sam', 34, 'tihar'), ('hari', 13, 'india')]"
      ]
     },
     "execution_count": 13,
     "metadata": {},
     "output_type": "execute_result"
    }
   ],
   "source": [
    "del b[0]\n",
    "b"
   ]
  },
  {
   "cell_type": "code",
   "execution_count": 26,
   "id": "214f7b3d",
   "metadata": {},
   "outputs": [
    {
     "data": {
      "text/plain": [
       "['ramm', ('sam', 34, 'tihar'), ('hari', 13, 'india')]"
      ]
     },
     "execution_count": 26,
     "metadata": {},
     "output_type": "execute_result"
    }
   ],
   "source": [
    "a = [('ramaeshwor', 67, 'Bara'), ('sam', 34, 'tihar'), ('hari', 13, 'india')]\n",
    "a[0]= \"ramm\" #cannot change inside the tuple coz a[0][0] is inside tuple\n",
    "a"
   ]
  },
  {
   "cell_type": "code",
   "execution_count": 21,
   "id": "313acc3c",
   "metadata": {},
   "outputs": [
    {
     "data": {
      "text/plain": [
       "(['ramaeshwor', 67, 'Bara'], ['sam', 34, 'tihar'], ['hari', 13, 'india'])"
      ]
     },
     "execution_count": 21,
     "metadata": {},
     "output_type": "execute_result"
    }
   ],
   "source": [
    "a = (['ramaeshwor', 67, 'Bara'], ['sam', 34, 'tihar'], ['hari', 13, 'india'])\n",
    "a[0] #list\n",
    "a\n"
   ]
  },
  {
   "cell_type": "code",
   "execution_count": 24,
   "id": "2a33556d",
   "metadata": {},
   "outputs": [
    {
     "data": {
      "text/plain": [
       "(['ramaeshwor', 67, 'Bara', 9803098187],\n",
       " ['sam', 34, 'tihar', 9800000000],\n",
       " ['hari', 13, 'india'])"
      ]
     },
     "execution_count": 24,
     "metadata": {},
     "output_type": "execute_result"
    }
   ],
   "source": [
    "a = (['ramaeshwor', 67, 'Bara'], ['sam', 34, 'tihar'], ['hari', 13, 'india'])\n",
    "a[0].append(9803098187)\n",
    "a[1].append(9800000000)\n",
    "a"
   ]
  },
  {
   "cell_type": "code",
   "execution_count": 27,
   "id": "eea5cf68",
   "metadata": {},
   "outputs": [
    {
     "data": {
      "text/plain": [
       "(['ram', 67, 'Bara'], ['sam', 34, 'tihar'], ['hari', 13, 'india'])"
      ]
     },
     "execution_count": 27,
     "metadata": {},
     "output_type": "execute_result"
    }
   ],
   "source": [
    "a = (['ramaeshwor', 67, 'Bara'], ['sam', 34, 'tihar'], ['hari', 13, 'india'])\n",
    "a[0][0]= \"ram\"\n",
    "a"
   ]
  },
  {
   "cell_type": "code",
   "execution_count": null,
   "id": "b74ac220",
   "metadata": {},
   "outputs": [],
   "source": []
  }
 ],
 "metadata": {
  "kernelspec": {
   "display_name": "Python 3 (ipykernel)",
   "language": "python",
   "name": "python3"
  },
  "language_info": {
   "codemirror_mode": {
    "name": "ipython",
    "version": 3
   },
   "file_extension": ".py",
   "mimetype": "text/x-python",
   "name": "python",
   "nbconvert_exporter": "python",
   "pygments_lexer": "ipython3",
   "version": "3.9.7"
  }
 },
 "nbformat": 4,
 "nbformat_minor": 5
}
