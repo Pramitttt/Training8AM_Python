{
 "cells": [
  {
   "cell_type": "code",
   "execution_count": 3,
   "id": "b7f576f8",
   "metadata": {},
   "outputs": [
    {
     "name": "stdout",
     "output_type": "stream",
     "text": [
      "0 Hello world\n",
      "1 Hello world\n",
      "2 Hello world\n",
      "3 Hello world\n",
      "4 Hello world\n"
     ]
    }
   ],
   "source": [
    "a = 0\n",
    "while a<5:\n",
    "    print (a,\"Hello world\")\n",
    "    a=a+1\n",
    "    "
   ]
  },
  {
   "cell_type": "code",
   "execution_count": 7,
   "id": "9ae14d8a",
   "metadata": {},
   "outputs": [
    {
     "name": "stdout",
     "output_type": "stream",
     "text": [
      "1 Hello world\n",
      "2 Hello world\n",
      "3 Hello world\n",
      "4 Hello world\n",
      "5 Hello world\n"
     ]
    }
   ],
   "source": [
    "a = 1\n",
    "while a<=5:\n",
    "    print (a,\"Hello world\")\n",
    "    a=a+1\n",
    "\n",
    "    "
   ]
  },
  {
   "cell_type": "code",
   "execution_count": 10,
   "id": "30a03cda",
   "metadata": {},
   "outputs": [
    {
     "name": "stdout",
     "output_type": "stream",
     "text": [
      "5 Hello world\n",
      "4 Hello world\n",
      "3 Hello world\n",
      "2 Hello world\n",
      "1 Hello world\n",
      "0 Hello world\n",
      "-1 Hello world\n",
      "-2 Hello world\n",
      "-3 Hello world\n",
      "-4 Hello world\n"
     ]
    }
   ],
   "source": [
    "a = 5\n",
    "while a>-5:\n",
    "    print (a,\"Hello world\")\n",
    "    a=a-1\n",
    "\n",
    "    "
   ]
  },
  {
   "cell_type": "code",
   "execution_count": 14,
   "id": "590cc5b3",
   "metadata": {},
   "outputs": [
    {
     "name": "stdout",
     "output_type": "stream",
     "text": [
      "enter n = 3\n",
      "3 x 1 = 3\n",
      "3 x 2 = 6\n",
      "3 x 3 = 9\n",
      "3 x 4 = 12\n",
      "3 x 5 = 15\n",
      "3 x 6 = 18\n",
      "3 x 7 = 21\n",
      "3 x 8 = 24\n",
      "3 x 9 = 27\n",
      "3 x 10 = 30\n"
     ]
    }
   ],
   "source": [
    "a = 1\n",
    "n = int(input(\"enter n = \"))\n",
    "while a<=10:\n",
    "    print(n,\"x\", a, \"=\", n*a)\n",
    "    a = a+1\n",
    "    #using while loop\n"
   ]
  },
  {
   "cell_type": "code",
   "execution_count": 15,
   "id": "af809f22",
   "metadata": {},
   "outputs": [
    {
     "name": "stdout",
     "output_type": "stream",
     "text": [
      "enter x = 3\n",
      "3 x 1 = 3\n",
      "3 x 2 = 6\n",
      "3 x 3 = 9\n",
      "3 x 4 = 12\n",
      "3 x 5 = 15\n",
      "3 x 6 = 18\n",
      "3 x 7 = 21\n",
      "3 x 8 = 24\n",
      "3 x 9 = 27\n",
      "3 x 10 = 30\n"
     ]
    }
   ],
   "source": [
    "x = int ( input ( \"enter x = \"))\n",
    "for i in range (1,11) : \n",
    "    print (x, \"x\", i, \"=\", x*i)\n",
    "    #using for loop"
   ]
  },
  {
   "cell_type": "code",
   "execution_count": 2,
   "id": "7c7678bf",
   "metadata": {},
   "outputs": [
    {
     "name": "stdout",
     "output_type": "stream",
     "text": [
      "enter n = 3\n",
      "enter x = 6\n",
      "enter x = 7890\n",
      "enter x = 1\n",
      "7897\n"
     ]
    }
   ],
   "source": [
    "s = 0\n",
    "a = 0\n",
    "n = int (input(\"enter n = \"))\n",
    "while a < n:\n",
    "    x = int(input(\"enter x = \"))\n",
    "    s = s+x\n",
    "    a = a+1\n",
    "print(s)\n"
   ]
  },
  {
   "cell_type": "code",
   "execution_count": 3,
   "id": "9f46239f",
   "metadata": {},
   "outputs": [
    {
     "name": "stdout",
     "output_type": "stream",
     "text": [
      "enter n = 3\n",
      "enter name = raj\n",
      "enter phone = 1122\n",
      "enter name = raju lal\n",
      "enter phone = 2200\n",
      "enter name = krishna das\n",
      "enter phone = 00992\n",
      "raj--1122\n",
      "raju lal--2200\n",
      "krishna das--00992\n",
      "\n"
     ]
    }
   ],
   "source": [
    "s = str ()\n",
    "n = int(input(\"enter n = \"))\n",
    "for i in range (n):\n",
    "    name = input (\"enter name = \")\n",
    "    phone = input (\"enter phone = \")\n",
    "    s = s+name+ \"--\"+phone+\"\\n\"\n",
    "    \n",
    "print (s)\n",
    "    "
   ]
  },
  {
   "cell_type": "code",
   "execution_count": 4,
   "id": "2312bf40",
   "metadata": {},
   "outputs": [
    {
     "name": "stdout",
     "output_type": "stream",
     "text": [
      "enter n = 3\n",
      "enter name = dhiraj\n",
      "enter phone = 12345\n",
      "enter name = suraj\n",
      "enter phone = 3456\n",
      "enter name = shyamu lal\n",
      "enter phone = 229988\n",
      "dhiraj--12345\n",
      "suraj--3456\n",
      "shyamu lal--229988\n",
      "\n"
     ]
    }
   ],
   "source": [
    "s = str ()\n",
    "a = 0\n",
    "n = int(input(\"enter n = \"))\n",
    "while a < n:\n",
    "    name = input (\"enter name = \")\n",
    "    phone = input (\"enter phone = \")\n",
    "    s = s+name+ \"--\"+phone+\"\\n\"\n",
    "    a = a + 1\n",
    "    \n",
    "print (s)"
   ]
  },
  {
   "cell_type": "code",
   "execution_count": 8,
   "id": "001d384a",
   "metadata": {},
   "outputs": [
    {
     "name": "stdout",
     "output_type": "stream",
     "text": [
      "enter the value of n = 5\n",
      "1\n",
      "2\n",
      "6\n",
      "24\n",
      "120\n"
     ]
    }
   ],
   "source": [
    "#5! =  5*4*3*2*1\n",
    "fac = 1\n",
    "a = 1\n",
    "n = int (input ( \"enter the value of n = \"))\n",
    "while a <= n:\n",
    "    fac = fac * a  \n",
    "    a = a + 1\n",
    "    print (fac)"
   ]
  },
  {
   "cell_type": "code",
   "execution_count": null,
   "id": "8c2f7923",
   "metadata": {},
   "outputs": [],
   "source": []
  }
 ],
 "metadata": {
  "kernelspec": {
   "display_name": "Python 3 (ipykernel)",
   "language": "python",
   "name": "python3"
  },
  "language_info": {
   "codemirror_mode": {
    "name": "ipython",
    "version": 3
   },
   "file_extension": ".py",
   "mimetype": "text/x-python",
   "name": "python",
   "nbconvert_exporter": "python",
   "pygments_lexer": "ipython3",
   "version": "3.9.7"
  }
 },
 "nbformat": 4,
 "nbformat_minor": 5
}
