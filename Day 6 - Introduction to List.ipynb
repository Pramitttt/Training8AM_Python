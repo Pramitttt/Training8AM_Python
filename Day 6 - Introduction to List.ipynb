{
 "cells": [
  {
   "cell_type": "code",
   "execution_count": null,
   "id": "621cd27d",
   "metadata": {},
   "outputs": [],
   "source": [
    "# Basic python collection\n",
    "# 1. List\n",
    "# 2. Tuple\n",
    "# 3. Dictionary\n",
    "# 4. set\n"
   ]
  },
  {
   "cell_type": "code",
   "execution_count": null,
   "id": "c13bb354",
   "metadata": {},
   "outputs": [],
   "source": [
    "# List\n",
    "# -Indexed\n",
    "# -Multiple and duplicate data\n",
    "# -Ordered\n",
    "# -Mutable \n"
   ]
  },
  {
   "cell_type": "code",
   "execution_count": 7,
   "id": "3aa33bbd",
   "metadata": {},
   "outputs": [
    {
     "name": "stdout",
     "output_type": "stream",
     "text": [
      "['Apple', 'Ball', 'Cat', 'Dog', 'fat', 'rat']\n",
      "[1, 2, 3, 4, 5, 6, 7, 8, 9, 10]\n",
      "<class 'list'>\n",
      "<class 'list'>\n"
     ]
    }
   ],
   "source": [
    "a = [\"Apple\", \"Ball\", \"Cat\", \"Dog\", \"fat\", \"rat\"] #list ma always big bracket, #multiple data \n",
    "b = [1,2,3,4,5,6,7,8,9,10]\n",
    "print (a)\n",
    "print (b)\n",
    "print (type (a))\n",
    "print (type (b))"
   ]
  },
  {
   "cell_type": "code",
   "execution_count": 2,
   "id": "37b0877f",
   "metadata": {},
   "outputs": [
    {
     "name": "stdout",
     "output_type": "stream",
     "text": [
      "Apple\n"
     ]
    }
   ],
   "source": [
    "print (a [0])"
   ]
  },
  {
   "cell_type": "code",
   "execution_count": 3,
   "id": "b7d25545",
   "metadata": {},
   "outputs": [
    {
     "name": "stdout",
     "output_type": "stream",
     "text": [
      "['Apple', 'Ball', 'Cat', 'Dog']\n"
     ]
    }
   ],
   "source": [
    "print (a [0:4]) #supports range"
   ]
  },
  {
   "cell_type": "code",
   "execution_count": 7,
   "id": "efdef6f6",
   "metadata": {},
   "outputs": [
    {
     "name": "stdout",
     "output_type": "stream",
     "text": [
      "['Apple', 'Cat', 'fat']\n"
     ]
    }
   ],
   "source": [
    "a = [\"Apple\",\"Ball\",\"Cat\",\"Dog\",\"fat\",\"rat\"]\n",
    "print (a[0:6:2])"
   ]
  },
  {
   "cell_type": "code",
   "execution_count": 5,
   "id": "a2d2603a",
   "metadata": {},
   "outputs": [
    {
     "data": {
      "text/plain": [
       "['Apple', 'Ball', 'Cat', 'Dog', 'fat', 'apple']"
      ]
     },
     "execution_count": 5,
     "metadata": {},
     "output_type": "execute_result"
    }
   ],
   "source": [
    "a = [\"Apple\", \"Ball\", \"Cat\", \"Dog\", \"fat\", \"apple\"] #duplicate data\n",
    "a"
   ]
  },
  {
   "cell_type": "code",
   "execution_count": 10,
   "id": "4fa0b0be",
   "metadata": {},
   "outputs": [
    {
     "name": "stdout",
     "output_type": "stream",
     "text": [
      "['Apple', 'Ball', 'Cat', 'Dog', 'fat', 'rat', 'apple', 'fish', 'cow']\n"
     ]
    }
   ],
   "source": [
    "a = [\"Apple\", \"Ball\", \"Cat\", \"Dog\", \"fat\", \"rat\", \"apple\"] #concatenate between two lists\n",
    "b = [\"fish\", \"cow\"]\n",
    "c = a + b\n",
    "print (c)"
   ]
  },
  {
   "cell_type": "code",
   "execution_count": 2,
   "id": "5b89dba7",
   "metadata": {},
   "outputs": [
    {
     "name": "stdout",
     "output_type": "stream",
     "text": [
      "Apple\n",
      "Ball\n",
      "Cat\n",
      "Dog\n",
      "fat\n",
      "rat\n",
      "apple\n"
     ]
    }
   ],
   "source": [
    "a = [\"Apple\", \"Ball\", \"Cat\", \"Dog\", \"fat\", \"rat\", \"apple\"]\n",
    "for i in a:\n",
    "    print (i)"
   ]
  },
  {
   "cell_type": "code",
   "execution_count": null,
   "id": "9506fe1d",
   "metadata": {},
   "outputs": [],
   "source": [
    "# append () insert () extend ()\n"
   ]
  },
  {
   "cell_type": "code",
   "execution_count": 20,
   "id": "24013261",
   "metadata": {},
   "outputs": [
    {
     "name": "stdout",
     "output_type": "stream",
     "text": [
      "['apple', 'ball']\n"
     ]
    }
   ],
   "source": [
    "    #append\n",
    "a = []            # a = list () \n",
    "a.append (\"apple\")\n",
    "a.append (\"ball\")\n",
    "\n",
    "print (a)"
   ]
  },
  {
   "cell_type": "code",
   "execution_count": 24,
   "id": "5ca22402",
   "metadata": {},
   "outputs": [
    {
     "name": "stdout",
     "output_type": "stream",
     "text": [
      "enter n = 3\n",
      "enter x = 222\n",
      "enter x = 333\n",
      "enter x = 444\n",
      "[222, 333, 444]\n"
     ]
    }
   ],
   "source": [
    "data = [] #for list always use []\n",
    "n = int(input ( \"enter n = \"))\n",
    "for i in range (n):\n",
    "    x  = int (input (\"enter x = \"))\n",
    "    data.append (x)\n",
    "    \n",
    "print (data)"
   ]
  },
  {
   "cell_type": "code",
   "execution_count": 30,
   "id": "23f7b6f1",
   "metadata": {},
   "outputs": [
    {
     "name": "stdout",
     "output_type": "stream",
     "text": [
      "the sum of the value =  999\n",
      "the maximum nummber if the list =  444\n",
      "the maximum nummber if the list =  222\n",
      "the average nummber if the list =  333.0\n"
     ]
    }
   ],
   "source": [
    "print (\"the sum of the value = \", sum(data))\n",
    "print (\"the maximum nummber if the list = \", max(data))\n",
    "print (\"the maximum nummber if the list = \", min(data))\n",
    "print (\"the average nummber if the list = \", sum(data)/n)"
   ]
  },
  {
   "cell_type": "code",
   "execution_count": 31,
   "id": "0ba80d13",
   "metadata": {},
   "outputs": [
    {
     "name": "stdout",
     "output_type": "stream",
     "text": [
      "[222, 333, 444]\n"
     ]
    }
   ],
   "source": [
    "data.sort() #ascending order\n",
    "print (data)"
   ]
  },
  {
   "cell_type": "code",
   "execution_count": 32,
   "id": "e4773aec",
   "metadata": {},
   "outputs": [
    {
     "name": "stdout",
     "output_type": "stream",
     "text": [
      "[444, 333, 222]\n"
     ]
    }
   ],
   "source": [
    "data.reverse() #descending order\n",
    "print(data)"
   ]
  },
  {
   "cell_type": "code",
   "execution_count": 44,
   "id": "1e7913bd",
   "metadata": {},
   "outputs": [
    {
     "name": "stdout",
     "output_type": "stream",
     "text": [
      "['3am', 'Banana', 'Dog', 'apple', 'cat', 'fat', 'xnxx', 'zebra', 'ram']\n"
     ]
    }
   ],
   "source": [
    "#string\n",
    "a = [\"zebra\", \"Banana\", \"cat\", \"apple\", \"Dog\", \"xnxx\", \"fat\", \"3am\"] #priotrize the number first and then capital letter \n",
    "a.sort()\n",
    "a.append(\"ram\") #appends the value at the end only\n",
    "\n",
    "print(a)\n"
   ]
  },
  {
   "cell_type": "code",
   "execution_count": 45,
   "id": "ecee7c16",
   "metadata": {},
   "outputs": [
    {
     "name": "stdout",
     "output_type": "stream",
     "text": [
      "['zebra', 'Banana', 'cat', 'cup', 'apple', 'Dog', 'xnxx', 'fat', '3am']\n"
     ]
    }
   ],
   "source": [
    "    # insert\n",
    "a = [\"zebra\", \"Banana\", \"cat\", \"apple\", \"Dog\", \"xnxx\", \"fat\", \"3am\"] \n",
    "a.insert (3, \"cup\")\n",
    "print(a)"
   ]
  },
  {
   "cell_type": "code",
   "execution_count": 52,
   "id": "af1e1c74",
   "metadata": {},
   "outputs": [
    {
     "name": "stdout",
     "output_type": "stream",
     "text": [
      "['zebra', 'Banana', 'cat', 'apple', 'Dog', 'xnxx', 'fat', '3am']\n"
     ]
    }
   ],
   "source": [
    "    #extend\n",
    "\n",
    "a = [1,2,3,4,5,6]\n",
    "b = [\"zebra\", \"Banana\", \"cat\", \"apple\", \"Dog\", \"xnxx\", \"fat\", \"3am\"] \n",
    "a.extend (b)\n",
    "print(b)\n"
   ]
  },
  {
   "cell_type": "code",
   "execution_count": 60,
   "id": "0e331cfb",
   "metadata": {},
   "outputs": [
    {
     "name": "stdout",
     "output_type": "stream",
     "text": [
      "['banono', 'zebro', 'cat', 'apple', 'Dog', 'xnxx', 'fat', '3am']\n"
     ]
    }
   ],
   "source": [
    "a = [\"zebra\", \"Banana\", \"cat\", \"apple\", \"Dog\", \"xnxx\", \"fat\", \"3am\"]  #value update in the list\n",
    "a [0:2] = [\"banono\",\"zebro\"]\n",
    "print(a)"
   ]
  },
  {
   "cell_type": "code",
   "execution_count": null,
   "id": "f73bc479",
   "metadata": {},
   "outputs": [],
   "source": []
  }
 ],
 "metadata": {
  "kernelspec": {
   "display_name": "Python 3 (ipykernel)",
   "language": "python",
   "name": "python3"
  },
  "language_info": {
   "codemirror_mode": {
    "name": "ipython",
    "version": 3
   },
   "file_extension": ".py",
   "mimetype": "text/x-python",
   "name": "python",
   "nbconvert_exporter": "python",
   "pygments_lexer": "ipython3",
   "version": "3.9.7"
  }
 },
 "nbformat": 4,
 "nbformat_minor": 5
}
