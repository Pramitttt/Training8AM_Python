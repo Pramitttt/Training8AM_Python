{
 "cells": [
  {
   "cell_type": "code",
   "execution_count": 2,
   "id": "02885d92",
   "metadata": {},
   "outputs": [
    {
     "name": "stdout",
     "output_type": "stream",
     "text": [
      "['Banana', 'cat', 'apple', 'Dog', 'fat', '3am']\n"
     ]
    }
   ],
   "source": [
    "#del, remove (), pop()\n",
    "a = [\"zebra\", \"Banana\", \"cat\", \"apple\", \"Dog\", \"fat\", \"3am\"]\n",
    "del a [0]\n",
    "print(a)"
   ]
  },
  {
   "cell_type": "code",
   "execution_count": 3,
   "id": "9e0fbdbc",
   "metadata": {},
   "outputs": [
    {
     "name": "stdout",
     "output_type": "stream",
     "text": [
      "['apple', 'Dog', 'fat', '3am']\n"
     ]
    }
   ],
   "source": [
    "a = [\"zebra\", \"Banana\", \"cat\", \"apple\", \"Dog\", \"fat\", \"3am\"]\n",
    "del a [0:3] #range wise ma 2 index samma jancha\n",
    "print(a)"
   ]
  },
  {
   "cell_type": "code",
   "execution_count": 7,
   "id": "e0b1600a",
   "metadata": {},
   "outputs": [
    {
     "name": "stdout",
     "output_type": "stream",
     "text": [
      "['zebra', 'Banana', 'cat', 'Dog', 'fat', '3am']\n"
     ]
    }
   ],
   "source": [
    "a = [\"zebra\", \"Banana\", \"cat\", \"apple\", \"Dog\", \"fat\", \"3am\"]\n",
    "a.index(\"apple\")\n",
    "del a [3]\n",
    "print (a)\n",
    "\n",
    "\n"
   ]
  },
  {
   "cell_type": "code",
   "execution_count": 8,
   "id": "cfe33464",
   "metadata": {},
   "outputs": [
    {
     "name": "stdout",
     "output_type": "stream",
     "text": [
      "['zebra', 'Banana', 'cat', 'Dog', 'fat', '3am']\n"
     ]
    }
   ],
   "source": [
    "#remove\n",
    "a = [\"zebra\", \"Banana\", \"cat\", \"apple\", \"Dog\", \"fat\", \"3am\"]\n",
    "a.remove(\"apple\") #if theres duplicate it will only remove the first value, it wont remove the repeated 2nd value\n",
    "print(a)"
   ]
  },
  {
   "cell_type": "code",
   "execution_count": 10,
   "id": "69c5e616",
   "metadata": {},
   "outputs": [
    {
     "data": {
      "text/plain": [
       "['zebra', 'Banana', 'cat', 'apple', 'Dog', 'fat']"
      ]
     },
     "execution_count": 10,
     "metadata": {},
     "output_type": "execute_result"
    }
   ],
   "source": [
    "a = [\"zebra\", \"Banana\", \"cat\", \"apple\", \"Dog\", \"fat\", \"3am\"]\n",
    "a.pop() #emoty bracket will remove the value which is in the last\n",
    "a\n"
   ]
  },
  {
   "cell_type": "code",
   "execution_count": 12,
   "id": "95e21c41",
   "metadata": {},
   "outputs": [
    {
     "name": "stdout",
     "output_type": "stream",
     "text": [
      "['zebra', 'Banana', 'cat', 'Dog', 'fat', '3am']\n",
      "apple\n"
     ]
    }
   ],
   "source": [
    "a = [\"zebra\", \"Banana\", \"cat\", \"apple\", \"Dog\", \"fat\", \"3am\"]\n",
    "b = a.pop(3)\n",
    "print (a)\n",
    "print(b)"
   ]
  },
  {
   "cell_type": "code",
   "execution_count": 13,
   "id": "35befe0f",
   "metadata": {},
   "outputs": [
    {
     "name": "stdout",
     "output_type": "stream",
     "text": [
      "['zebra', 'Banana', 'cat', 'Dog', 'fat', '3am']\n"
     ]
    }
   ],
   "source": [
    "b = []\n",
    "a = [\"zebra\", \"Banana\", \"cat\", \"apple\", \"Dog\", \"fat\", \"3am\" , \"apple\"]\n",
    "for i in a:\n",
    "    if i != \"apple\":\n",
    "        b.append(i)\n",
    "        \n",
    "print(b)"
   ]
  },
  {
   "cell_type": "code",
   "execution_count": 19,
   "id": "91c8a2b6",
   "metadata": {},
   "outputs": [
    {
     "name": "stdout",
     "output_type": "stream",
     "text": [
      "3\n",
      "7\n"
     ]
    }
   ],
   "source": [
    "a = [\"zebra\", \"Banana\", \"cat\", \"apple\", \"Dog\", \"fat\", \"3am\" , \"apple\"]\n",
    "for i in range(len(a)):\n",
    "    if a [i] == \"apple\":\n",
    "        print (i)"
   ]
  },
  {
   "cell_type": "code",
   "execution_count": 18,
   "id": "e50883a7",
   "metadata": {},
   "outputs": [
    {
     "name": "stdout",
     "output_type": "stream",
     "text": [
      "yes 2\n"
     ]
    }
   ],
   "source": [
    "a = [\"zebra\", \"Banana\", \"cat\", \"apple\", \"Dog\", \"fat\", \"3am\" , \"apple\"]\n",
    "if \"apple\" in a:\n",
    "    print(\"yes\", a.count(\"apple\"))\n",
    "else:\n",
    "    print(\"no\")"
   ]
  },
  {
   "cell_type": "code",
   "execution_count": 21,
   "id": "68a4f124",
   "metadata": {},
   "outputs": [
    {
     "name": "stdout",
     "output_type": "stream",
     "text": [
      "[[1, 2, 3], [4, 5, 6], [7, 8, 9]]\n",
      "<class 'list'>\n",
      "3\n"
     ]
    }
   ],
   "source": [
    "#list inside list\n",
    "a = [[1,2,3],\n",
    "     [4,5,6],\n",
    "     [7,8,9]] \n",
    "print (a)\n",
    "print(type(a))\n",
    "print(len(a))"
   ]
  },
  {
   "cell_type": "code",
   "execution_count": 28,
   "id": "fb9bff53",
   "metadata": {},
   "outputs": [
    {
     "name": "stdout",
     "output_type": "stream",
     "text": [
      "3\n",
      "5\n",
      "9\n"
     ]
    }
   ],
   "source": [
    "print(a[0] [2])\n",
    "print(a [1] [1])\n",
    "print(a [2] [2])"
   ]
  },
  {
   "cell_type": "code",
   "execution_count": 30,
   "id": "43f454aa",
   "metadata": {},
   "outputs": [
    {
     "data": {
      "text/plain": [
       "'p'"
      ]
     },
     "execution_count": 30,
     "metadata": {},
     "output_type": "execute_result"
    }
   ],
   "source": [
    "a = [\"zebra\", \"Banana\", \"cat\", \"apple\", \"Dog\", \"fat\", \"3am\" , \"apple\"]\n",
    "a[3][2]\n"
   ]
  },
  {
   "cell_type": "code",
   "execution_count": 32,
   "id": "5692bddb",
   "metadata": {},
   "outputs": [
    {
     "name": "stdout",
     "output_type": "stream",
     "text": [
      "enter n = 3\n",
      "enter a name = ram\n",
      "enter age = 23\n",
      "enter address = ramechap\n",
      "enter a name = sam\n",
      "enter age = 26\n",
      "enter address = ktm\n",
      "enter a name = krish\n",
      "enter age = 30\n",
      "enter address = bkt\n",
      "[['ram', 23, 'ramechap'], ['sam', 26, 'ktm'], ['krish', 30, 'bkt']]\n"
     ]
    }
   ],
   "source": [
    "#WAP to create a list inside list\n",
    "data = []\n",
    "n = int(input(\"enter n = \"))\n",
    "for i in range (n):\n",
    "    name = input(\"enter a name = \")\n",
    "    age = int(input(\"enter age = \"))\n",
    "    add = input (\"enter address = \")\n",
    "    info = [name,age,add]\n",
    "    data.append(info)\n",
    "    \n",
    "print(data)"
   ]
  },
  {
   "cell_type": "code",
   "execution_count": 36,
   "id": "81ad496c",
   "metadata": {},
   "outputs": [
    {
     "name": "stdout",
     "output_type": "stream",
     "text": [
      "[['ram', 23, 'ramechap'], ['sam', 26, 'ktm'], ['krish', 30, 'bkt'], ['hari bahadur', 45, 'chitwan'], ['hari bahadur', 45, 'chitwan'], ['hari bahadur', 45, 'chitwan']]\n"
     ]
    }
   ],
   "source": [
    "data.append([\"hari bahadur\",45,\"chitwan\"]) #create and add new value\n",
    "print (data)"
   ]
  },
  {
   "cell_type": "code",
   "execution_count": 37,
   "id": "f289fd45",
   "metadata": {},
   "outputs": [
    {
     "name": "stdout",
     "output_type": "stream",
     "text": [
      "['ram', 23, 'ramechap']\n",
      "['sam', 26, 'ktm']\n",
      "['krish', 30, 'bkt']\n",
      "['hari bahadur', 45, 'chitwan']\n",
      "['hari bahadur', 45, 'chitwan']\n",
      "['hari bahadur', 45, 'chitwan']\n"
     ]
    }
   ],
   "source": [
    "for i in data:\n",
    "    print(i)"
   ]
  },
  {
   "cell_type": "code",
   "execution_count": 43,
   "id": "b8bb3b0f",
   "metadata": {},
   "outputs": [
    {
     "name": "stdout",
     "output_type": "stream",
     "text": [
      "enter name = RAM\n",
      "['ram', 23, 'ramechap']\n"
     ]
    }
   ],
   "source": [
    "name = input(\"enter name = \").lower()\n",
    "for i in data:\n",
    "    if name in i[0].lower():\n",
    "        print(i)"
   ]
  },
  {
   "cell_type": "code",
   "execution_count": 45,
   "id": "dc125e16",
   "metadata": {},
   "outputs": [
    {
     "data": {
      "text/plain": [
       "[['rama', 33, 'solukhumbu'], ['sam', 56, 'bkt']]"
      ]
     },
     "execution_count": 45,
     "metadata": {},
     "output_type": "execute_result"
    }
   ],
   "source": [
    "a = [[\"ram\",34,\"ktm\"], [\"sam\",56,\"bkt\"]]\n",
    "a[0] = [\"rama\",33,\"solukhumbu\"]\n",
    "a"
   ]
  },
  {
   "cell_type": "code",
   "execution_count": 47,
   "id": "25b2e1c4",
   "metadata": {},
   "outputs": [
    {
     "data": {
      "text/plain": [
       "[['rama', 34, 'ktm'], ['sam', 56, 'bkt']]"
      ]
     },
     "execution_count": 47,
     "metadata": {},
     "output_type": "execute_result"
    }
   ],
   "source": [
    "a = [[\"ram\",34,\"ktm\"], [\"sam\",56,\"bkt\"]]\n",
    "a[0][0] = \"rama\"\n",
    "a"
   ]
  },
  {
   "cell_type": "code",
   "execution_count": 48,
   "id": "bab6b702",
   "metadata": {},
   "outputs": [
    {
     "data": {
      "text/plain": [
       "[['sam', 56, 'bkt']]"
      ]
     },
     "execution_count": 48,
     "metadata": {},
     "output_type": "execute_result"
    }
   ],
   "source": [
    "a = [[\"ram\",34,\"ktm\"], [\"sam\",56,\"bkt\"]]\n",
    "del a [0]\n",
    "a"
   ]
  },
  {
   "cell_type": "code",
   "execution_count": null,
   "id": "ca26bcb3",
   "metadata": {},
   "outputs": [],
   "source": [
    "#WAP to create a matrix with given row and column\n",
    "# [1,2,3],\n",
    "# [4,5,6],\n",
    "# [7,8,9]]"
   ]
  },
  {
   "cell_type": "code",
   "execution_count": 9,
   "id": "f987e262",
   "metadata": {},
   "outputs": [
    {
     "name": "stdout",
     "output_type": "stream",
     "text": [
      "enter a numbers = 1\n",
      "enter a numbers = 2\n",
      "enter a numbers = 3\n",
      "enter a numbers = 4\n",
      "enter a numbers = 5\n",
      "enter a numbers = 6\n",
      "enter a numbers = 7\n",
      "enter a numbers = 8\n",
      "enter a numbers = 9\n",
      "[[1, 2, 3], [4, 5, 6], [7, 8, 9]]\n"
     ]
    }
   ],
   "source": [
    "a = []\n",
    "n = 3\n",
    "for i in range (n):\n",
    "    d = int(input(\"enter a numbers = \"))\n",
    "    e = int (input (\"enter a numbers = \"))\n",
    "    f = int (input (\"enter a numbers = \"))\n",
    "    info = [d,e,f]\n",
    "    a.append(info)\n",
    "    \n",
    "print (a)"
   ]
  },
  {
   "cell_type": "code",
   "execution_count": 2,
   "id": "c96fcee0",
   "metadata": {},
   "outputs": [
    {
     "name": "stdout",
     "output_type": "stream",
     "text": [
      "enter rows = 2\n",
      "enter columns = 3\n",
      "enter user value = 1\n",
      "enter user value = 2\n",
      "enter user value = 3\n",
      "enter user value = 4\n",
      "enter user value = 5\n",
      "enter user value = 6\n",
      "1 2 3 \n",
      "4 5 6 \n"
     ]
    }
   ],
   "source": [
    "matrix = []\n",
    "\n",
    "r = int(input(\"enter rows = \"))\n",
    "c = int(input(\"enter columns = \"))\n",
    "\n",
    "for i in range (r):\n",
    "    k = []\n",
    "    for j in range (c):\n",
    "        u = int(input(\"enter user value = \"))\n",
    "        k.append(u)\n",
    "    matrix.append(k)\n",
    "    \n",
    "for i in range (r):\n",
    "    for j in range (c):\n",
    "        print (matrix[i][j], end = \" \")\n",
    "    print ()\n",
    "               "
   ]
  },
  {
   "cell_type": "code",
   "execution_count": 3,
   "id": "f3712f66",
   "metadata": {},
   "outputs": [
    {
     "name": "stdout",
     "output_type": "stream",
     "text": [
      "enter r = 3\n",
      "enter c = 3\n",
      "enter x = 1\n",
      "enter x = 2\n",
      "enter x = 3\n",
      "enter x = 4\n",
      "enter x = 5\n",
      "enter x = 6\n",
      "enter x = 7\n",
      "enter x = 8\n",
      "enter x = 9\n"
     ]
    },
    {
     "data": {
      "text/plain": [
       "[[1, 2, 3], [4, 5, 6], [7, 8, 9]]"
      ]
     },
     "execution_count": 3,
     "metadata": {},
     "output_type": "execute_result"
    }
   ],
   "source": [
    "matrix = []\n",
    "r = int (input(\"enter r = \"))\n",
    "c = int (input(\"enter c = \"))\n",
    "\n",
    "for i in range (r):   #number of rows\n",
    "    y = []\n",
    "    for j in range (c):    #to insert another [] inside first []\n",
    "        x = int(input(\"enter x = \"))\n",
    "        y.append(x)\n",
    "    matrix.append(y)\n",
    "        \n",
    "matrix\n",
    "    \n"
   ]
  },
  {
   "cell_type": "markdown",
   "id": "5f0b844e",
   "metadata": {},
   "source": [
    "###### "
   ]
  }
 ],
 "metadata": {
  "kernelspec": {
   "display_name": "Python 3 (ipykernel)",
   "language": "python",
   "name": "python3"
  },
  "language_info": {
   "codemirror_mode": {
    "name": "ipython",
    "version": 3
   },
   "file_extension": ".py",
   "mimetype": "text/x-python",
   "name": "python",
   "nbconvert_exporter": "python",
   "pygments_lexer": "ipython3",
   "version": "3.9.7"
  }
 },
 "nbformat": 4,
 "nbformat_minor": 5
}
