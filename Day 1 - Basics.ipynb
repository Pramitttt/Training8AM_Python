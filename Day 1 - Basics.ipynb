{
 "cells": [
  {
   "cell_type": "code",
   "execution_count": 6,
   "id": "f75138ef",
   "metadata": {},
   "outputs": [
    {
     "name": "stdout",
     "output_type": "stream",
     "text": [
      "what is your age ?10\n",
      "you are 10 years old\n"
     ]
    }
   ],
   "source": [
    "age = input (\"what is your age ?\")\n",
    "print (\"you are \"+ age + \" years old\")"
   ]
  },
  {
   "cell_type": "code",
   "execution_count": 23,
   "id": "9e10bd98",
   "metadata": {},
   "outputs": [
    {
     "name": "stdout",
     "output_type": "stream",
     "text": [
      "Enter your birth year: 1996\n",
      "26\n"
     ]
    }
   ],
   "source": [
    "a = input(\"Enter your birth year: \")\n",
    "age = 2022- int (a)\n",
    "print (age )\n"
   ]
  },
  {
   "cell_type": "code",
   "execution_count": 25,
   "id": "c1f69bb2",
   "metadata": {},
   "outputs": [
    {
     "name": "stdout",
     "output_type": "stream",
     "text": [
      "enter a number1\n",
      "enter another number2\n",
      "3\n"
     ]
    }
   ],
   "source": [
    "a = input (\"enter a number\")\n",
    "b = input (\"enter another number\")\n",
    "c = int (a) + int(b)\n",
    "print (c)"
   ]
  },
  {
   "cell_type": "code",
   "execution_count": 33,
   "id": "4363c70b",
   "metadata": {},
   "outputs": [
    {
     "name": "stdout",
     "output_type": "stream",
     "text": [
      "first number: 1\n",
      "second number: 2.3\n",
      "total sum: 3.3\n"
     ]
    }
   ],
   "source": [
    "first = input (\"first number: \")\n",
    "second = input (\"second number: \")\n",
    "add = float (first) + float (second)\n",
    "print (\"total sum: \" + str(add))\n"
   ]
  },
  {
   "cell_type": "code",
   "execution_count": 24,
   "id": "8d2bb676",
   "metadata": {},
   "outputs": [
    {
     "name": "stdout",
     "output_type": "stream",
     "text": [
      "enter first number: 1\n",
      "enter second number: 2\n",
      "3\n"
     ]
    }
   ],
   "source": [
    "a =int(input (\"enter first number: \"))\n",
    "b = int(input (\"enter second number: \"))\n",
    "sum = a+b\n",
    "print (sum)"
   ]
  },
  {
   "cell_type": "code",
   "execution_count": 25,
   "id": "dc76f7fa",
   "metadata": {},
   "outputs": [
    {
     "name": "stdout",
     "output_type": "stream",
     "text": [
      "1\n"
     ]
    }
   ],
   "source": [
    "a = True #1\n",
    "b = False #0\n",
    "c = a + b #0r\n",
    "print (c)"
   ]
  },
  {
   "cell_type": "code",
   "execution_count": 28,
   "id": "e38c9147",
   "metadata": {},
   "outputs": [
    {
     "name": "stdout",
     "output_type": "stream",
     "text": [
      "0\n"
     ]
    }
   ],
   "source": [
    "a = True\n",
    "b = False\n",
    "c = a * b #and\n",
    "print (c)"
   ]
  },
  {
   "cell_type": "code",
   "execution_count": 32,
   "id": "46a8cce5",
   "metadata": {},
   "outputs": [
    {
     "name": "stdout",
     "output_type": "stream",
     "text": [
      "enter a value: 1.2\n",
      "enter another value: 2.1\n",
      "3.3\n"
     ]
    }
   ],
   "source": [
    "a = input (\"enter a value: \")\n",
    "b = input (\"enter another value: \")\n",
    "c = float(a) + float (b)\n",
    "print (c)"
   ]
  },
  {
   "cell_type": "code",
   "execution_count": 40,
   "id": "aba696f2",
   "metadata": {},
   "outputs": [
    {
     "name": "stdout",
     "output_type": "stream",
     "text": [
      "enter p = 1\n",
      "enter t = 2\n",
      " enter r = 3\n",
      "the value of i =  0.06\n"
     ]
    }
   ],
   "source": [
    "p = int (input ( \"enter p = \"))\n",
    "t = float ( input (\"enter t = \"))\n",
    "r = float ( input ( \" enter r = \"))\n",
    "i = p*t*r/100\n",
    "print (\"the value of i = \", i)"
   ]
  },
  {
   "cell_type": "code",
   "execution_count": 47,
   "id": "9f55fbb2",
   "metadata": {},
   "outputs": [
    {
     "name": "stdout",
     "output_type": "stream",
     "text": [
      "10 20\n",
      "the value of b =  20\n"
     ]
    }
   ],
   "source": [
    "a = 10\n",
    "b = 20\n",
    "print (a,b)\n",
    "print ( \"the value of b = \",b)"
   ]
  },
  {
   "cell_type": "code",
   "execution_count": 56,
   "id": "c481f8f1",
   "metadata": {},
   "outputs": [
    {
     "name": "stdout",
     "output_type": "stream",
     "text": [
      "enter a name: ram\n",
      "enter age: 21\n",
      "enter add: Ktm\n",
      "hello world i am ram i am from Ktm i am 21 years old\n"
     ]
    }
   ],
   "source": [
    "name = input (\"enter a name: \")\n",
    "age = int (input(\"enter age: \"))\n",
    "add = input (\"enter add: \")\n",
    "\n",
    "info = \"hello world i am \"+ name + \" i am from \" + add + \" i am \" + str (age) + \" years old\"\n",
    "print (info)"
   ]
  },
  {
   "cell_type": "code",
   "execution_count": 53,
   "id": "4fdbceb2",
   "metadata": {},
   "outputs": [
    {
     "name": "stdout",
     "output_type": "stream",
     "text": [
      "hello world i am ram i am from ktm i am 12 years old\n"
     ]
    }
   ],
   "source": [
    "print (\"hello world i am\", name, \"i am from\", add, \"i am\", age, \"years old\")"
   ]
  }
 ],
 "metadata": {
  "kernelspec": {
   "display_name": "Python 3 (ipykernel)",
   "language": "python",
   "name": "python3"
  },
  "language_info": {
   "codemirror_mode": {
    "name": "ipython",
    "version": 3
   },
   "file_extension": ".py",
   "mimetype": "text/x-python",
   "name": "python",
   "nbconvert_exporter": "python",
   "pygments_lexer": "ipython3",
   "version": "3.9.7"
  }
 },
 "nbformat": 4,
 "nbformat_minor": 5
}
