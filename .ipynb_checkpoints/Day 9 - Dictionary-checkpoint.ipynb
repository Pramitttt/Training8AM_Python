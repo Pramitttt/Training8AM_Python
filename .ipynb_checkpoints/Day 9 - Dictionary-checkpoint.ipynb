{
 "cells": [
  {
   "cell_type": "code",
   "execution_count": null,
   "id": "d0466e3e",
   "metadata": {},
   "outputs": [],
   "source": [
    "# Dictionary\n",
    "# - indexxed\n",
    "# - ordered\n",
    "# - multiple and duplicate value\n",
    "- No duplicate key\n",
    "# - mutable"
   ]
  },
  {
   "cell_type": "code",
   "execution_count": null,
   "id": "7d8a9e7c",
   "metadata": {},
   "outputs": [],
   "source": [
    "# a = {<key>:<value>,<key>:<value>,..}"
   ]
  },
  {
   "cell_type": "code",
   "execution_count": 3,
   "id": "8324597b",
   "metadata": {},
   "outputs": [
    {
     "name": "stdout",
     "output_type": "stream",
     "text": [
      "Apple\n",
      "Cat\n"
     ]
    }
   ],
   "source": [
    "#mapping\n",
    "a = {'A':\"Apple\", \"B\":\"Ball\", \"C\":\"Cat\"} #{index:key\n",
    "print (a['A']) #no auto indexing like list and tuple so use key\n",
    "print (a [\"C\"])"
   ]
  },
  {
   "cell_type": "code",
   "execution_count": 4,
   "id": "09e10b4f",
   "metadata": {},
   "outputs": [
    {
     "name": "stdout",
     "output_type": "stream",
     "text": [
      "{'A': 'Apple', 'B': 'Ball', 'C': 'Cat'}\n",
      "<class 'dict'>\n"
     ]
    }
   ],
   "source": [
    "a = {'A':\"Apple\", \"B\":\"Ball\", \"C\":\"Cat\"} \n",
    "print(a)\n",
    "print(type(a))"
   ]
  },
  {
   "cell_type": "code",
   "execution_count": 5,
   "id": "78c43d3e",
   "metadata": {},
   "outputs": [
    {
     "data": {
      "text/plain": [
       "{'A': 'Apple', 'B': 'Ball', 'C': 'Cat', 'a': 'Apple'}"
      ]
     },
     "execution_count": 5,
     "metadata": {},
     "output_type": "execute_result"
    }
   ],
   "source": [
    "a = {'A':\"Apple\", \"B\":\"Ball\", \"C\":\"Cat\",\"a\":\"Apple\"}\n",
    "a"
   ]
  },
  {
   "cell_type": "code",
   "execution_count": 8,
   "id": "04b0cfbd",
   "metadata": {},
   "outputs": [
    {
     "data": {
      "text/plain": [
       "{'A': 'apple', 'B': 'Ball', 'C': 'Cat'}"
      ]
     },
     "execution_count": 8,
     "metadata": {},
     "output_type": "execute_result"
    }
   ],
   "source": [
    "a = {'A':\"Apple\", \"B\":\"Ball\", \"C\":\"Cat\",'A': 'apple'} #value duplicate vayera no problem but key duplicate hunu hudaina, it replaces\n",
    "a"
   ]
  },
  {
   "cell_type": "code",
   "execution_count": 15,
   "id": "dce1d48d",
   "metadata": {},
   "outputs": [
    {
     "data": {
      "text/plain": [
       "{'a': 'Apple', 'd': 'Ball', 'c': 'cat'}"
      ]
     },
     "execution_count": 15,
     "metadata": {},
     "output_type": "execute_result"
    }
   ],
   "source": [
    "# a = dict() #for function\n",
    "b = {}\n",
    "b [\"a\"] = \"Apple\" #made dictionary using b, 'a' is the key\n",
    "b ['d'] = \"Ball\"\n",
    "b [\"c\"] = \"cat\"\n",
    "b"
   ]
  },
  {
   "cell_type": "code",
   "execution_count": 17,
   "id": "d674a044",
   "metadata": {},
   "outputs": [
    {
     "data": {
      "text/plain": [
       "{'a': 'apple', 'd': 'Ball', 'c': 'cat'}"
      ]
     },
     "execution_count": 17,
     "metadata": {},
     "output_type": "execute_result"
    }
   ],
   "source": [
    "b = {}\n",
    "b [\"a\"] = \"Apple\" #made dictionary using b, 'a' is the key\n",
    "b ['d'] = \"Ball\"\n",
    "b [\"c\"] = \"cat\"\n",
    "b ['a'] = 'apple' #replace the value of a\n",
    "b"
   ]
  },
  {
   "cell_type": "code",
   "execution_count": 18,
   "id": "a7206670",
   "metadata": {},
   "outputs": [
    {
     "name": "stdout",
     "output_type": "stream",
     "text": [
      "enter n = 2\n",
      "enter name = ram\n",
      "enter phone = 123\n",
      "enter name = sam\n",
      "enter phone = 456\n"
     ]
    },
    {
     "data": {
      "text/plain": [
       "{'123': 'ram', '456': 'sam'}"
      ]
     },
     "execution_count": 18,
     "metadata": {},
     "output_type": "execute_result"
    }
   ],
   "source": [
    "info = {}\n",
    "n = int(input(\"enter n = \"))\n",
    "for i in range (n):\n",
    "    name = input (\"enter name = \") \n",
    "    phone = input (\"enter phone = \") #unique lai key, repeat huna sakne lai value banaune\n",
    "    info [phone] = name #coz phone number is unique for diff individual\n",
    "    \n",
    "info"
   ]
  },
  {
   "cell_type": "code",
   "execution_count": 19,
   "id": "55298f62",
   "metadata": {},
   "outputs": [
    {
     "name": "stdout",
     "output_type": "stream",
     "text": [
      "enter n = 2\n",
      "enter name = ram\n",
      "enter phone = 111\n",
      "enter name = samu\n",
      "enter phone = 222\n"
     ]
    },
    {
     "data": {
      "text/plain": [
       "{'ram': '111', 'samu': '222'}"
      ]
     },
     "execution_count": 19,
     "metadata": {},
     "output_type": "execute_result"
    }
   ],
   "source": [
    "info = {}\n",
    "n = int(input(\"enter n = \"))\n",
    "for i in range (n):\n",
    "    name = input (\"enter name = \") \n",
    "    phone = input (\"enter phone = \") #unique lai key, repeat huna sakne lai value banaune\n",
    "    info [name] = phone #coz phone number is unique for diff individual\n",
    "    \n",
    "info"
   ]
  },
  {
   "cell_type": "code",
   "execution_count": 20,
   "id": "261c1cf4",
   "metadata": {},
   "outputs": [
    {
     "name": "stdout",
     "output_type": "stream",
     "text": [
      "ram\n",
      "samu\n"
     ]
    }
   ],
   "source": [
    "for i in info:\n",
    "     print(i)"
   ]
  },
  {
   "cell_type": "code",
   "execution_count": 21,
   "id": "f53471fd",
   "metadata": {},
   "outputs": [
    {
     "name": "stdout",
     "output_type": "stream",
     "text": [
      "111\n",
      "222\n"
     ]
    }
   ],
   "source": [
    "for i in info.values():\n",
    "    print(i)"
   ]
  },
  {
   "cell_type": "code",
   "execution_count": 22,
   "id": "2bfdd77e",
   "metadata": {},
   "outputs": [
    {
     "name": "stdout",
     "output_type": "stream",
     "text": [
      "('ram', '111')\n",
      "('samu', '222')\n"
     ]
    }
   ],
   "source": [
    "for i in info.items():\n",
    "    print(i) #result is in tuple, so that user cannot change the value\n",
    "    "
   ]
  },
  {
   "cell_type": "code",
   "execution_count": 26,
   "id": "a1444904",
   "metadata": {},
   "outputs": [
    {
     "name": "stdout",
     "output_type": "stream",
     "text": [
      "[('ram', '111'), ('samu', '222')]\n"
     ]
    }
   ],
   "source": [
    "l = []\n",
    "for i in info.items():\n",
    "    l. append(i)\n",
    "    \n",
    "print(l) #changing the value into list from tuplw"
   ]
  },
  {
   "cell_type": "code",
   "execution_count": 27,
   "id": "e9d365c3",
   "metadata": {},
   "outputs": [
    {
     "data": {
      "text/plain": [
       "{'ram': '111', 'samu': '222'}"
      ]
     },
     "execution_count": 27,
     "metadata": {},
     "output_type": "execute_result"
    }
   ],
   "source": [
    "dict(l)"
   ]
  },
  {
   "cell_type": "code",
   "execution_count": 28,
   "id": "d03b7bbc",
   "metadata": {},
   "outputs": [
    {
     "data": {
      "text/plain": [
       "{'ram': '111', 'samu': '222'}"
      ]
     },
     "execution_count": 28,
     "metadata": {},
     "output_type": "execute_result"
    }
   ],
   "source": [
    "a = (('ram', '111'), ('samu', '222'))\n",
    "dict(l)"
   ]
  },
  {
   "cell_type": "code",
   "execution_count": 30,
   "id": "511aa3b4",
   "metadata": {},
   "outputs": [
    {
     "data": {
      "text/plain": [
       "{'ram': '111', 'samu': '222'}"
      ]
     },
     "execution_count": 30,
     "metadata": {},
     "output_type": "execute_result"
    }
   ],
   "source": [
    "a = [['ram', '111'], ['samu', '222']]\n",
    "dict(l)"
   ]
  },
  {
   "cell_type": "code",
   "execution_count": 32,
   "id": "3779751b",
   "metadata": {},
   "outputs": [
    {
     "data": {
      "text/plain": [
       "{'ram': '111', 'samu': '222', 'hari': '9090'}"
      ]
     },
     "execution_count": 32,
     "metadata": {},
     "output_type": "execute_result"
    }
   ],
   "source": [
    "a = {'ram': '111', 'samu': '222'}\n",
    "b = {'hari': '9090'}\n",
    "a.update(b)\n",
    "a"
   ]
  },
  {
   "cell_type": "code",
   "execution_count": 33,
   "id": "1fc4b382",
   "metadata": {},
   "outputs": [
    {
     "data": {
      "text/plain": [
       "{'samu': '222', 'hari': '9090'}"
      ]
     },
     "execution_count": 33,
     "metadata": {},
     "output_type": "execute_result"
    }
   ],
   "source": [
    "#del pop ()\n",
    "a = {'ram': '111', 'samu': '222', 'hari': '9090'}\n",
    "del a['ram']\n",
    "a #delete garda key ra value both delete"
   ]
  },
  {
   "cell_type": "code",
   "execution_count": 34,
   "id": "7ed704c6",
   "metadata": {},
   "outputs": [
    {
     "data": {
      "text/plain": [
       "4"
      ]
     },
     "execution_count": 34,
     "metadata": {},
     "output_type": "execute_result"
    }
   ],
   "source": [
    "a = {1:1,2:2,3:3,4:4}\n",
    "len(a)"
   ]
  },
  {
   "cell_type": "code",
   "execution_count": 35,
   "id": "ebd9cf4d",
   "metadata": {},
   "outputs": [
    {
     "data": {
      "text/plain": [
       "{'ram': '111', 'hari': '9090'}"
      ]
     },
     "execution_count": 35,
     "metadata": {},
     "output_type": "execute_result"
    }
   ],
   "source": [
    "a = {'ram': '111', 'samu': '222', 'hari': '9090'}\n",
    "a.pop(\"samu\")\n",
    "a"
   ]
  },
  {
   "cell_type": "code",
   "execution_count": 36,
   "id": "e5ba36c6",
   "metadata": {},
   "outputs": [
    {
     "name": "stdout",
     "output_type": "stream",
     "text": [
      "{'ram': '111', 'hari': '9090'}\n",
      "222\n"
     ]
    }
   ],
   "source": [
    "a = {'ram': '111', 'samu': '222', 'hari': '9090'}\n",
    "b = a.pop (\"samu\")\n",
    "print (a)\n",
    "print (b)\n",
    "\n"
   ]
  },
  {
   "cell_type": "code",
   "execution_count": null,
   "id": "a46bb4f6",
   "metadata": {},
   "outputs": [],
   "source": [
    "#one to many\n",
    "#list inside dictionary"
   ]
  },
  {
   "cell_type": "code",
   "execution_count": 38,
   "id": "c7e1da01",
   "metadata": {},
   "outputs": [
    {
     "data": {
      "text/plain": [
       "{'ram': [1122, 3344], 'sam': [44555, 6677], 'hari': [11999, 77666]}"
      ]
     },
     "execution_count": 38,
     "metadata": {},
     "output_type": "execute_result"
    }
   ],
   "source": [
    "a = {'ram': [1122, 3344], 'sam':[44555,6677],'hari':[11999,77666]}\n",
    "a"
   ]
  },
  {
   "cell_type": "code",
   "execution_count": 39,
   "id": "b11f2cba",
   "metadata": {},
   "outputs": [
    {
     "name": "stdout",
     "output_type": "stream",
     "text": [
      "enter n = 2\n",
      "enter name = sush\n",
      "enter phone = 12345\n",
      "enter phone = 98000\n",
      "enter name = pramit\n",
      "enter phone = 1111\n",
      "enter phone = 887766\n"
     ]
    },
    {
     "data": {
      "text/plain": [
       "{'sush': ['12345', '98000'], 'pramit': ['1111', '887766']}"
      ]
     },
     "execution_count": 39,
     "metadata": {},
     "output_type": "execute_result"
    }
   ],
   "source": [
    "info = {}\n",
    "n = int(input(\"enter n = \"))\n",
    "for i in range (n):\n",
    "    name = input (\"enter name = \") \n",
    "    ntc_phone = input (\"enter phone = \") \n",
    "    ncell_phone = input (\"enter phone = \")\n",
    "    info [name] = [ntc_phone, ncell_phone] \n",
    "    \n",
    "info"
   ]
  },
  {
   "cell_type": "code",
   "execution_count": 42,
   "id": "46ffd69f",
   "metadata": {},
   "outputs": [
    {
     "name": "stdout",
     "output_type": "stream",
     "text": [
      "enter name = sangit\n",
      "enter phone = 232323242\n",
      "enter phone = 11777890\n"
     ]
    },
    {
     "data": {
      "text/plain": [
       "{'sush': ['12345', '98000'],\n",
       " 'pramit': ['1111', '887766'],\n",
       " 'sangit': ['232323242', '11777890']}"
      ]
     },
     "execution_count": 42,
     "metadata": {},
     "output_type": "execute_result"
    }
   ],
   "source": [
    "name = input (\"enter name = \")\n",
    "ntc_phone = input (\"enter phone = \") \n",
    "ncell_phone = input (\"enter phone = \")\n",
    "info[name]= [ntc_phone, ncell_phone]\n",
    "info"
   ]
  },
  {
   "cell_type": "code",
   "execution_count": 44,
   "id": "3baafe0d",
   "metadata": {},
   "outputs": [
    {
     "data": {
      "text/plain": [
       "['1111', '887766']"
      ]
     },
     "execution_count": 44,
     "metadata": {},
     "output_type": "execute_result"
    }
   ],
   "source": [
    "info ['pramit']"
   ]
  },
  {
   "cell_type": "code",
   "execution_count": 45,
   "id": "ddffc612",
   "metadata": {},
   "outputs": [
    {
     "data": {
      "text/plain": [
       "{'sush': ['12345', '98000'],\n",
       " 'pramit': ['1111', '887766', 345678],\n",
       " 'sangit': ['232323242', '11777890']}"
      ]
     },
     "execution_count": 45,
     "metadata": {},
     "output_type": "execute_result"
    }
   ],
   "source": [
    "info['pramit'].append(345678) #just add one another phone number\n",
    "info"
   ]
  },
  {
   "cell_type": "code",
   "execution_count": 48,
   "id": "8b49d3fd",
   "metadata": {},
   "outputs": [
    {
     "data": {
      "text/plain": [
       "{'sush': [98000000, '98000'],\n",
       " 'pramit': [98000000, '887766', 345678],\n",
       " 'sangit': ['232323242', '11777890']}"
      ]
     },
     "execution_count": 48,
     "metadata": {},
     "output_type": "execute_result"
    }
   ],
   "source": [
    "info['pramit'][0]=98000000\n",
    "info"
   ]
  },
  {
   "cell_type": "code",
   "execution_count": null,
   "id": "3205df16",
   "metadata": {},
   "outputs": [],
   "source": []
  }
 ],
 "metadata": {
  "kernelspec": {
   "display_name": "Python 3 (ipykernel)",
   "language": "python",
   "name": "python3"
  },
  "language_info": {
   "codemirror_mode": {
    "name": "ipython",
    "version": 3
   },
   "file_extension": ".py",
   "mimetype": "text/x-python",
   "name": "python",
   "nbconvert_exporter": "python",
   "pygments_lexer": "ipython3",
   "version": "3.9.7"
  }
 },
 "nbformat": 4,
 "nbformat_minor": 5
}
