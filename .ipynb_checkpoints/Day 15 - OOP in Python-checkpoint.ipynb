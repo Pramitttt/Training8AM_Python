{
 "cells": [
  {
   "cell_type": "code",
   "execution_count": null,
   "id": "db6ff8f0",
   "metadata": {},
   "outputs": [],
   "source": [
    "# OOP is a high level programming language\n",
    "# OOP - object oriented programming"
   ]
  },
  {
   "cell_type": "code",
   "execution_count": null,
   "id": "a24c8045",
   "metadata": {},
   "outputs": [],
   "source": [
    "# class \n",
    "# object\n",
    "# method"
   ]
  },
  {
   "cell_type": "code",
   "execution_count": 1,
   "id": "c87d6923",
   "metadata": {},
   "outputs": [],
   "source": [
    "# class - controls big attributes, class Pythong (captial P always)\n",
    "\n",
    "class Hello:\n",
    "    pass"
   ]
  },
  {
   "cell_type": "code",
   "execution_count": null,
   "id": "6b425e14",
   "metadata": {},
   "outputs": [],
   "source": [
    "#object\n",
    "\n",
    "obj = Hello()"
   ]
  },
  {
   "cell_type": "code",
   "execution_count": 2,
   "id": "3c4e5619",
   "metadata": {},
   "outputs": [
    {
     "name": "stdout",
     "output_type": "stream",
     "text": [
      "hello world\n"
     ]
    }
   ],
   "source": [
    "class Hello:\n",
    "    print(\"hello world\")\n",
    "    \n",
    "obj = Hello() #mathi ko class le tala ko object lai initialize garcha"
   ]
  },
  {
   "cell_type": "code",
   "execution_count": 3,
   "id": "a0a83f2f",
   "metadata": {},
   "outputs": [
    {
     "ename": "TypeError",
     "evalue": "hello() takes 0 positional arguments but 1 was given",
     "output_type": "error",
     "traceback": [
      "\u001b[1;31m---------------------------------------------------------------------------\u001b[0m",
      "\u001b[1;31mTypeError\u001b[0m                                 Traceback (most recent call last)",
      "\u001b[1;32m~\\AppData\\Local\\Temp/ipykernel_19772/2004807763.py\u001b[0m in \u001b[0;36m<module>\u001b[1;34m\u001b[0m\n\u001b[0;32m      4\u001b[0m \u001b[1;33m\u001b[0m\u001b[0m\n\u001b[0;32m      5\u001b[0m \u001b[0mobj\u001b[0m \u001b[1;33m=\u001b[0m \u001b[0mHello\u001b[0m\u001b[1;33m(\u001b[0m\u001b[1;33m)\u001b[0m                     \u001b[1;31m#object\u001b[0m\u001b[1;33m\u001b[0m\u001b[1;33m\u001b[0m\u001b[0m\n\u001b[1;32m----> 6\u001b[1;33m \u001b[0mobj\u001b[0m\u001b[1;33m.\u001b[0m\u001b[0mhello\u001b[0m\u001b[1;33m(\u001b[0m\u001b[1;33m)\u001b[0m\u001b[1;33m\u001b[0m\u001b[1;33m\u001b[0m\u001b[0m\n\u001b[0m",
      "\u001b[1;31mTypeError\u001b[0m: hello() takes 0 positional arguments but 1 was given"
     ]
    }
   ],
   "source": [
    "class Hello:                     #class\n",
    "    def hello():                 #method\n",
    "        print(\"hello world\")\n",
    "    \n",
    "obj = Hello()                     #object\n",
    "obj.hello()\n"
   ]
  },
  {
   "cell_type": "code",
   "execution_count": 4,
   "id": "c42e78cb",
   "metadata": {},
   "outputs": [
    {
     "name": "stdout",
     "output_type": "stream",
     "text": [
      "hello world\n"
     ]
    }
   ],
   "source": [
    "class Hello:                     #class\n",
    "    def hello(self):                 #method\n",
    "        print(\"hello world\")\n",
    "    \n",
    "obj = Hello()                     #object\n",
    "obj.hello()\n"
   ]
  },
  {
   "cell_type": "code",
   "execution_count": null,
   "id": "ab1f73cb",
   "metadata": {},
   "outputs": [],
   "source": [
    "class Hello:                         #class\n",
    "    @staticmethod                    #decorator\n",
    "    def hello(self):                 #method\n",
    "        print(\"hello world\")\n",
    "    \n",
    "obj = Hello()                     #object\n",
    "obj.hello()\n"
   ]
  },
  {
   "cell_type": "code",
   "execution_count": 8,
   "id": "a40ccc5f",
   "metadata": {},
   "outputs": [
    {
     "name": "stdout",
     "output_type": "stream",
     "text": [
      "50\n",
      "60\n"
     ]
    }
   ],
   "source": [
    "class Cal:\n",
    "    @staticmethod\n",
    "    def area (l,b):\n",
    "        a = l*b\n",
    "        return a\n",
    "    \n",
    "    @staticmethod\n",
    "    def volume (l,b,h):\n",
    "        v = l*b*h\n",
    "        return v\n",
    "    \n",
    "obj = Cal()\n",
    "print(obj.area(10,5))\n",
    "print(obj.volume(10,3,2))\n"
   ]
  },
  {
   "cell_type": "code",
   "execution_count": 9,
   "id": "16504383",
   "metadata": {},
   "outputs": [
    {
     "name": "stdout",
     "output_type": "stream",
     "text": [
      "50\n",
      "60\n"
     ]
    }
   ],
   "source": [
    "class Cal:\n",
    "    \n",
    "    def area (self,l,b):\n",
    "        a = l*b\n",
    "        return a\n",
    "    \n",
    "    \n",
    "    def volume (self,l,b,h):\n",
    "        v = l*b*h\n",
    "        return v\n",
    "    \n",
    "obj = Cal()\n",
    "print(obj.area(10,5))\n",
    "print(obj.volume(10,3,2))\n"
   ]
  },
  {
   "cell_type": "code",
   "execution_count": 18,
   "id": "d6bd8e81",
   "metadata": {},
   "outputs": [
    {
     "name": "stdout",
     "output_type": "stream",
     "text": [
      "50\n",
      "150\n"
     ]
    }
   ],
   "source": [
    "class Cal:\n",
    "    def __init__(self,l,b,h):\n",
    "        self.length = l\n",
    "        self.breadth = b\n",
    "        self.height = h\n",
    "        \n",
    "    def area (self):\n",
    "        a = self.length*self.breadth\n",
    "        return a\n",
    "    \n",
    "    def volume (self):\n",
    "        v = self.length*self.breadth*self.height\n",
    "        return v\n",
    "    \n",
    "obj = Cal(10,5,3)\n",
    "print(obj.area())\n",
    "print(obj.volume())\n"
   ]
  },
  {
   "cell_type": "code",
   "execution_count": null,
   "id": "046795dd",
   "metadata": {},
   "outputs": [],
   "source": [
    "class Cal:\n",
    "    def __init__(self,l,b):\n",
    "        self.length = l\n",
    "        self.breadth = b\n",
    "    \n",
    "        \n",
    "    def area (self):\n",
    "        a = self.length*self.breadth\n",
    "        return a\n",
    "    \n",
    "    def volume (self,h):\n",
    "        v = self.length*self.breadth*h\n",
    "        return v\n",
    "    \n",
    "obj = Cal(10,5,3)\n",
    "print(obj.area())\n",
    "print(obj.volume(2))\n"
   ]
  },
  {
   "cell_type": "code",
   "execution_count": 8,
   "id": "16b6e6b6",
   "metadata": {},
   "outputs": [
    {
     "name": "stdout",
     "output_type": "stream",
     "text": [
      "enter l = 2\n",
      "enter b = 3\n"
     ]
    },
    {
     "ename": "AttributeError",
     "evalue": "'Cal' object has no attribute 'area'",
     "output_type": "error",
     "traceback": [
      "\u001b[1;31m---------------------------------------------------------------------------\u001b[0m",
      "\u001b[1;31mAttributeError\u001b[0m                            Traceback (most recent call last)",
      "\u001b[1;32m~\\AppData\\Local\\Temp/ipykernel_19744/4062004035.py\u001b[0m in \u001b[0;36m<module>\u001b[1;34m\u001b[0m\n\u001b[0;32m     14\u001b[0m \u001b[1;33m\u001b[0m\u001b[0m\n\u001b[0;32m     15\u001b[0m \u001b[0mobj\u001b[0m \u001b[1;33m=\u001b[0m \u001b[0mCal\u001b[0m\u001b[1;33m(\u001b[0m\u001b[0ml\u001b[0m\u001b[1;33m,\u001b[0m\u001b[0mb\u001b[0m\u001b[1;33m)\u001b[0m\u001b[1;33m\u001b[0m\u001b[1;33m\u001b[0m\u001b[0m\n\u001b[1;32m---> 16\u001b[1;33m \u001b[0mprint\u001b[0m\u001b[1;33m(\u001b[0m\u001b[0mobj\u001b[0m\u001b[1;33m.\u001b[0m\u001b[0marea\u001b[0m\u001b[1;33m(\u001b[0m\u001b[1;33m)\u001b[0m\u001b[1;33m)\u001b[0m\u001b[1;33m\u001b[0m\u001b[1;33m\u001b[0m\u001b[0m\n\u001b[0m",
      "\u001b[1;31mAttributeError\u001b[0m: 'Cal' object has no attribute 'area'"
     ]
    }
   ],
   "source": [
    "# WAP to input values from user and pass it to method and perform some operations\n",
    "\n",
    "class Cal:\n",
    "    def __init__(self,l,b):\n",
    "        self.l = l\n",
    "        self.b = b\n",
    "        \n",
    "        def area (self):\n",
    "            a = self.l*self.b\n",
    "            return a\n",
    "        \n",
    "l = int(input(\"enter l = \"))\n",
    "b = int(input (\"enter b = \"))\n",
    "\n",
    "obj = Cal(l,b)\n",
    "print(obj.area())"
   ]
  },
  {
   "cell_type": "code",
   "execution_count": 10,
   "id": "f2c51f7b",
   "metadata": {},
   "outputs": [
    {
     "name": "stdout",
     "output_type": "stream",
     "text": [
      "50\n",
      "100\n"
     ]
    }
   ],
   "source": [
    "class Area:\n",
    "    def __init__(self,l,b):\n",
    "        self.length = l\n",
    "        self.breadth = b\n",
    "    \n",
    "        \n",
    "    def area (self):\n",
    "        a = self.length*self.breadth\n",
    "        return a\n",
    "    \n",
    "class Volume: \n",
    "    def __init__(self,l,b,h):\n",
    "        self.l = l\n",
    "        self.b = b\n",
    "        self.h = h\n",
    "        \n",
    "    def volume(self,h):\n",
    "        v = self.l*self.b*self.h\n",
    "        return v\n",
    "        \n",
    "        \n",
    "obj1 = Area (10,5)\n",
    "obj2 = Volume(10,5,2)\n",
    "print(obj1.area())\n",
    "print(obj2.volume(2))\n"
   ]
  },
  {
   "cell_type": "code",
   "execution_count": null,
   "id": "c71578d0",
   "metadata": {},
   "outputs": [],
   "source": []
  }
 ],
 "metadata": {
  "kernelspec": {
   "display_name": "Python 3 (ipykernel)",
   "language": "python",
   "name": "python3"
  },
  "language_info": {
   "codemirror_mode": {
    "name": "ipython",
    "version": 3
   },
   "file_extension": ".py",
   "mimetype": "text/x-python",
   "name": "python",
   "nbconvert_exporter": "python",
   "pygments_lexer": "ipython3",
   "version": "3.9.7"
  }
 },
 "nbformat": 4,
 "nbformat_minor": 5
}
