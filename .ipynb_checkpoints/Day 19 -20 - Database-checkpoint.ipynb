{
 "cells": [
  {
   "cell_type": "code",
   "execution_count": 2,
   "id": "745c2e12",
   "metadata": {},
   "outputs": [],
   "source": [
    "import mysql.connector\n",
    "database = mysql.connector.connect(\n",
    "    host = \"localhost\",\n",
    "    user = \"root\",\n",
    "    password = \"\",\n",
    "    database = \"class8am\"\n",
    ")\n",
    "db = database.cursor()"
   ]
  },
  {
   "cell_type": "code",
   "execution_count": 5,
   "id": "100b0c11",
   "metadata": {},
   "outputs": [
    {
     "name": "stdout",
     "output_type": "stream",
     "text": [
      "(1, 'Ram Parsad', 70.0, 40.0, 85.0, 90.0, 60.0, 700.0, 80.0, 'A')\n",
      "(2, 'Jibesh', 30.0, 40.0, 50.0, 10.0, 10.0, 149.0, 23.0, 'D')\n"
     ]
    }
   ],
   "source": [
    "#Reading from database\n",
    "db.execute(\"SELECT * FROM student\")\n",
    "result = db.fetchall()\n",
    "for x in result:\n",
    "    print(x)"
   ]
  },
  {
   "cell_type": "code",
   "execution_count": 7,
   "id": "0b47a4b9",
   "metadata": {},
   "outputs": [
    {
     "data": {
      "text/plain": [
       "[(1, 'Ram Parsad', 70.0, 40.0, 85.0, 90.0, 60.0, 700.0, 80.0, 'A'),\n",
       " (2, 'Jibesh', 30.0, 40.0, 50.0, 10.0, 10.0, 149.0, 23.0, 'D')]"
      ]
     },
     "execution_count": 7,
     "metadata": {},
     "output_type": "execute_result"
    }
   ],
   "source": [
    "#Reading from database\n",
    "data = []\n",
    "sql = \"SELECT * FROM student\"\n",
    "db.execute(sql)\n",
    "result = db.fetchall()\n",
    "for x in result:\n",
    "    data.append(x)\n",
    "    \n",
    "data"
   ]
  },
  {
   "cell_type": "code",
   "execution_count": 9,
   "id": "9c4706dc",
   "metadata": {},
   "outputs": [
    {
     "data": {
      "text/plain": [
       "[(1, 'Ram Parsad', 'A'), (2, 'Jibesh', 'D')]"
      ]
     },
     "execution_count": 9,
     "metadata": {},
     "output_type": "execute_result"
    }
   ],
   "source": [
    "#Reading from database\n",
    "data = []\n",
    "sql = \"SELECT sn,name,grade  FROM student\"\n",
    "db.execute(sql)\n",
    "result = db.fetchall()\n",
    "for x in result:\n",
    "    data.append(x)\n",
    "    \n",
    "data"
   ]
  },
  {
   "cell_type": "code",
   "execution_count": 15,
   "id": "6642abcb",
   "metadata": {},
   "outputs": [],
   "source": [
    "# insert data in database\n",
    "\n",
    "sql = '''INSERT INTO student (Name, Physics, Chemistry, Maths, English, Nepali, Total)\n",
    "VALUES ('Nabin',78,67,89,67,90,600)'''\n",
    "db.execute(sql)\n",
    "database.commit()"
   ]
  },
  {
   "cell_type": "code",
   "execution_count": 3,
   "id": "2464b448",
   "metadata": {},
   "outputs": [
    {
     "name": "stdout",
     "output_type": "stream",
     "text": [
      "enter n = 2\n",
      "enter user name = Ram Krishna\n",
      "enter Physics Marks = 40\n",
      "enter Chemistry Marks = 50\n",
      "enter Maths Marks = 60\n",
      "enter English Marks = 70\n",
      "enter Nepali Marks = 80\n",
      "enter user name = Hari Bdr\n",
      "enter Physics Marks = 90\n",
      "enter Chemistry Marks = 80\n",
      "enter Maths Marks = 70\n",
      "enter English Marks = 60\n",
      "enter Nepali Marks = 50\n"
     ]
    }
   ],
   "source": [
    "n = int(input(\"enter n = \"))\n",
    "for i in range (n):\n",
    "    name = input (\"enter user name = \")\n",
    "    Physics = int(input (\"enter Physics Marks = \"))\n",
    "    Chemistry = int(input (\"enter Chemistry Marks = \"))\n",
    "    Maths = int(input (\"enter Maths Marks = \"))\n",
    "    English = int(input (\"enter English Marks = \"))\n",
    "    Nepali = int(input (\"enter Nepali Marks = \"))\n",
    "\n",
    "    total = Physics + Chemistry + Maths + English + Nepali\n",
    "\n",
    "    sql = f\"INSERT INTO student (Name, Physics, Chemistry, Maths, English, Nepali, Total) VALUES ('{name}',{Physics},{Chemistry},{Maths},{English},{Nepali},{total})\"\n",
    "    db.execute(sql)\n",
    "database.commit()"
   ]
  },
  {
   "cell_type": "markdown",
   "id": "bad4ca00",
   "metadata": {},
   "source": []
  }
 ],
 "metadata": {
  "kernelspec": {
   "display_name": "Python 3 (ipykernel)",
   "language": "python",
   "name": "python3"
  },
  "language_info": {
   "codemirror_mode": {
    "name": "ipython",
    "version": 3
   },
   "file_extension": ".py",
   "mimetype": "text/x-python",
   "name": "python",
   "nbconvert_exporter": "python",
   "pygments_lexer": "ipython3",
   "version": "3.9.7"
  }
 },
 "nbformat": 4,
 "nbformat_minor": 5
}
