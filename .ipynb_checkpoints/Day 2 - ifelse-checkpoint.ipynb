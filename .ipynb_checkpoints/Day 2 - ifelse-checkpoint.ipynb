{
 "cells": [
  {
   "cell_type": "code",
   "execution_count": null,
   "id": "3c1f33a1",
   "metadata": {},
   "outputs": [],
   "source": [
    "# > < >= >= == !"
   ]
  },
  {
   "cell_type": "code",
   "execution_count": 3,
   "id": "1ace5c15",
   "metadata": {},
   "outputs": [
    {
     "name": "stdout",
     "output_type": "stream",
     "text": [
      "True\n",
      "False\n"
     ]
    }
   ],
   "source": [
    "a = 10\n",
    "b = 20\n",
    "print (a<b)\n",
    "print (a>b)"
   ]
  },
  {
   "cell_type": "code",
   "execution_count": 7,
   "id": "ef04a0c0",
   "metadata": {},
   "outputs": [
    {
     "name": "stdout",
     "output_type": "stream",
     "text": [
      "True\n"
     ]
    }
   ],
   "source": [
    "a = 20\n",
    "b = 20\n",
    "print (a==b) #comparision garcha left ra right side lai where as one = is used to assign a value"
   ]
  },
  {
   "cell_type": "code",
   "execution_count": 10,
   "id": "47cb843d",
   "metadata": {},
   "outputs": [
    {
     "name": "stdout",
     "output_type": "stream",
     "text": [
      "True\n"
     ]
    }
   ],
   "source": [
    "a = 10\n",
    "b = 20\n",
    "print (a!=b) #is not equal to left side or right side, opp of =="
   ]
  },
  {
   "cell_type": "code",
   "execution_count": 12,
   "id": "42de45d1",
   "metadata": {},
   "outputs": [],
   "source": [
    "#if <condition>:\n",
    "#    <opration>\n",
    "#elif <condition>: #multiple condition\n",
    "#   <operation>\n",
    "#else: #no condition in else, and used in last only\n",
    "#    <operation>\n",
    "    "
   ]
  },
  {
   "cell_type": "code",
   "execution_count": null,
   "id": "d6042683",
   "metadata": {},
   "outputs": [],
   "source": []
  },
  {
   "cell_type": "code",
   "execution_count": 15,
   "id": "808c3a57",
   "metadata": {},
   "outputs": [
    {
     "name": "stdout",
     "output_type": "stream",
     "text": [
      "enter a = 15\n",
      "this is odd number\n"
     ]
    }
   ],
   "source": [
    "a = int ( input ( \"enter a = \"))\n",
    "if a%2 == 0:\n",
    "    print (\"this is even number\")\n",
    "else:\n",
    "    print (\"this is odd number\")"
   ]
  },
  {
   "cell_type": "code",
   "execution_count": 18,
   "id": "07184f4e",
   "metadata": {},
   "outputs": [
    {
     "name": "stdout",
     "output_type": "stream",
     "text": [
      "enter a number = 2\n",
      "enter a  numer = 2\n",
      "both are equal\n"
     ]
    }
   ],
   "source": [
    "a = int (input (\"enter a number = \"))\n",
    "b = int (input (\"enter a  numer = \"))\n",
    "if a > b:\n",
    "    print (a , \"is greater\")\n",
    "elif b>a :\n",
    "    print (b, \"is greater\")\n",
    "else:\n",
    "    print (\"both are equal\")\n",
    "    "
   ]
  },
  {
   "cell_type": "code",
   "execution_count": 21,
   "id": "288535c5",
   "metadata": {},
   "outputs": [
    {
     "name": "stdout",
     "output_type": "stream",
     "text": [
      "enter a number = 1\n",
      "enter another number = 2\n",
      "enter + - * / *\n",
      "2\n"
     ]
    }
   ],
   "source": [
    "a = int (input (\"enter a number = \"))\n",
    "b = int ( input (\"enter another number = \"))\n",
    "o = input (\"enter + - * / \")\n",
    "if o == \"+\":\n",
    "    print (a + b)\n",
    "elif o == \"-\":\n",
    "    print (a-b)\n",
    "elif o == \"*\" :\n",
    "    print (a*b)\n",
    "elif o == \"/\":\n",
    "    print (a/b)\n",
    "else:\n",
    "    print (\"invalid operator\")\n",
    "    "
   ]
  },
  {
   "cell_type": "code",
   "execution_count": null,
   "id": "b9d92624",
   "metadata": {},
   "outputs": [],
   "source": []
  }
 ],
 "metadata": {
  "kernelspec": {
   "display_name": "Python 3 (ipykernel)",
   "language": "python",
   "name": "python3"
  },
  "language_info": {
   "codemirror_mode": {
    "name": "ipython",
    "version": 3
   },
   "file_extension": ".py",
   "mimetype": "text/x-python",
   "name": "python",
   "nbconvert_exporter": "python",
   "pygments_lexer": "ipython3",
   "version": "3.9.7"
  }
 },
 "nbformat": 4,
 "nbformat_minor": 5
}
