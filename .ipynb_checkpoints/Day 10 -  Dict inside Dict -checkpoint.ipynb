{
 "cells": [
  {
   "cell_type": "code",
   "execution_count": 17,
   "id": "6bf30d0b",
   "metadata": {},
   "outputs": [
    {
     "data": {
      "text/plain": [
       "{1: {'Name': 'ram', 'age': 56, 'address': 'ktm'},\n",
       " 2: {'Name': 'Sush', 'age': 20, 'address': 'putalisadak'},\n",
       " 3: {'Name': 'sanju', 'age': 27, 'address': 'bara'}}"
      ]
     },
     "execution_count": 17,
     "metadata": {},
     "output_type": "execute_result"
    }
   ],
   "source": [
    "#Dictionary inside dictionary\n",
    "d = {1:{\"Name\":\"ram\", \"age\":56, \"address\":\"ktm\"}, 2:{\"Name\":\"Sush\", \"age\":20, \"address\":\"putalisadak\"}, 3:{\"Name\":\"sanju\", \"age\":27, \"address\":\"bara\"}}\n",
    "d\n"
   ]
  },
  {
   "cell_type": "code",
   "execution_count": 19,
   "id": "ab0f9de9",
   "metadata": {},
   "outputs": [
    {
     "data": {
      "text/plain": [
       "{1: {'Name': 'ram', 'age': 56, 'address': 'ktm', 'phone': 12345},\n",
       " 2: {'Name': 'Sush', 'age': 20, 'address': 'putalisadak', 'phone': 54321},\n",
       " 3: {'Name': 'sanju', 'age': 27, 'address': 'bara', 'phone': 67890}}"
      ]
     },
     "execution_count": 19,
     "metadata": {},
     "output_type": "execute_result"
    }
   ],
   "source": [
    "d [1] ['phone'] = 12345\n",
    "d [2] ['phone'] = 54321\n",
    "d [3] ['phone'] = 67890\n",
    "d"
   ]
  },
  {
   "cell_type": "code",
   "execution_count": 20,
   "id": "e35122d0",
   "metadata": {},
   "outputs": [
    {
     "data": {
      "text/plain": [
       "{1: {'Name': 'ram', 'age': 56, 'address': 'ktm'},\n",
       " 2: {'Name': 'Sush', 'age': 20, 'address': 'putalisadak'}}"
      ]
     },
     "execution_count": 20,
     "metadata": {},
     "output_type": "execute_result"
    }
   ],
   "source": [
    "d = {1:{\"Name\":\"ram\", \"age\":56, \"address\":\"ktm\"}, 2:{\"Name\":\"Sush\", \"age\":20, \"address\":\"putalisadak\"}, 3:{\"Name\":\"sanju\", \"age\":27, \"address\":\"bara\"}}\n",
    "del d [3]\n",
    "d"
   ]
  },
  {
   "cell_type": "code",
   "execution_count": 24,
   "id": "8fdd540b",
   "metadata": {},
   "outputs": [
    {
     "name": "stdout",
     "output_type": "stream",
     "text": [
      "enter n = 2\n",
      "enter name = ram\n",
      "enter age = 12\n",
      "enter address = ramechap\n",
      "enter phone ko number = 12333\n",
      "enter name = shyam\n",
      "enter age = 34\n",
      "enter address = parsa\n",
      "enter phone ko number = 3322111\n",
      "{1: {'name': 'ram', 'age': 12, 'address': 'ramechap'}, 2: {'name': 'shyam', 'age': 34, 'address': 'parsa'}}\n"
     ]
    }
   ],
   "source": [
    "d = {}\n",
    "n = int (input(\"enter n = \"))\n",
    "for i in range (1,n+1): #n+1 makes the value run till n, orelse it will run till 1 in this case coz n = 2\n",
    "    name = input (\"enter name = \")\n",
    "    age = int(input (\"enter age = \"))\n",
    "    add = input (\"enter address = \")\n",
    "    phone = int(input(\"enter phone ko number = \"))\n",
    "    d[i] = {\"name\": name, \"age\":age, \"address\":add} # key is the value of i, (name age add ) is the value \n",
    "    \n",
    "print (d)"
   ]
  },
  {
   "cell_type": "code",
   "execution_count": null,
   "id": "87033b5f",
   "metadata": {},
   "outputs": [],
   "source": [
    "# #WAP TO CREATE FOLLOWING TYPE AND PERFORM CRUD\n",
    "# d = {\"name\":[\"ram\", \"hari\", \"sita\"], \"age\":[22,43,45], \"address\": [\"kathmandu\", \"bara\", \"lalitpur\"]}\n",
    "\n",
    "# a = [{'name': 'ram', 'age': 12, 'address': 'ramechap'}, {'name': 'shyam', 'age': 34, 'address': 'parsa'}, {'Name': 'sanju', 'age': 27, 'address': 'bara'}]"
   ]
  }
 ],
 "metadata": {
  "kernelspec": {
   "display_name": "Python 3 (ipykernel)",
   "language": "python",
   "name": "python3"
  },
  "language_info": {
   "codemirror_mode": {
    "name": "ipython",
    "version": 3
   },
   "file_extension": ".py",
   "mimetype": "text/x-python",
   "name": "python",
   "nbconvert_exporter": "python",
   "pygments_lexer": "ipython3",
   "version": "3.9.7"
  }
 },
 "nbformat": 4,
 "nbformat_minor": 5
}
