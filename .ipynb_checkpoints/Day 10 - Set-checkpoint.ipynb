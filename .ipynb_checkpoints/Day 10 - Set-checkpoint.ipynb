{
 "cells": [
  {
   "cell_type": "code",
   "execution_count": null,
   "id": "905b67c2",
   "metadata": {},
   "outputs": [],
   "source": [
    "# Set\n",
    "# - No indexing\n",
    "# - unordered\n",
    "# - mutable\n",
    "# - no duplicate data\n",
    "# - multiple values\n"
   ]
  },
  {
   "cell_type": "code",
   "execution_count": 1,
   "id": "c5c1ffa2",
   "metadata": {},
   "outputs": [
    {
     "name": "stdout",
     "output_type": "stream",
     "text": [
      "<class 'set'>\n"
     ]
    }
   ],
   "source": [
    "s = {\"apple\", \"ball\", \"cat\", \"dog\"}\n",
    "print (type(s))"
   ]
  },
  {
   "cell_type": "code",
   "execution_count": 2,
   "id": "422759cc",
   "metadata": {},
   "outputs": [
    {
     "data": {
      "text/plain": [
       "dict"
      ]
     },
     "execution_count": 2,
     "metadata": {},
     "output_type": "execute_result"
    }
   ],
   "source": [
    "s = {}\n",
    "type (s)"
   ]
  },
  {
   "cell_type": "code",
   "execution_count": 6,
   "id": "bcc0cc75",
   "metadata": {},
   "outputs": [
    {
     "data": {
      "text/plain": [
       "set"
      ]
     },
     "execution_count": 6,
     "metadata": {},
     "output_type": "execute_result"
    }
   ],
   "source": [
    "s = {1}\n",
    "type (s)"
   ]
  },
  {
   "cell_type": "code",
   "execution_count": 10,
   "id": "553b8474",
   "metadata": {},
   "outputs": [
    {
     "name": "stdout",
     "output_type": "stream",
     "text": [
      "{'Apple', 'Ball', 'Dog', 'Cat'}\n"
     ]
    }
   ],
   "source": [
    "# no indexing because it is unordered\n",
    "s = {\"Apple\", \"Ball\", \"Cat\", \"Dog\"}\n",
    "print (s) #print lekhna sath the result is unordered"
   ]
  },
  {
   "cell_type": "code",
   "execution_count": 9,
   "id": "da5f59e0",
   "metadata": {},
   "outputs": [
    {
     "data": {
      "text/plain": [
       "{'apple', 'ball', 'cat', 'dog'}"
      ]
     },
     "execution_count": 9,
     "metadata": {},
     "output_type": "execute_result"
    }
   ],
   "source": [
    "s"
   ]
  },
  {
   "cell_type": "code",
   "execution_count": 11,
   "id": "a813693a",
   "metadata": {},
   "outputs": [
    {
     "name": "stdout",
     "output_type": "stream",
     "text": [
      "{3344, 1, 3300, 677, 12}\n"
     ]
    }
   ],
   "source": [
    "s = {12,3344,1,3300,677}\n",
    "print (s)"
   ]
  },
  {
   "cell_type": "code",
   "execution_count": 12,
   "id": "fe8be714",
   "metadata": {},
   "outputs": [
    {
     "data": {
      "text/plain": [
       "{1, 12, 677, 3300, 3344}"
      ]
     },
     "execution_count": 12,
     "metadata": {},
     "output_type": "execute_result"
    }
   ],
   "source": [
    "s"
   ]
  },
  {
   "cell_type": "code",
   "execution_count": 13,
   "id": "ce4f7ee3",
   "metadata": {},
   "outputs": [
    {
     "name": "stdout",
     "output_type": "stream",
     "text": [
      "{'apple', 'ball', 'cat', 'dog'}\n"
     ]
    }
   ],
   "source": [
    "s = {\"apple\", \"ball\", \"cat\", \"dog\", \"apple\"} #does'nt support duplicate value\n",
    "print (s)\n"
   ]
  },
  {
   "cell_type": "code",
   "execution_count": 20,
   "id": "a9c2b4f2",
   "metadata": {},
   "outputs": [
    {
     "data": {
      "text/plain": [
       "{11, 22, 33, 44}"
      ]
     },
     "execution_count": 20,
     "metadata": {},
     "output_type": "execute_result"
    }
   ],
   "source": [
    "s = [11,22,33,11,22,33,44,33,11]\n",
    "s = set(s) #if you convert into set, it automatically removes the duplicate value\n",
    "s"
   ]
  },
  {
   "cell_type": "code",
   "execution_count": 21,
   "id": "713ca044",
   "metadata": {},
   "outputs": [
    {
     "data": {
      "text/plain": [
       "[33, 11, 44, 22]"
      ]
     },
     "execution_count": 21,
     "metadata": {},
     "output_type": "execute_result"
    }
   ],
   "source": [
    "s = list (s)\n",
    "s #set ma hune bitikai it changes the order type and again converted into list"
   ]
  },
  {
   "cell_type": "code",
   "execution_count": null,
   "id": "baf44b01",
   "metadata": {},
   "outputs": [],
   "source": [
    "# How to create set?"
   ]
  },
  {
   "cell_type": "code",
   "execution_count": 24,
   "id": "be4b0f86",
   "metadata": {},
   "outputs": [
    {
     "name": "stdout",
     "output_type": "stream",
     "text": [
      "enter n = 3\n",
      "enter x = apple\n",
      "enter x = ball\n",
      "enter x = cat\n",
      "{'apple', 'ball', 'cat'}\n"
     ]
    }
   ],
   "source": [
    "s = set ()\n",
    "n = int (input (\"enter n = \"))\n",
    "for i in range (n):\n",
    "    x = input(\"enter x = \")\n",
    "    s.add(x)\n",
    "    \n",
    "print(s)"
   ]
  },
  {
   "cell_type": "code",
   "execution_count": 26,
   "id": "11ee7743",
   "metadata": {},
   "outputs": [
    {
     "data": {
      "text/plain": [
       "{'ball', 'cat'}"
      ]
     },
     "execution_count": 26,
     "metadata": {},
     "output_type": "execute_result"
    }
   ],
   "source": [
    "s = {'apple',\"ball\",\"cat\"}\n",
    "s.remove('apple')\n",
    "s"
   ]
  },
  {
   "cell_type": "code",
   "execution_count": null,
   "id": "7e9979f4",
   "metadata": {},
   "outputs": [],
   "source": [
    "# how to relate it with mathematics set? \n",
    "# # it is used to compare the value.\n",
    "# no concadination in set\n"
   ]
  },
  {
   "cell_type": "code",
   "execution_count": 27,
   "id": "e770fda4",
   "metadata": {},
   "outputs": [
    {
     "ename": "TypeError",
     "evalue": "unsupported operand type(s) for +: 'set' and 'set'",
     "output_type": "error",
     "traceback": [
      "\u001b[1;31m---------------------------------------------------------------------------\u001b[0m",
      "\u001b[1;31mTypeError\u001b[0m                                 Traceback (most recent call last)",
      "\u001b[1;32m~\\AppData\\Local\\Temp/ipykernel_18724/3768149445.py\u001b[0m in \u001b[0;36m<module>\u001b[1;34m\u001b[0m\n\u001b[0;32m      2\u001b[0m \u001b[0mb\u001b[0m \u001b[1;33m=\u001b[0m \u001b[1;33m{\u001b[0m\u001b[1;34m\"sodhi\"\u001b[0m\u001b[1;33m,\u001b[0m\u001b[1;34m\"iyer\"\u001b[0m\u001b[1;33m,\u001b[0m \u001b[1;34m\"jetha lal\"\u001b[0m\u001b[1;33m,\u001b[0m \u001b[1;34m\"babita\"\u001b[0m\u001b[1;33m,\u001b[0m \u001b[1;34m\"babuji\"\u001b[0m\u001b[1;33m}\u001b[0m\u001b[1;33m\u001b[0m\u001b[1;33m\u001b[0m\u001b[0m\n\u001b[0;32m      3\u001b[0m \u001b[1;33m\u001b[0m\u001b[0m\n\u001b[1;32m----> 4\u001b[1;33m \u001b[0mc\u001b[0m \u001b[1;33m=\u001b[0m \u001b[0ma\u001b[0m \u001b[1;33m+\u001b[0m \u001b[0mb\u001b[0m\u001b[1;33m\u001b[0m\u001b[1;33m\u001b[0m\u001b[0m\n\u001b[0m\u001b[0;32m      5\u001b[0m \u001b[0mc\u001b[0m\u001b[1;33m\u001b[0m\u001b[1;33m\u001b[0m\u001b[0m\n\u001b[0;32m      6\u001b[0m \u001b[1;33m\u001b[0m\u001b[0m\n",
      "\u001b[1;31mTypeError\u001b[0m: unsupported operand type(s) for +: 'set' and 'set'"
     ]
    }
   ],
   "source": [
    "a = {\"rajan\",\"krish\",\"joe\",\"love\",\"pushpa\"}\n",
    "b = {\"sodhi\",\"iyer\", \"jetha lal\", \"babita\", \"babuji\"}\n",
    "\n",
    "c = a + b\n",
    "c\n",
    "\n"
   ]
  },
  {
   "cell_type": "code",
   "execution_count": 30,
   "id": "729756a6",
   "metadata": {},
   "outputs": [
    {
     "name": "stdout",
     "output_type": "stream",
     "text": [
      "{'sodhi', 'pushpa', 'krish', 'iyer', 'joe', 'love', 'babita', 'rajan', 'jetha lal', 'babuji'}\n"
     ]
    }
   ],
   "source": [
    "a = {\"rajan\",\"krish\",\"joe\",\"love\",\"pushpa\",\"jetha lal\"}\n",
    "b = {\"sodhi\",\"iyer\", \"jetha lal\", \"babita\", \"babuji\",\"pushpa\"}\n",
    "a.update(b)\n",
    "print(a)"
   ]
  },
  {
   "cell_type": "code",
   "execution_count": 34,
   "id": "07f6949d",
   "metadata": {},
   "outputs": [
    {
     "data": {
      "text/plain": [
       "{'babita',\n",
       " 'babuji',\n",
       " 'iyer',\n",
       " 'jetha lal',\n",
       " 'joe',\n",
       " 'krish',\n",
       " 'love',\n",
       " 'pushpa',\n",
       " 'rajan',\n",
       " 'sodhi'}"
      ]
     },
     "execution_count": 34,
     "metadata": {},
     "output_type": "execute_result"
    }
   ],
   "source": [
    "a = {\"rajan\",\"krish\",\"joe\",\"love\",\"pushpa\",\"jetha lal\"}\n",
    "b = {\"sodhi\",\"iyer\", \"jetha lal\", \"babita\", \"babuji\",\"pushpa\"}\n",
    "a.union(b)\n"
   ]
  },
  {
   "cell_type": "code",
   "execution_count": 35,
   "id": "e9699934",
   "metadata": {},
   "outputs": [
    {
     "data": {
      "text/plain": [
       "{'jetha lal', 'pushpa'}"
      ]
     },
     "execution_count": 35,
     "metadata": {},
     "output_type": "execute_result"
    }
   ],
   "source": [
    "a = {\"rajan\",\"krish\",\"joe\",\"love\",\"pushpa\",\"jetha lal\"}\n",
    "b = {\"sodhi\",\"iyer\", \"jetha lal\", \"babita\", \"babuji\",\"pushpa\"}\n",
    "a.intersection(b)\n"
   ]
  },
  {
   "cell_type": "code",
   "execution_count": 36,
   "id": "f9cea82d",
   "metadata": {},
   "outputs": [
    {
     "data": {
      "text/plain": [
       "2"
      ]
     },
     "execution_count": 36,
     "metadata": {},
     "output_type": "execute_result"
    }
   ],
   "source": [
    "a = {\"rajan\",\"krish\",\"joe\",\"love\",\"pushpa\",\"jetha lal\"}\n",
    "b = {\"sodhi\",\"iyer\", \"jetha lal\", \"babita\", \"babuji\",\"pushpa\"}\n",
    "x = a.intersection(b)\n",
    "len(x)"
   ]
  },
  {
   "cell_type": "code",
   "execution_count": 37,
   "id": "99393b22",
   "metadata": {},
   "outputs": [
    {
     "data": {
      "text/plain": [
       "{'joe', 'krish', 'love', 'rajan'}"
      ]
     },
     "execution_count": 37,
     "metadata": {},
     "output_type": "execute_result"
    }
   ],
   "source": [
    "a.difference(b)"
   ]
  },
  {
   "cell_type": "code",
   "execution_count": 38,
   "id": "ed5b9100",
   "metadata": {},
   "outputs": [
    {
     "data": {
      "text/plain": [
       "{'babita', 'babuji', 'iyer', 'sodhi'}"
      ]
     },
     "execution_count": 38,
     "metadata": {},
     "output_type": "execute_result"
    }
   ],
   "source": [
    "b.difference(a)"
   ]
  },
  {
   "cell_type": "code",
   "execution_count": 42,
   "id": "8e894b2c",
   "metadata": {},
   "outputs": [
    {
     "data": {
      "text/plain": [
       "False"
      ]
     },
     "execution_count": 42,
     "metadata": {},
     "output_type": "execute_result"
    }
   ],
   "source": [
    "a.isdisjoint(b)"
   ]
  },
  {
   "cell_type": "code",
   "execution_count": 43,
   "id": "eeff9362",
   "metadata": {},
   "outputs": [
    {
     "data": {
      "text/plain": [
       "True"
      ]
     },
     "execution_count": 43,
     "metadata": {},
     "output_type": "execute_result"
    }
   ],
   "source": [
    "a = {1,2,3,4}\n",
    "b = {1,2,3,4,5,6,7,8}\n",
    "a.issubset(b)"
   ]
  },
  {
   "cell_type": "code",
   "execution_count": 44,
   "id": "1e04361a",
   "metadata": {},
   "outputs": [
    {
     "data": {
      "text/plain": [
       "False"
      ]
     },
     "execution_count": 44,
     "metadata": {},
     "output_type": "execute_result"
    }
   ],
   "source": [
    "a = {1,2,3,4}\n",
    "b = {1,2,3,4,5,6,7,8}\n",
    "a.issuperset(b)"
   ]
  },
  {
   "cell_type": "code",
   "execution_count": 52,
   "id": "1b135e55",
   "metadata": {},
   "outputs": [
    {
     "data": {
      "text/plain": [
       "{'ful kumari', 'mika lal'}"
      ]
     },
     "execution_count": 52,
     "metadata": {},
     "output_type": "execute_result"
    }
   ],
   "source": [
    "u = {\"rajan\",\"krish\",\"joe\",\"love\",\"pushpa\",\"jetha lal\",\"steve jobs\", \"rajan\",\"krish\",\"joe\",\"love\",\"pushpa\",\"jetha lal\",\"steve jobs\", \"mika lal\", \"ful kumari\"}\n",
    "\n",
    "apple = {\"rajan\",\"krish\",\"joe\",\"love\",\"pushpa\",\"jetha lal\",\"steve jobs\"}\n",
    "ms = {\"sodhi\",\"iyer\", \"jetha lal\", \"babita\", \"babuji\",\"pushpa\", \"billu barber\"}\n",
    "\n",
    "un = apple.union(ms)\n",
    "u.difference(un)\n"
   ]
  },
  {
   "cell_type": "code",
   "execution_count": null,
   "id": "584e335d",
   "metadata": {},
   "outputs": [],
   "source": []
  }
 ],
 "metadata": {
  "kernelspec": {
   "display_name": "Python 3 (ipykernel)",
   "language": "python",
   "name": "python3"
  },
  "language_info": {
   "codemirror_mode": {
    "name": "ipython",
    "version": 3
   },
   "file_extension": ".py",
   "mimetype": "text/x-python",
   "name": "python",
   "nbconvert_exporter": "python",
   "pygments_lexer": "ipython3",
   "version": "3.9.7"
  }
 },
 "nbformat": 4,
 "nbformat_minor": 5
}
