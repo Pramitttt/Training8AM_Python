{
 "cells": [
  {
   "cell_type": "code",
   "execution_count": 1,
   "id": "7faa7fd5",
   "metadata": {},
   "outputs": [],
   "source": [
    "import mysql.connector\n",
    "database = mysql.connector.connect(\n",
    "    host = \"localhost\",\n",
    "    user = \"root\",\n",
    "    password = \"\",\n",
    "    database = \"class8am\"\n",
    ")\n",
    "db = database.cursor()"
   ]
  },
  {
   "cell_type": "code",
   "execution_count": 2,
   "id": "9ce940f7",
   "metadata": {},
   "outputs": [],
   "source": [
    "sql = 'UPDATE student SET name = \"Rosey\" Where sn = 3'\n",
    "db.execute(sql)\n",
    "database.commit()\n"
   ]
  },
  {
   "cell_type": "code",
   "execution_count": 5,
   "id": "4878955f",
   "metadata": {},
   "outputs": [
    {
     "name": "stdout",
     "output_type": "stream",
     "text": [
      "enter name = Durlav\n",
      "enter sn = 7\n"
     ]
    }
   ],
   "source": [
    "name = input(\"enter name = \")\n",
    "sn = int(input(\"enter sn = \"))\n",
    "\n",
    "sql = f'UPDATE student SET name = \"{name}\" Where sn = {sn}'\n",
    "db.execute(sql)\n",
    "database.commit()\n"
   ]
  },
  {
   "cell_type": "code",
   "execution_count": 7,
   "id": "80e6ab21",
   "metadata": {},
   "outputs": [
    {
     "name": "stdout",
     "output_type": "stream",
     "text": [
      "enter name = Trishna Budhathoki\n",
      "enter sn = 6\n",
      "enter grade = F\n"
     ]
    }
   ],
   "source": [
    "name = input(\"enter name = \")\n",
    "sn = int(input(\"enter sn = \"))\n",
    "grade = input(\"enter grade = \")\n",
    "\n",
    "sql = f'UPDATE student SET name = \"{name}\",grade = \"{grade}\" Where sn = {sn}'\n",
    "db.execute(sql)\n",
    "database.commit()\n"
   ]
  },
  {
   "cell_type": "code",
   "execution_count": null,
   "id": "0597401f",
   "metadata": {},
   "outputs": [],
   "source": []
  },
  {
   "cell_type": "code",
   "execution_count": null,
   "id": "bfb03bb8",
   "metadata": {},
   "outputs": [],
   "source": [
    "# input from user\n",
    "# 1 for insert\n",
    "# 2 for select\n",
    "# 3 for update\n",
    "# 4 for delete"
   ]
  },
  {
   "cell_type": "code",
   "execution_count": 21,
   "id": "3136c9ad",
   "metadata": {},
   "outputs": [
    {
     "name": "stdout",
     "output_type": "stream",
     "text": [
      "enter n = 4\n",
      "enter name = pritha\n"
     ]
    }
   ],
   "source": [
    "n = int(input (\"enter n = \"))\n",
    "if n == 1:\n",
    "    m = int(input(\"enter m number = \"))\n",
    "    for i in range (m):\n",
    "        sn = int(input(\"enter sn = \"))\n",
    "        name = input(\"enter name = \")\n",
    "        Physics = int(input (\"enter Physics Marks = \"))\n",
    "        Chemistry = int(input (\"enter Chemistry Marks = \"))\n",
    "        Maths = int(input (\"enter Maths Marks = \"))\n",
    "        English = int(input (\"enter English Marks = \"))\n",
    "        Nepali = int(input (\"enter Nepali Marks = \"))\n",
    "        total = Physics + Chemistry + Maths + English + Nepali\n",
    "        sql = f\"INSERT INTO student (Name, Physics, Chemistry, Maths, English, Nepali, Total) VALUES ('{name}',{Physics},{Chemistry},{Maths},{English},{Nepali},{total})\"\n",
    "        db.execute(sql)\n",
    "    database.commit()\n",
    "    print(db.rowcount,\"values inserted\")\n",
    "\n",
    "elif n == 2:\n",
    "    db.execute(\"select * from student\")\n",
    "    result = db.fetchall()\n",
    "    for x in result:\n",
    "        print(x)\n",
    "        \n",
    "elif n == 3:\n",
    "    name = input(\"enter name = \")\n",
    "    sn = int(input(\"enter sn = \"))\n",
    "    grade = input(\"enter grade = \")\n",
    "\n",
    "    sql = f'UPDATE student SET name = \"{name}\",grade = \"{grade}\" Where sn = {sn}'\n",
    "    db.execute(sql)\n",
    "    database.commit()\n",
    "\n",
    "elif n == 4:\n",
    "    name = input(\"enter name = \")\n",
    "    sql = f\"delete from student  where name = '{name}'\"\n",
    "    db.execute(sql)\n",
    "    database.commit()\n",
    "        \n",
    "        \n",
    "else:\n",
    "    print(\"invalid number\")\n"
   ]
  },
  {
   "cell_type": "code",
   "execution_count": null,
   "id": "7fba7c53",
   "metadata": {},
   "outputs": [],
   "source": []
  }
 ],
 "metadata": {
  "kernelspec": {
   "display_name": "Python 3 (ipykernel)",
   "language": "python",
   "name": "python3"
  },
  "language_info": {
   "codemirror_mode": {
    "name": "ipython",
    "version": 3
   },
   "file_extension": ".py",
   "mimetype": "text/x-python",
   "name": "python",
   "nbconvert_exporter": "python",
   "pygments_lexer": "ipython3",
   "version": "3.9.7"
  }
 },
 "nbformat": 4,
 "nbformat_minor": 5
}
