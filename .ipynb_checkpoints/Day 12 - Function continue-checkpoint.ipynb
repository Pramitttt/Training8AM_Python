{
 "cells": [
  {
   "cell_type": "code",
   "execution_count": null,
   "id": "fa632e9b",
   "metadata": {},
   "outputs": [],
   "source": [
    "# function with argument and return type"
   ]
  },
  {
   "cell_type": "code",
   "execution_count": 1,
   "id": "a365735b",
   "metadata": {},
   "outputs": [
    {
     "name": "stdout",
     "output_type": "stream",
     "text": [
      "enter name = ram\n",
      "enter age = 12\n",
      "enter address = bara\n",
      "hello i am ram. i am 12 years old. i am from bara\n"
     ]
    }
   ],
   "source": [
    "def info (name,age,add):\n",
    "    data = f\"hello i am {name}. i am {age} years old. i am from {add}\"\n",
    "    return data\n",
    "\n",
    "name = input (\"enter name = \")\n",
    "age = int (input(\"enter age = \"))\n",
    "add = input (\"enter address = \")\n",
    "\n",
    "print(info (name,age,add))\n"
   ]
  },
  {
   "cell_type": "code",
   "execution_count": 7,
   "id": "6dd98e13",
   "metadata": {},
   "outputs": [
    {
     "name": "stdout",
     "output_type": "stream",
     "text": [
      "enter a number = 6\n",
      "enter another number = 3\n",
      "enter + - * / /\n",
      "2.0\n"
     ]
    }
   ],
   "source": [
    "#function with argument and return type\n",
    "\n",
    "def add (a,b):\n",
    "    return a+b\n",
    "def sub (a,b):\n",
    "    return a-b\n",
    "def mul (a,b):\n",
    "    return a*b\n",
    "def div(a,b):\n",
    "    return a/b\n",
    "\n",
    "def cal(a,b,o):\n",
    "    if o == \"+\":\n",
    "        print (add(a,b))\n",
    "    elif o == \"-\":\n",
    "        print (sub(a,b))\n",
    "    elif o == \"*\" :\n",
    "        print (mul(a,b))\n",
    "    elif o == \"/\":\n",
    "        print (div(a,b))\n",
    "    else:\n",
    "        print (\"invalid operator\")\n",
    "\n",
    "a = int (input (\"enter a number = \"))\n",
    "b = int ( input (\"enter another number = \"))\n",
    "o = input (\"enter + - * / \")\n",
    "\n",
    "cal (a,b,o)"
   ]
  },
  {
   "cell_type": "code",
   "execution_count": 1,
   "id": "aa9215c4",
   "metadata": {},
   "outputs": [],
   "source": [
    "#recursive function\n",
    "\n",
    "def hello():\n",
    "    print(\"hello world\")\n",
    "    hello()\n",
    "    \n",
    "hello()"
   ]
  },
  {
   "cell_type": "code",
   "execution_count": 3,
   "id": "13b228a4",
   "metadata": {},
   "outputs": [
    {
     "name": "stdout",
     "output_type": "stream",
     "text": [
      "enter p = 1000\n",
      "enter t = 2\n",
      "enter r = 3\n",
      "the value of i =  60.0\n",
      "press y for more calculation.y\n",
      "enter p = 3000\n",
      "enter t = 2\n",
      "enter r = 10\n",
      "the value of i =  600.0\n",
      "press y for more calculation.lol\n"
     ]
    }
   ],
   "source": [
    "def cal():\n",
    "    p = int(input(\"enter p = \"))\n",
    "    t = int(input(\"enter t = \"))\n",
    "    r = float(input(\"enter r = \"))\n",
    "    i = p*t*r/100\n",
    "    print (\"the value of i = \",i)\n",
    "    \n",
    "    x = input(\"press y for more calculation.\")\n",
    "    if x == \"y\":\n",
    "        cal()\n",
    "        \n",
    "cal()"
   ]
  },
  {
   "cell_type": "code",
   "execution_count": 4,
   "id": "23fac13b",
   "metadata": {},
   "outputs": [
    {
     "name": "stdout",
     "output_type": "stream",
     "text": [
      "200\n"
     ]
    }
   ],
   "source": [
    "def area(l,b):\n",
    "    a = l*b\n",
    "    return a\n",
    "\n",
    "def volume(l,b,h):\n",
    "    v = area(l,b)*h\n",
    "    print (v)\n",
    "    \n",
    "volume(20,5,2)"
   ]
  },
  {
   "cell_type": "code",
   "execution_count": 8,
   "id": "c4050528",
   "metadata": {},
   "outputs": [
    {
     "name": "stdout",
     "output_type": "stream",
     "text": [
      "C\n",
      "C++\n",
      "java\n",
      "C#\n",
      "python\n"
     ]
    }
   ],
   "source": [
    "def lan(language = \"python\"):\n",
    "    print(language)\n",
    "    \n",
    "lan(\"C\")\n",
    "lan(\"C++\")\n",
    "lan (\"java\")\n",
    "lan(\"C#\")\n",
    "lan()\n"
   ]
  },
  {
   "cell_type": "code",
   "execution_count": null,
   "id": "8f5759e8",
   "metadata": {},
   "outputs": [],
   "source": [
    "# int float str list tuples dict set"
   ]
  },
  {
   "cell_type": "code",
   "execution_count": 10,
   "id": "f0855d11",
   "metadata": {},
   "outputs": [
    {
     "name": "stdout",
     "output_type": "stream",
     "text": [
      "enter name = ram\n",
      "enter age = 12\n",
      "enter address = parsa\n",
      "hello i am ram. i am 12 years old. i am from parsa\n"
     ]
    }
   ],
   "source": [
    "def info (l):\n",
    "    name,age,add = l\n",
    "    data = f\"hello i am {name}. i am {age} years old. i am from {add}\"\n",
    "    return data\n",
    "\n",
    "name = input (\"enter name = \")\n",
    "age = int (input(\"enter age = \"))\n",
    "add = input (\"enter address = \")\n",
    "l=[name, age,add]\n",
    "\n",
    "print(info (l))\n"
   ]
  },
  {
   "cell_type": "code",
   "execution_count": 5,
   "id": "a2c2be02",
   "metadata": {},
   "outputs": [
    {
     "name": "stdout",
     "output_type": "stream",
     "text": [
      "enter name = ram\n",
      "enter age = 12\n",
      "enter address = parsha\n",
      "hello i am ram. i am 12 years old. i am from parsha\n"
     ]
    }
   ],
   "source": [
    "def info (l):\n",
    "   \n",
    "    data = f\"hello i am {l['name']}. i am {l['age']} years old. i am from {l['address']}\"\n",
    "    return data\n",
    "\n",
    "name = input (\"enter name = \")\n",
    "age = int (input(\"enter age = \"))\n",
    "add = input (\"enter address = \")\n",
    "l={\"name\":name,\"age\": age,\"address\":add}\n",
    "\n",
    "print(info(l))\n"
   ]
  },
  {
   "cell_type": "code",
   "execution_count": null,
   "id": "26a87231",
   "metadata": {},
   "outputs": [],
   "source": [
    "# Math function\n",
    "- import math\n",
    "  "
   ]
  }
 ],
 "metadata": {
  "kernelspec": {
   "display_name": "Python 3 (ipykernel)",
   "language": "python",
   "name": "python3"
  },
  "language_info": {
   "codemirror_mode": {
    "name": "ipython",
    "version": 3
   },
   "file_extension": ".py",
   "mimetype": "text/x-python",
   "name": "python",
   "nbconvert_exporter": "python",
   "pygments_lexer": "ipython3",
   "version": "3.9.7"
  }
 },
 "nbformat": 4,
 "nbformat_minor": 5
}
