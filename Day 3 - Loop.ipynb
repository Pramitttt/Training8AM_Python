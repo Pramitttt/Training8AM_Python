{
 "cells": [
  {
   "cell_type": "code",
   "execution_count": null,
   "id": "2c5db84c",
   "metadata": {},
   "outputs": [],
   "source": [
    "# for loop\n",
    "# while loop"
   ]
  },
  {
   "cell_type": "code",
   "execution_count": null,
   "id": "aa551628",
   "metadata": {},
   "outputs": [],
   "source": [
    "# For loop\n",
    "# range () - helps to create sequence of number\n",
    "# range (5) - sequence of no. 0,1,2,3,4\n"
   ]
  },
  {
   "cell_type": "code",
   "execution_count": null,
   "id": "51fb9102",
   "metadata": {},
   "outputs": [],
   "source": [
    "# rannge (5) #0,1,2,3,4\n",
    "# range (1,5) #1,2,3,4\n",
    "# range (1,5,2) #0,2,4"
   ]
  },
  {
   "cell_type": "code",
   "execution_count": 2,
   "id": "55df10b7",
   "metadata": {},
   "outputs": [
    {
     "name": "stdout",
     "output_type": "stream",
     "text": [
      "1\n",
      "2\n",
      "3\n",
      "4\n"
     ]
    }
   ],
   "source": [
    "for i in range (1,5) : #0,1,2,3,4 #for (i = 0; i <5; i++) #in will assign the value of i \n",
    "    print (i)"
   ]
  },
  {
   "cell_type": "code",
   "execution_count": 9,
   "id": "9e182c0c",
   "metadata": {},
   "outputs": [
    {
     "name": "stdout",
     "output_type": "stream",
     "text": [
      "hello world\n",
      "hello world\n",
      "hello world\n",
      "hello world\n"
     ]
    }
   ],
   "source": [
    "for i in range (1,5) : #0,1,2,3,4 #for (i = 0; i <5; i++) \n",
    "    print (\"hello world\")"
   ]
  },
  {
   "cell_type": "code",
   "execution_count": 10,
   "id": "b1faf1f6",
   "metadata": {},
   "outputs": [
    {
     "name": "stdout",
     "output_type": "stream",
     "text": [
      "1 hello world\n",
      "2 hello world\n",
      "3 hello world\n",
      "4 hello world\n"
     ]
    }
   ],
   "source": [
    "for i in range (1,5):\n",
    "    print (i,\"hello world\")"
   ]
  },
  {
   "cell_type": "code",
   "execution_count": 11,
   "id": "def3f21b",
   "metadata": {},
   "outputs": [
    {
     "name": "stdout",
     "output_type": "stream",
     "text": [
      "1 hello world\n",
      "3 hello world\n"
     ]
    }
   ],
   "source": [
    "for i in range (1,5,2) : #0,1,2,3,4 #for (i = 0; i <5; i++) \n",
    "    print (i, \"hello world\")"
   ]
  },
  {
   "cell_type": "code",
   "execution_count": 18,
   "id": "7521b274",
   "metadata": {},
   "outputs": [
    {
     "name": "stdout",
     "output_type": "stream",
     "text": [
      "enter x = 3\n",
      "3\n",
      "6\n",
      "9\n",
      "12\n",
      "15\n",
      "18\n",
      "21\n",
      "24\n",
      "27\n",
      "30\n"
     ]
    }
   ],
   "source": [
    "x = int ( input ( \"enter x = \"))\n",
    "for i in range (1,11) : \n",
    "    print (x*i)"
   ]
  },
  {
   "cell_type": "code",
   "execution_count": 19,
   "id": "c7f88c9c",
   "metadata": {},
   "outputs": [
    {
     "name": "stdout",
     "output_type": "stream",
     "text": [
      "enter x = 4\n",
      "4 x 1 = 4\n",
      "4 x 2 = 8\n",
      "4 x 3 = 12\n",
      "4 x 4 = 16\n",
      "4 x 5 = 20\n",
      "4 x 6 = 24\n",
      "4 x 7 = 28\n",
      "4 x 8 = 32\n",
      "4 x 9 = 36\n",
      "4 x 10 = 40\n"
     ]
    }
   ],
   "source": [
    "x = int ( input ( \"enter x = \"))\n",
    "for i in range (1,11) : \n",
    "    print (x, \"x\", i, \"=\", x*i)"
   ]
  },
  {
   "cell_type": "code",
   "execution_count": 21,
   "id": "d6b8e092",
   "metadata": {},
   "outputs": [
    {
     "name": "stdout",
     "output_type": "stream",
     "text": [
      "enter x = 22\n",
      "enter x = 33\n",
      "enter x = 44\n",
      "enter x = 55\n",
      "enter x = 66\n"
     ]
    }
   ],
   "source": [
    "for i in range (5):\n",
    "    x = input (\"enter x = \")"
   ]
  },
  {
   "cell_type": "code",
   "execution_count": 1,
   "id": "2b309fd1",
   "metadata": {},
   "outputs": [
    {
     "name": "stdout",
     "output_type": "stream",
     "text": [
      "enter x = 2\n",
      "enter x = 3\n",
      "enter x = 4\n",
      "enter x = 5\n",
      "enter x = 6\n",
      "21\n"
     ]
    }
   ],
   "source": [
    "s = 1\n",
    "for i in range (5):\n",
    "    x = int(input (\"enter x = \"))\n",
    "    s = s + x\n",
    "print (s)"
   ]
  },
  {
   "cell_type": "code",
   "execution_count": 2,
   "id": "45addd6c",
   "metadata": {},
   "outputs": [
    {
     "name": "stdout",
     "output_type": "stream",
     "text": [
      "enter x = 1\n",
      "2\n",
      "enter x = 2\n",
      "4\n",
      "enter x = 3\n",
      "7\n",
      "enter x = 4\n",
      "11\n",
      "enter x = 5\n",
      "16\n"
     ]
    }
   ],
   "source": [
    "s = 1\n",
    "for i in range (5):\n",
    "    x = int(input (\"enter x = \"))\n",
    "    s = s + x\n",
    "    print (s)"
   ]
  },
  {
   "cell_type": "code",
   "execution_count": 9,
   "id": "9a3400bf",
   "metadata": {},
   "outputs": [
    {
     "name": "stdout",
     "output_type": "stream",
     "text": [
      "enter x = a\n",
      "enter x = b\n",
      "enter x = c\n",
      "enter x = d\n",
      "enter x = e\n",
      "a\n",
      "b\n",
      "c\n",
      "d\n",
      "e\n",
      "\n"
     ]
    }
   ],
   "source": [
    "s = str() # instead of str () we can also use empty double semicolon \"\"\n",
    "for i in range (5):\n",
    "    x = input ( \"enter x = \")\n",
    "    s = s + x + \"\\n\"\n",
    "print (s)"
   ]
  },
  {
   "cell_type": "code",
   "execution_count": 23,
   "id": "67e3d102",
   "metadata": {},
   "outputs": [
    {
     "name": "stdout",
     "output_type": "stream",
     "text": [
      "enter n = 2\n",
      "enter name = aa\n",
      "enter phone = 123\n",
      "aa--123\n",
      "\n",
      "enter name = bb\n",
      "enter phone = 345\n",
      "aa--123\n",
      "bb--345\n",
      "\n"
     ]
    }
   ],
   "source": [
    "s = str ()\n",
    "n = int(input(\"enter n = \"))\n",
    "for i in range (n):\n",
    "    name = input (\"enter name = \")\n",
    "    phone = input (\"enter phone = \")\n",
    "    s = s+name+ \"--\"+phone+\"\\n\"\n",
    "    \n",
    "    print (s)"
   ]
  },
  {
   "cell_type": "code",
   "execution_count": 29,
   "id": "c9f68917",
   "metadata": {},
   "outputs": [
    {
     "name": "stdout",
     "output_type": "stream",
     "text": [
      "enter number of times = 2\n",
      "enter name = aa\n",
      "enter phone = 11\n",
      "enter name = bb\n",
      "enter phone = 22\n",
      "aa -- 11\n",
      "bb -- 22\n",
      "\n"
     ]
    }
   ],
   "source": [
    "s = str ()\n",
    "n = int(input(\"enter number of times = \"))\n",
    "for i in range (n):\n",
    "    name = input (\"enter name = \")\n",
    "    phone = input (\"enter phone = \")\n",
    "    s = s + name + \" -- \" + phone + \"\\n\"\n",
    "    \n",
    "print (s)"
   ]
  },
  {
   "cell_type": "code",
   "execution_count": 33,
   "id": "61098dbf",
   "metadata": {},
   "outputs": [
    {
     "name": "stdout",
     "output_type": "stream",
     "text": [
      "enter the value of n = 5\n",
      "1\n",
      "2\n",
      "6\n",
      "24\n",
      "120\n"
     ]
    }
   ],
   "source": [
    "#4! = 1*2*3*4\n",
    "fac = 1\n",
    "n = int (input ( \"enter the value of n = \"))\n",
    "for i in range (1,n+1):\n",
    "    fac = fac * i  #multiply garda assign fac = 1 orelse addition ma you can assign 0\n",
    "    \n",
    "    print (fac)"
   ]
  },
  {
   "cell_type": "code",
   "execution_count": 40,
   "id": "a34b33d6",
   "metadata": {},
   "outputs": [
    {
     "name": "stdout",
     "output_type": "stream",
     "text": [
      "1\n",
      "2\n",
      "3\n",
      "4\n",
      "5\n"
     ]
    }
   ],
   "source": [
    "for i in range (1, 5+1):\n",
    "    print (i)"
   ]
  },
  {
   "cell_type": "code",
   "execution_count": 4,
   "id": "f69451d4",
   "metadata": {},
   "outputs": [
    {
     "name": "stdout",
     "output_type": "stream",
     "text": [
      "\n",
      "*\n",
      "**\n",
      "***\n",
      "****\n",
      "*****\n",
      "******\n",
      "*******\n",
      "********\n",
      "*********\n"
     ]
    }
   ],
   "source": [
    "for i in range (10):\n",
    "    print(\"*\"*i)"
   ]
  },
  {
   "cell_type": "code",
   "execution_count": 7,
   "id": "e86d4c22",
   "metadata": {},
   "outputs": [
    {
     "name": "stdout",
     "output_type": "stream",
     "text": [
      "5\n",
      "4\n",
      "3\n",
      "2\n",
      "1\n",
      "0\n"
     ]
    }
   ],
   "source": [
    "for i in range (5,-1,-1):\n",
    "    print(i)"
   ]
  },
  {
   "cell_type": "code",
   "execution_count": null,
   "id": "349bad8f",
   "metadata": {},
   "outputs": [],
   "source": []
  }
 ],
 "metadata": {
  "kernelspec": {
   "display_name": "Python 3 (ipykernel)",
   "language": "python",
   "name": "python3"
  },
  "language_info": {
   "codemirror_mode": {
    "name": "ipython",
    "version": 3
   },
   "file_extension": ".py",
   "mimetype": "text/x-python",
   "name": "python",
   "nbconvert_exporter": "python",
   "pygments_lexer": "ipython3",
   "version": "3.9.7"
  }
 },
 "nbformat": 4,
 "nbformat_minor": 5
}
