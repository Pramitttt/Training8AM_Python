{
 "cells": [
  {
   "cell_type": "code",
   "execution_count": 45,
   "id": "0c8adc5a",
   "metadata": {
    "scrolled": true
   },
   "outputs": [
    {
     "name": "stdout",
     "output_type": "stream",
     "text": [
      "enter a number : 55\n",
      "not divisible by 2 and 3\n"
     ]
    }
   ],
   "source": [
    "a = int(input(\"enter a number : \"))\n",
    "if a%2 == 0 :\n",
    "    if a%3 == 0 :\n",
    "        print (\"divisible by 2 and 3\")\n",
    "    else:\n",
    "        print (\"divisible by 2 and not divisible by 3\")\n",
    "else :\n",
    "    if a%3 == 0 :\n",
    "        print (\"divisible by 3 and not divisible by 2\")\n",
    "    else:\n",
    "        print (\"not divisible by 2 and 3\")\n",
    "            "
   ]
  },
  {
   "cell_type": "code",
   "execution_count": 9,
   "id": "a115da2d",
   "metadata": {},
   "outputs": [
    {
     "name": "stdout",
     "output_type": "stream",
     "text": [
      "twinkle, twinkle, little star. \n",
      "\t How i wonder what you are! \n",
      "\t\t up above the world so high, \n",
      "\t\t like a diamond in the sky, \n",
      "twinkle, twinkle, little star, \n",
      "\t how i wonder what you are\n"
     ]
    }
   ],
   "source": [
    "print (\"twinkle, twinkle, little star. \\n\\t How i wonder what you are! \\n\\t\\t up above the world so high, \\n\\t\\t like a diamond in the sky, \\ntwinkle, twinkle, little star, \\n\\t how i wonder what you are\")"
   ]
  },
  {
   "cell_type": "code",
   "execution_count": 11,
   "id": "05415f85",
   "metadata": {},
   "outputs": [
    {
     "name": "stdout",
     "output_type": "stream",
     "text": [
      "enter username : Kathmandu\n",
      "enter password : Nepal123\n",
      "welcome boss\n"
     ]
    }
   ],
   "source": [
    "username = input (\"enter username : \")\n",
    "password = input (\"enter password : \")\n",
    "\n",
    "if username == \"Kathmandu\" and password == \"Nepal123\":\n",
    "    print (\"welcome boss\")\n",
    "else:\n",
    "        print (\"bye bye stranger\")"
   ]
  },
  {
   "cell_type": "code",
   "execution_count": null,
   "id": "76394d05",
   "metadata": {},
   "outputs": [],
   "source": []
  },
  {
   "cell_type": "code",
   "execution_count": null,
   "id": "e5d5373a",
   "metadata": {},
   "outputs": [],
   "source": []
  }
 ],
 "metadata": {
  "kernelspec": {
   "display_name": "Python 3 (ipykernel)",
   "language": "python",
   "name": "python3"
  },
  "language_info": {
   "codemirror_mode": {
    "name": "ipython",
    "version": 3
   },
   "file_extension": ".py",
   "mimetype": "text/x-python",
   "name": "python",
   "nbconvert_exporter": "python",
   "pygments_lexer": "ipython3",
   "version": "3.9.7"
  }
 },
 "nbformat": 4,
 "nbformat_minor": 5
}
