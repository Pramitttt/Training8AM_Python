{
 "cells": [
  {
   "cell_type": "code",
   "execution_count": null,
   "id": "6a3cf198",
   "metadata": {},
   "outputs": [],
   "source": [
    "# control statement\n",
    "# break \n",
    "# continue\n",
    "# pass\n"
   ]
  },
  {
   "cell_type": "code",
   "execution_count": 6,
   "id": "e2efde58",
   "metadata": {},
   "outputs": [
    {
     "name": "stdout",
     "output_type": "stream",
     "text": [
      "0 Hello world\n",
      "1 Hello world\n",
      "2 Hello world\n",
      "3 Hello world\n",
      "4 Hello world\n"
     ]
    }
   ],
   "source": [
    "for i in range (10): \n",
    "    if i == 5:\n",
    "        break\n",
    "    else:\n",
    "        print (i,\"Hello world\")"
   ]
  },
  {
   "cell_type": "code",
   "execution_count": 7,
   "id": "01f94d43",
   "metadata": {},
   "outputs": [
    {
     "name": "stdout",
     "output_type": "stream",
     "text": [
      "0 Hello world\n",
      "1 Hello world\n",
      "2 Hello world\n",
      "3 Hello world\n",
      "4 Hello world\n",
      "6 Hello world\n",
      "7 Hello world\n",
      "8 Hello world\n",
      "9 Hello world\n"
     ]
    }
   ],
   "source": [
    "for i in range (10): \n",
    "    if i == 5:\n",
    "        continue #skip \n",
    "    else:\n",
    "        print (i,\"Hello world\")"
   ]
  },
  {
   "cell_type": "code",
   "execution_count": 8,
   "id": "c7e6ea8d",
   "metadata": {},
   "outputs": [
    {
     "name": "stdout",
     "output_type": "stream",
     "text": [
      "P\n",
      "y\n",
      "t\n",
      "h\n",
      "o\n",
      "n\n"
     ]
    }
   ],
   "source": [
    "a = \"Python\"\n",
    "for i in a:\n",
    "    print(i)"
   ]
  },
  {
   "cell_type": "code",
   "execution_count": 9,
   "id": "f9682805",
   "metadata": {},
   "outputs": [
    {
     "name": "stdout",
     "output_type": "stream",
     "text": [
      "P hello world\n",
      "y hello world\n",
      "t hello world\n",
      "h hello world\n",
      "o hello world\n",
      "n hello world\n"
     ]
    }
   ],
   "source": [
    "a = \"Python\"\n",
    "for i in a:\n",
    "    print(i,\"hello world\")"
   ]
  },
  {
   "cell_type": "code",
   "execution_count": 5,
   "id": "654cb419",
   "metadata": {},
   "outputs": [
    {
     "name": "stdout",
     "output_type": "stream",
     "text": [
      "HelloworldiamPython"
     ]
    }
   ],
   "source": [
    "a = \"Hello world i am Python\"\n",
    "for i in a:\n",
    "    if i != \" \":\n",
    "        print(i, end = \"\") #to print horizontally use end = \"\""
   ]
  },
  {
   "cell_type": "code",
   "execution_count": 2,
   "id": "def47287",
   "metadata": {},
   "outputs": [
    {
     "name": "stdout",
     "output_type": "stream",
     "text": [
      "HelloworldiamPython"
     ]
    }
   ],
   "source": [
    "a = \"Hello world i am Python\"\n",
    "for i in a:\n",
    "    if i == \" \":\n",
    "        continue\n",
    "    else:\n",
    "        print(i, end = \"\") #to print horizontally use end = \"\""
   ]
  },
  {
   "cell_type": "code",
   "execution_count": 3,
   "id": "add86367",
   "metadata": {},
   "outputs": [
    {
     "name": "stdout",
     "output_type": "stream",
     "text": [
      "Hello"
     ]
    }
   ],
   "source": [
    "a = \"Hello world i am Python\"\n",
    "for i in a:\n",
    "    if i == \" \":\n",
    "        break\n",
    "    else:\n",
    "        print(i, end = \"\") #to print horizontally use end = \"\""
   ]
  },
  {
   "cell_type": "code",
   "execution_count": null,
   "id": "f04dbf45",
   "metadata": {},
   "outputs": [],
   "source": []
  }
 ],
 "metadata": {
  "kernelspec": {
   "display_name": "Python 3 (ipykernel)",
   "language": "python",
   "name": "python3"
  },
  "language_info": {
   "codemirror_mode": {
    "name": "ipython",
    "version": 3
   },
   "file_extension": ".py",
   "mimetype": "text/x-python",
   "name": "python",
   "nbconvert_exporter": "python",
   "pygments_lexer": "ipython3",
   "version": "3.9.7"
  }
 },
 "nbformat": 4,
 "nbformat_minor": 5
}
