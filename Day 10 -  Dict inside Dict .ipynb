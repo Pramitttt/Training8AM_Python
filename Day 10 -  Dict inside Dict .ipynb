{
 "cells": [
  {
   "cell_type": "code",
   "execution_count": 17,
   "id": "6bf30d0b",
   "metadata": {},
   "outputs": [
    {
     "data": {
      "text/plain": [
       "{1: {'Name': 'ram', 'age': 56, 'address': 'ktm'},\n",
       " 2: {'Name': 'Sush', 'age': 20, 'address': 'putalisadak'},\n",
       " 3: {'Name': 'sanju', 'age': 27, 'address': 'bara'}}"
      ]
     },
     "execution_count": 17,
     "metadata": {},
     "output_type": "execute_result"
    }
   ],
   "source": [
    "#Dictionary inside dictionary\n",
    "d = {1:{\"Name\":\"ram\", \"age\":56, \"address\":\"ktm\"}, 2:{\"Name\":\"Sush\", \"age\":20, \"address\":\"putalisadak\"}, 3:{\"Name\":\"sanju\", \"age\":27, \"address\":\"bara\"}}\n",
    "d\n"
   ]
  },
  {
   "cell_type": "code",
   "execution_count": null,
   "id": "e8c904e7",
   "metadata": {},
   "outputs": [],
   "source": []
  },
  {
   "cell_type": "code",
   "execution_count": 19,
   "id": "ab0f9de9",
   "metadata": {},
   "outputs": [
    {
     "data": {
      "text/plain": [
       "{1: {'Name': 'ram', 'age': 56, 'address': 'ktm', 'phone': 12345},\n",
       " 2: {'Name': 'Sush', 'age': 20, 'address': 'putalisadak', 'phone': 54321},\n",
       " 3: {'Name': 'sanju', 'age': 27, 'address': 'bara', 'phone': 67890}}"
      ]
     },
     "execution_count": 19,
     "metadata": {},
     "output_type": "execute_result"
    }
   ],
   "source": [
    "d [1] ['phone'] = 12345\n",
    "d [2] ['phone'] = 54321\n",
    "d [3] ['phone'] = 67890\n",
    "d"
   ]
  },
  {
   "cell_type": "code",
   "execution_count": 20,
   "id": "e35122d0",
   "metadata": {},
   "outputs": [
    {
     "data": {
      "text/plain": [
       "{1: {'Name': 'ram', 'age': 56, 'address': 'ktm'},\n",
       " 2: {'Name': 'Sush', 'age': 20, 'address': 'putalisadak'}}"
      ]
     },
     "execution_count": 20,
     "metadata": {},
     "output_type": "execute_result"
    }
   ],
   "source": [
    "d = {1:{\"Name\":\"ram\", \"age\":56, \"address\":\"ktm\"}, 2:{\"Name\":\"Sush\", \"age\":20, \"address\":\"putalisadak\"}, 3:{\"Name\":\"sanju\", \"age\":27, \"address\":\"bara\"}}\n",
    "del d [3]\n",
    "d"
   ]
  },
  {
   "cell_type": "code",
   "execution_count": 24,
   "id": "8fdd540b",
   "metadata": {},
   "outputs": [
    {
     "name": "stdout",
     "output_type": "stream",
     "text": [
      "enter n = 2\n",
      "enter name = ram\n",
      "enter age = 12\n",
      "enter address = ramechap\n",
      "enter phone ko number = 12333\n",
      "enter name = shyam\n",
      "enter age = 34\n",
      "enter address = parsa\n",
      "enter phone ko number = 3322111\n",
      "{1: {'name': 'ram', 'age': 12, 'address': 'ramechap'}, 2: {'name': 'shyam', 'age': 34, 'address': 'parsa'}}\n"
     ]
    }
   ],
   "source": [
    "d = {}\n",
    "n = int (input(\"enter n = \"))\n",
    "for i in range (1,n+1): #n+1 makes the value run till n, orelse it will run till 1 in this case coz n = 2\n",
    "    name = input (\"enter name = \")\n",
    "    age = int(input (\"enter age = \"))\n",
    "    add = input (\"enter address = \")\n",
    "    phone = int(input(\"enter phone ko number = \"))\n",
    "    d[i] = {\"name\": name, \"age\":age, \"address\":add} # key is the value of i, (name age add ) is the value \n",
    "    \n",
    "print (d)"
   ]
  },
  {
   "cell_type": "code",
   "execution_count": null,
   "id": "87033b5f",
   "metadata": {},
   "outputs": [],
   "source": [
    "# #WAP TO CREATE FOLLOWING TYPE AND PERFORM CRUD\n",
    "# d = {\"name\":[\"ram\", \"hari\", \"sita\"], \"age\":[22,43,45], \"address\": [\"kathmandu\", \"bara\", \"lalitpur\"]}\n",
    "\n",
    "# a = [{'name': 'ram', 'age': 12, 'address': 'ramechap'}, {'name': 'shyam', 'age': 34, 'address': 'parsa'}, {'Name': 'sanju', 'age': 27, 'address': 'bara'}]"
   ]
  },
  {
   "cell_type": "code",
   "execution_count": 8,
   "id": "af8238a8",
   "metadata": {},
   "outputs": [
    {
     "name": "stdout",
     "output_type": "stream",
     "text": [
      "enter n = 3\n",
      "enter name = ram\n",
      "enter age = 12\n",
      "enter address = ramechap\n",
      "enter name = shyam\n",
      "enter age = 34\n",
      "enter address = parsa\n",
      "enter name = sanju\n",
      "enter age = 27\n",
      "enter address = bara\n",
      "{1: [{'name': 'ram', 'age': 12, 'address': 'ramechap'}], 2: [{'name': 'shyam', 'age': 34, 'address': 'parsa'}], 3: [{'name': 'sanju', 'age': 27, 'address': 'bara'}]}\n"
     ]
    }
   ],
   "source": [
    "d = {}\n",
    "n = int (input(\"enter n = \"))\n",
    "for i in range (1,n+1):\n",
    "    name = input (\"enter name = \")\n",
    "    age = int(input (\"enter age = \"))\n",
    "    add = input (\"enter address = \")\n",
    "    d[i] = [{\"name\": name, \"age\":age, \"address\":add}]\n",
    "    \n",
    "print (d)"
   ]
  },
  {
   "cell_type": "code",
   "execution_count": 4,
   "id": "e70e32c3",
   "metadata": {},
   "outputs": [
    {
     "name": "stdout",
     "output_type": "stream",
     "text": [
      "enter number = 3\n",
      "enter name = ram\n",
      "enter name = hari\n",
      "enter name = sita\n",
      "enter age = 21\n",
      "enter age = 23\n",
      "enter age = 34\n",
      "enter address = ktm\n",
      "enter address = bkt\n",
      "enter address = lit\n"
     ]
    },
    {
     "data": {
      "text/plain": [
       "{'name': ['ram', 'hari', 'sita'],\n",
       " 'age': [21, 23, 34],\n",
       " 'address': ['ktm', 'bkt', 'lit']}"
      ]
     },
     "execution_count": 4,
     "metadata": {},
     "output_type": "execute_result"
    }
   ],
   "source": [
    "d = {}\n",
    "na = []\n",
    "n = int(input(\"enter number = \"))\n",
    "for i in range (n):\n",
    "    name = input (\"enter name = \")\n",
    "    info = name\n",
    "    na.append(info)\n",
    "    \n",
    "d[\"name\"]= na\n",
    "\n",
    "ag = []\n",
    "for i in range (n):\n",
    "    age = int(input (\"enter age = \"))\n",
    "    info = age\n",
    "    ag.append(info)\n",
    "    \n",
    "d['age']=ag\n",
    "\n",
    "ad=[]\n",
    "for i in range (n):\n",
    "    address=input (\"enter address = \")\n",
    "    info = address\n",
    "    ad.append(info)\n",
    "    \n",
    "d[\"address\"]=ad\n",
    "\n",
    "d"
   ]
  },
  {
   "cell_type": "code",
   "execution_count": 7,
   "id": "d49881d8",
   "metadata": {},
   "outputs": [
    {
     "name": "stdout",
     "output_type": "stream",
     "text": [
      "enter no = 3\n",
      "enter name = ram\n",
      "enter age = 12\n",
      "enter address = parsa\n",
      "enter name = sam\n",
      "enter age = 23\n",
      "enter address = bara\n",
      "enter name = krish\n",
      "enter age = 45\n",
      "enter address = ktm\n"
     ]
    },
    {
     "data": {
      "text/plain": [
       "[{'name': 'ram', 'age': 12, 'address': 'parsa'},\n",
       " {'name': 'sam', 'age': 23, 'address': 'bara'},\n",
       " {'name': 'krish', 'age': 45, 'address': 'ktm'}]"
      ]
     },
     "execution_count": 7,
     "metadata": {},
     "output_type": "execute_result"
    }
   ],
   "source": [
    "l = []\n",
    "n = int(input(\"enter no = \"))\n",
    "for i in range (1,n+1):\n",
    "    name = input(\"enter name = \")\n",
    "    age = int(input(\"enter age = \"))\n",
    "    address = input (\"enter address = \")\n",
    "    d = {\"name\":name, \"age\":age, \"address\":address}\n",
    "    l.append(d)\n",
    "    \n",
    "l"
   ]
  },
  {
   "cell_type": "code",
   "execution_count": null,
   "id": "faf84f1a",
   "metadata": {},
   "outputs": [],
   "source": []
  }
 ],
 "metadata": {
  "kernelspec": {
   "display_name": "Python 3 (ipykernel)",
   "language": "python",
   "name": "python3"
  },
  "language_info": {
   "codemirror_mode": {
    "name": "ipython",
    "version": 3
   },
   "file_extension": ".py",
   "mimetype": "text/x-python",
   "name": "python",
   "nbconvert_exporter": "python",
   "pygments_lexer": "ipython3",
   "version": "3.9.7"
  }
 },
 "nbformat": 4,
 "nbformat_minor": 5
}
