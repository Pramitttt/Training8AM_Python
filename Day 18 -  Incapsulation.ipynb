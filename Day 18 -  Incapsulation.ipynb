{
 "cells": [
  {
   "cell_type": "code",
   "execution_count": null,
   "id": "03571f5f",
   "metadata": {},
   "outputs": [],
   "source": [
    "# #private data\n",
    "# projected data\n",
    "# public data"
   ]
  },
  {
   "cell_type": "code",
   "execution_count": 1,
   "id": "b7d11448",
   "metadata": {},
   "outputs": [
    {
     "name": "stdout",
     "output_type": "stream",
     "text": [
      "Ram\n",
      "34\n",
      "Kathmandu\n"
     ]
    }
   ],
   "source": [
    "# Public attribute\n",
    "class Info:\n",
    "    def __init__ (self,name,age,add):\n",
    "        self.name = name\n",
    "        self.age = age\n",
    "        self.add = add\n",
    "        \n",
    "obj = Info (\"Ram\",34,\"Kathmandu\")\n",
    "print(obj.name)\n",
    "print(obj.age)\n",
    "print(obj.add)"
   ]
  },
  {
   "cell_type": "code",
   "execution_count": 2,
   "id": "2466bdc3",
   "metadata": {},
   "outputs": [
    {
     "name": "stdout",
     "output_type": "stream",
     "text": [
      "Ram\n",
      "34\n",
      "Kathmandu\n"
     ]
    }
   ],
   "source": [
    "# Protected attribute\n",
    "class Info:\n",
    "    def __init__ (self,name,age,add):\n",
    "        self._name = name\n",
    "        self._age = age\n",
    "        self._add = add\n",
    "        \n",
    "obj = Info (\"Ram\",34,\"Kathmandu\")\n",
    "print(obj._name)\n",
    "print(obj._age)\n",
    "print(obj._add)"
   ]
  },
  {
   "cell_type": "code",
   "execution_count": 3,
   "id": "3a985648",
   "metadata": {},
   "outputs": [
    {
     "ename": "AttributeError",
     "evalue": "'Info' object has no attribute '__name'",
     "output_type": "error",
     "traceback": [
      "\u001b[1;31m---------------------------------------------------------------------------\u001b[0m",
      "\u001b[1;31mAttributeError\u001b[0m                            Traceback (most recent call last)",
      "\u001b[1;32m~\\AppData\\Local\\Temp/ipykernel_6836/3549475902.py\u001b[0m in \u001b[0;36m<module>\u001b[1;34m\u001b[0m\n\u001b[0;32m      7\u001b[0m \u001b[1;33m\u001b[0m\u001b[0m\n\u001b[0;32m      8\u001b[0m \u001b[0mobj\u001b[0m \u001b[1;33m=\u001b[0m \u001b[0mInfo\u001b[0m \u001b[1;33m(\u001b[0m\u001b[1;34m\"Ram\"\u001b[0m\u001b[1;33m,\u001b[0m\u001b[1;36m34\u001b[0m\u001b[1;33m,\u001b[0m\u001b[1;34m\"Kathmandu\"\u001b[0m\u001b[1;33m)\u001b[0m\u001b[1;33m\u001b[0m\u001b[1;33m\u001b[0m\u001b[0m\n\u001b[1;32m----> 9\u001b[1;33m \u001b[0mprint\u001b[0m\u001b[1;33m(\u001b[0m\u001b[0mobj\u001b[0m\u001b[1;33m.\u001b[0m\u001b[0m__name\u001b[0m\u001b[1;33m)\u001b[0m\u001b[1;33m\u001b[0m\u001b[1;33m\u001b[0m\u001b[0m\n\u001b[0m\u001b[0;32m     10\u001b[0m \u001b[0mprint\u001b[0m\u001b[1;33m(\u001b[0m\u001b[0mobj\u001b[0m\u001b[1;33m.\u001b[0m\u001b[0m__age\u001b[0m\u001b[1;33m)\u001b[0m\u001b[1;33m\u001b[0m\u001b[1;33m\u001b[0m\u001b[0m\n\u001b[0;32m     11\u001b[0m \u001b[0mprint\u001b[0m\u001b[1;33m(\u001b[0m\u001b[0mobj\u001b[0m\u001b[1;33m.\u001b[0m\u001b[0m__add\u001b[0m\u001b[1;33m)\u001b[0m\u001b[1;33m\u001b[0m\u001b[1;33m\u001b[0m\u001b[0m\n",
      "\u001b[1;31mAttributeError\u001b[0m: 'Info' object has no attribute '__name'"
     ]
    }
   ],
   "source": [
    "# Private attribute = Error nai aucha\n",
    "class Info:\n",
    "    def __init__ (self,name,age,add):\n",
    "        self.__name = name\n",
    "        self.__age = age\n",
    "        self.__add = add\n",
    "        \n",
    "obj = Info (\"Ram\",34,\"Kathmandu\")\n",
    "print(obj.__name)\n",
    "print(obj.__age)\n",
    "print(obj.__add)"
   ]
  },
  {
   "cell_type": "code",
   "execution_count": 8,
   "id": "576dbde6",
   "metadata": {},
   "outputs": [
    {
     "name": "stdout",
     "output_type": "stream",
     "text": [
      "enter name = Pramit\n",
      "enter address = ktm\n",
      "i live in ktm.\n",
      "ktm\n"
     ]
    }
   ],
   "source": [
    "class Info:                                   #parent class\n",
    "    def __init__ (self,name,add):\n",
    "        self.__name = name\n",
    "        self._add = add\n",
    "    \n",
    "    def info(self):\n",
    "        print(f\"Hello i am {self.__name}. i am from {self._add}\")\n",
    "\n",
    "class Data(Info):                            #child class\n",
    "    def data(self):\n",
    "        print (f\"i live in {self._add}.\")\n",
    "        \n",
    "name = input (\"enter name = \")\n",
    "add = input (\"enter address = \")\n",
    "        \n",
    "obj = Data(name,add)\n",
    "obj.data()\n",
    "print(obj._add)\n"
   ]
  },
  {
   "cell_type": "code",
   "execution_count": null,
   "id": "865c31c3",
   "metadata": {},
   "outputs": [],
   "source": [
    "#multi level"
   ]
  },
  {
   "cell_type": "code",
   "execution_count": 9,
   "id": "1ad21a96",
   "metadata": {},
   "outputs": [
    {
     "name": "stdout",
     "output_type": "stream",
     "text": [
      "enter name = Roshan Pariyar\n",
      "enter address = Teku\n",
      "enter phone no = 983309871\n",
      "enter ward no = 9.2\n",
      "Hello World, i am Roshan Pariyar. i live in Teku. My contact detail is 983309871. my ward no is 9.2\n",
      "Hello i am from Teku and my ward is 9.2\n"
     ]
    }
   ],
   "source": [
    "class Contact:\n",
    "    def __init__(self,phone):\n",
    "        self._phone = phone\n",
    "        \n",
    "class Info:                                   #parent class\n",
    "    def __init__ (self,add,ward):\n",
    "        self._add = add\n",
    "        self._ward = ward\n",
    "        \n",
    "    def info(self):\n",
    "        print(f\"Hello i am from {self._add} and my ward is {self._ward}\")\n",
    "\n",
    "class Data(Info,Contact):\n",
    "    def __init__(self,name,add,phone,ward): #prtially initialize\n",
    "        self.__name = name\n",
    "        Info.__init__(self,add,ward) # add,phone ra ward lai mathi  ko class bata initialize garna we do this step\n",
    "        Contact.__init__(self,phone)\n",
    "        \n",
    "    def data(self):\n",
    "        print (f\"Hello World, i am {self.__name}. i live in {self._add}. My contact detail is {self._phone}. my ward no is {self._ward}\")\n",
    "        \n",
    "name = input (\"enter name = \")\n",
    "add = input(\"enter address = \")\n",
    "phone = int(input(\"enter phone no = \"))\n",
    "ward = float(input(\"enter ward no = \"))\n",
    "        \n",
    "obj = Data(name,add,phone,ward)\n",
    "obj.data()\n",
    "obj.info()\n",
    "\n",
    "\n"
   ]
  },
  {
   "cell_type": "code",
   "execution_count": null,
   "id": "334586da",
   "metadata": {},
   "outputs": [],
   "source": [
    "#polymorphism"
   ]
  },
  {
   "cell_type": "code",
   "execution_count": 12,
   "id": "15c2013e",
   "metadata": {},
   "outputs": [
    {
     "name": "stdout",
     "output_type": "stream",
     "text": [
      "Parrot can fly\n",
      "Penguin cant fly\n"
     ]
    }
   ],
   "source": [
    "class Parrot:\n",
    "    def fly (self):\n",
    "        print(\"Parrot can fly\")\n",
    "    def swim(self):\n",
    "        print(\"Parrot cant swim\")\n",
    "class Penguin:\n",
    "    def fly(self):\n",
    "        print(\"Penguin cant fly\")\n",
    "    def swim(self):\n",
    "        print(\"penguin can swim\")\n",
    "        \n",
    "#common interface\n",
    "def flying_test(bird):\n",
    "    bird.fly()\n",
    "#instantiate objects\n",
    "blu=Parrot()\n",
    "peggy = Penguin()\n",
    "#passing the object\n",
    "flying_test(blu)\n",
    "flying_test(peggy)\n"
   ]
  },
  {
   "cell_type": "code",
   "execution_count": 14,
   "id": "79bb2eed",
   "metadata": {},
   "outputs": [
    {
     "name": "stdout",
     "output_type": "stream",
     "text": [
      "Parrot cant swim\n",
      "penguin can swim\n"
     ]
    }
   ],
   "source": [
    "class Parrot:\n",
    "    def fly (self):\n",
    "        print(\"Parrot can fly\")\n",
    "    def swim(self):\n",
    "        print(\"Parrot cant swim\")\n",
    "class Penguin:\n",
    "    def fly(self):\n",
    "        print(\"Penguin cant fly\")\n",
    "    def swim(self):\n",
    "        print(\"penguin can swim\")\n",
    "        \n",
    "#common interface\n",
    "def swim_test(bird):\n",
    "    bird.swim()\n",
    "#instantiate objects\n",
    "blu=Parrot()\n",
    "peggy = Penguin()\n",
    "#passing the object\n",
    "swim_test(blu)\n",
    "swim_test(peggy)\n"
   ]
  },
  {
   "cell_type": "code",
   "execution_count": 18,
   "id": "964ff51f",
   "metadata": {},
   "outputs": [
    {
     "name": "stdout",
     "output_type": "stream",
     "text": [
      "enter name = Krishna dev\n",
      "enter address = Jodhpur, Rajisthan\n",
      "Hello World, i am Krishna dev. i live in Jodhpur, Rajisthan.\n",
      "Krishna dev\n",
      "Jodhpur, Rajisthan\n"
     ]
    }
   ],
   "source": [
    "class Info:                                   #parent class\n",
    "    def __init__ (self):\n",
    "        self.name = input (\"enter name = \")\n",
    "        self.add = input(\"enter address = \")\n",
    "\n",
    "    def data(self):\n",
    "        print (f\"Hello World, i am {self.name}. i live in {self.add}.\")\n",
    "\n",
    "class Data (Info):\n",
    "    def call_data (self):\n",
    "        super().data()\n",
    "        \n",
    "obj = Data()\n",
    "obj.call_data()\n",
    "print(obj.name)\n",
    "print(obj.add)"
   ]
  },
  {
   "cell_type": "code",
   "execution_count": null,
   "id": "337802a3",
   "metadata": {},
   "outputs": [],
   "source": []
  }
 ],
 "metadata": {
  "kernelspec": {
   "display_name": "Python 3 (ipykernel)",
   "language": "python",
   "name": "python3"
  },
  "language_info": {
   "codemirror_mode": {
    "name": "ipython",
    "version": 3
   },
   "file_extension": ".py",
   "mimetype": "text/x-python",
   "name": "python",
   "nbconvert_exporter": "python",
   "pygments_lexer": "ipython3",
   "version": "3.9.7"
  }
 },
 "nbformat": 4,
 "nbformat_minor": 5
}
