{
 "cells": [
  {
   "cell_type": "code",
   "execution_count": null,
   "id": "a28ba545",
   "metadata": {},
   "outputs": [],
   "source": [
    "# file = open(\"<file_name>\",\"<modes>\")\n",
    "# file.close()"
   ]
  },
  {
   "cell_type": "code",
   "execution_count": null,
   "id": "73ee7a44",
   "metadata": {},
   "outputs": [],
   "source": [
    "with open(\"<file_name>\",\"<mode>\")as file:\n",
    "    <operations>"
   ]
  },
  {
   "cell_type": "code",
   "execution_count": null,
   "id": "35a83b8b",
   "metadata": {},
   "outputs": [],
   "source": [
    "# modes\n",
    "# x -> \"ceate\"\n",
    "# r -> \"read\"\n",
    "# a -> \"append\"\n",
    "# w -> \"write\""
   ]
  },
  {
   "cell_type": "code",
   "execution_count": 3,
   "id": "fc5b2f29",
   "metadata": {},
   "outputs": [
    {
     "name": "stdout",
     "output_type": "stream",
     "text": [
      "The file is already there, pls check.\n"
     ]
    }
   ],
   "source": [
    "try:\n",
    "    file = open(\"data.txt\",\"x\")\n",
    "    file.close()\n",
    "except:\n",
    "    print(\"The file is already there, pls check.\")"
   ]
  },
  {
   "cell_type": "code",
   "execution_count": 10,
   "id": "787e0c3d",
   "metadata": {},
   "outputs": [
    {
     "name": "stdout",
     "output_type": "stream",
     "text": [
      "1.Pramit KC\n",
      "2.Pramit KC\n",
      "3.Hello World\n",
      "4.Hello World\n",
      "5.Hello World\n",
      "6.Hello World\n",
      "7.Hello World\n",
      "8.Hello World\n",
      "9.Hello World\n",
      "10.Hello World\n",
      "\n"
     ]
    }
   ],
   "source": [
    "file = open('data.txt','r')\n",
    "x = file.read()\n",
    "print(x)\n",
    "file.close()\n"
   ]
  },
  {
   "cell_type": "code",
   "execution_count": 11,
   "id": "dbd080e4",
   "metadata": {},
   "outputs": [
    {
     "name": "stdout",
     "output_type": "stream",
     "text": [
      "<class 'str'>\n"
     ]
    }
   ],
   "source": [
    "print(type(x))"
   ]
  },
  {
   "cell_type": "code",
   "execution_count": 7,
   "id": "1785cb3f",
   "metadata": {},
   "outputs": [
    {
     "data": {
      "text/plain": [
       "'1.Hello World\\n2.Hello World\\n3.Hello World\\n4.Hello World\\n5.Hello World\\n6.Hello World\\n7.Hello World\\n8.Hello World\\n9.Hello World\\n10.Hello World\\n'"
      ]
     },
     "execution_count": 7,
     "metadata": {},
     "output_type": "execute_result"
    }
   ],
   "source": [
    "x"
   ]
  },
  {
   "cell_type": "code",
   "execution_count": 13,
   "id": "05abb47a",
   "metadata": {},
   "outputs": [],
   "source": [
    "y=x.split(\"\\n\")"
   ]
  },
  {
   "cell_type": "code",
   "execution_count": 15,
   "id": "7fff969f",
   "metadata": {},
   "outputs": [
    {
     "data": {
      "text/plain": [
       "'4.Hello World'"
      ]
     },
     "execution_count": 15,
     "metadata": {},
     "output_type": "execute_result"
    }
   ],
   "source": [
    "y [3]"
   ]
  },
  {
   "cell_type": "code",
   "execution_count": 16,
   "id": "c46fb940",
   "metadata": {},
   "outputs": [],
   "source": [
    "file = open('dataz.txt','w')\n",
    "file.write(\"hello sansar\")\n",
    "file.close()"
   ]
  },
  {
   "cell_type": "code",
   "execution_count": null,
   "id": "8976a61d",
   "metadata": {},
   "outputs": [],
   "source": [
    "# #assignment\n",
    "# WAP to create a billing system using string\n",
    "bill = \"\"\n",
    "a = 0\n",
    "n = int (input (\"enter number = \"))\n",
    "for i in range (n):\n",
    "    name = input (\"enter name of item = \")\n",
    "    quantity = int(input (\"enter no. of item = \"))\n",
    "    price = int(input (\"enter the price of item = \"))\n",
    "    total = quantity * price\n",
    "    bill = f\"{bill} {name} ----- {quantity} --- {price} --- {total} \\n\"\n",
    "    a = a + total\n",
    "print (bill)\n",
    "print (\"your total bill amount is = \" + str(a))\n"
   ]
  },
  {
   "cell_type": "code",
   "execution_count": 19,
   "id": "5290867d",
   "metadata": {},
   "outputs": [
    {
     "name": "stdout",
     "output_type": "stream",
     "text": [
      "enter number = 2\n",
      "enter name of item = watch\n",
      "enter no. of item = 3\n",
      "enter the price of item = 400\n",
      "enter name of item = apple\n",
      "enter no. of item = 2\n",
      "enter the price of item = 20\n",
      " watch ----- 3 --- 400 --- 1200 \n",
      " apple ----- 2 --- 20 --- 40 \n",
      "\n",
      "your total bill amount is = 1240\n"
     ]
    }
   ],
   "source": [
    "# #assignment\n",
    "# WAP to create a billing system using string\n",
    "bill = \"\"\n",
    "a = 0\n",
    "n = int (input (\"enter number = \"))\n",
    "for i in range (n):\n",
    "    name = input (\"enter name of item = \")\n",
    "    quantity = int(input (\"enter no. of item = \"))\n",
    "    price = int(input (\"enter the price of item = \"))\n",
    "    total = quantity * price\n",
    "    bill = f\"{bill} {name} ----- {quantity} --- {price} --- {total} \\n\"\n",
    "    a = a + total\n",
    "print (bill)\n",
    "print (\"your total bill amount is = \" + str(a))\n",
    "\n",
    "file = open(\"dataz.txt\",\"w\")\n",
    "file.write(bill)\n",
    "file.write(str(a)) #write value should always be in string\n",
    "file.close()\n"
   ]
  },
  {
   "cell_type": "code",
   "execution_count": 22,
   "id": "24f65398",
   "metadata": {},
   "outputs": [
    {
     "name": "stdout",
     "output_type": "stream",
     "text": [
      "enter number = 2\n",
      "enter name of item = coke\n",
      "enter no. of item = 2\n",
      "enter the price of item = 100\n",
      "enter name of item = sprite\n",
      "enter no. of item = 5\n",
      "enter the price of item = 100\n",
      " coke ----- 2 --- 100 --- 200 \n",
      " sprite ----- 5 --- 100 --- 500 \n",
      "\n"
     ]
    }
   ],
   "source": [
    "bill = \"\"\n",
    "file = open(\"dataz.txt\",\"a\")\n",
    "n = int (input (\"enter number = \"))\n",
    "for i in range (n):\n",
    "    name = input (\"enter name of item = \")\n",
    "    quantity = int(input (\"enter no. of item = \"))\n",
    "    price = int(input (\"enter the price of item = \"))\n",
    "    total = quantity * price\n",
    "    bill = f\"{bill} {name} ----- {quantity} --- {price} --- {total} \\n\"\n",
    "    file.write(bill)\n",
    "    \n",
    "print (bill)\n",
    "file.close()\n"
   ]
  },
  {
   "cell_type": "code",
   "execution_count": 26,
   "id": "0f16daf2",
   "metadata": {},
   "outputs": [
    {
     "name": "stdout",
     "output_type": "stream",
     "text": [
      "enter number = 2\n",
      "enter name of item = coke\n",
      "enter no. of item = 2\n",
      "enter the price of item = 50\n",
      "enter name of item = momo\n",
      "enter no. of item = 4\n",
      "enter the price of item = 100\n",
      "coke,2,50,100 \n",
      "momo,4,100,400 \n",
      "\n"
     ]
    }
   ],
   "source": [
    "bill = \"\"\n",
    "file = open(\"dataz.txt\",\"a\")\n",
    "n = int (input (\"enter number = \"))\n",
    "for i in range (n):\n",
    "    name = input (\"enter name of item = \")\n",
    "    quantity = int(input (\"enter no. of item = \"))\n",
    "    price = int(input (\"enter the price of item = \"))\n",
    "    total = quantity * price\n",
    "    info = f\"{name},{quantity},{price},{total} \\n\"\n",
    "    bill =bill+info\n",
    "    \n",
    "print(bill)\n",
    "\n",
    "file = open(\"dataz.csv\",\"w\")\n",
    "file.write(\"name,quantity,price, total \\n\")\n",
    "file.write(bill)\n",
    "file.close()"
   ]
  },
  {
   "cell_type": "code",
   "execution_count": 30,
   "id": "434af059",
   "metadata": {},
   "outputs": [
    {
     "data": {
      "text/html": [
       "<div>\n",
       "<style scoped>\n",
       "    .dataframe tbody tr th:only-of-type {\n",
       "        vertical-align: middle;\n",
       "    }\n",
       "\n",
       "    .dataframe tbody tr th {\n",
       "        vertical-align: top;\n",
       "    }\n",
       "\n",
       "    .dataframe thead th {\n",
       "        text-align: right;\n",
       "    }\n",
       "</style>\n",
       "<table border=\"1\" class=\"dataframe\">\n",
       "  <thead>\n",
       "    <tr style=\"text-align: right;\">\n",
       "      <th></th>\n",
       "      <th>name</th>\n",
       "      <th>quantity</th>\n",
       "      <th>price</th>\n",
       "      <th>total</th>\n",
       "    </tr>\n",
       "  </thead>\n",
       "  <tbody>\n",
       "    <tr>\n",
       "      <th>0</th>\n",
       "      <td>coke</td>\n",
       "      <td>2</td>\n",
       "      <td>50</td>\n",
       "      <td>100</td>\n",
       "    </tr>\n",
       "    <tr>\n",
       "      <th>1</th>\n",
       "      <td>momo</td>\n",
       "      <td>4</td>\n",
       "      <td>100</td>\n",
       "      <td>400</td>\n",
       "    </tr>\n",
       "  </tbody>\n",
       "</table>\n",
       "</div>"
      ],
      "text/plain": [
       "   name  quantity  price   total \n",
       "0  coke         2     50      100\n",
       "1  momo         4    100      400"
      ]
     },
     "execution_count": 30,
     "metadata": {},
     "output_type": "execute_result"
    }
   ],
   "source": [
    "import pandas as pd\n",
    "df = pd.read_csv(\"dataz.csv\")\n",
    "df"
   ]
  },
  {
   "cell_type": "code",
   "execution_count": null,
   "id": "28e98e4d",
   "metadata": {},
   "outputs": [],
   "source": []
  }
 ],
 "metadata": {
  "kernelspec": {
   "display_name": "Python 3 (ipykernel)",
   "language": "python",
   "name": "python3"
  },
  "language_info": {
   "codemirror_mode": {
    "name": "ipython",
    "version": 3
   },
   "file_extension": ".py",
   "mimetype": "text/x-python",
   "name": "python",
   "nbconvert_exporter": "python",
   "pygments_lexer": "ipython3",
   "version": "3.9.7"
  }
 },
 "nbformat": 4,
 "nbformat_minor": 5
}
