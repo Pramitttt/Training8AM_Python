{
 "cells": [
  {
   "cell_type": "code",
   "execution_count": null,
   "id": "f1aac8f4",
   "metadata": {},
   "outputs": [],
   "source": [
    "# string \n",
    "# - sequence of character\n",
    "# - imutable data type"
   ]
  },
  {
   "cell_type": "code",
   "execution_count": 2,
   "id": "6f998ab4",
   "metadata": {},
   "outputs": [
    {
     "name": "stdout",
     "output_type": "stream",
     "text": [
      "Hello world\n",
      "<class 'str'>\n"
     ]
    }
   ],
   "source": [
    "a = \"Hello world\"\n",
    "b = 'hello world'\n",
    "print (a)\n",
    "print (type (a))"
   ]
  },
  {
   "cell_type": "code",
   "execution_count": 3,
   "id": "37f5066f",
   "metadata": {},
   "outputs": [
    {
     "name": "stdout",
     "output_type": "stream",
     "text": [
      " Hello World\n"
     ]
    }
   ],
   "source": [
    "a = \" Hello\"\n",
    "b = \" World\"\n",
    "c = a + b\n",
    "print (c)"
   ]
  },
  {
   "cell_type": "code",
   "execution_count": 5,
   "id": "9524fe66",
   "metadata": {},
   "outputs": [
    {
     "name": "stdout",
     "output_type": "stream",
     "text": [
      "Hello WOrld \n",
      "Hello WOrld \n",
      "\n"
     ]
    }
   ],
   "source": [
    "a = \"Hello WOrld \\n\"\n",
    "print (a*2)\n"
   ]
  },
  {
   "cell_type": "code",
   "execution_count": 2,
   "id": "e307ed81",
   "metadata": {},
   "outputs": [
    {
     "name": "stdout",
     "output_type": "stream",
     "text": [
      "Enter a = ram\n",
      "Enter b = sam\n",
      "ram sam\n"
     ]
    }
   ],
   "source": [
    "a = input(\"Enter a = \")\n",
    "b = input (\"Enter b = \")\n",
    "c = a + \" \" + b\n",
    "print (c)"
   ]
  },
  {
   "cell_type": "code",
   "execution_count": 13,
   "id": "43478258",
   "metadata": {},
   "outputs": [
    {
     "data": {
      "text/plain": [
       "'P'"
      ]
     },
     "execution_count": 13,
     "metadata": {},
     "output_type": "execute_result"
    }
   ],
   "source": [
    "a = \"Python\" #each and every character ko index huncha\n",
    "a[0]\n"
   ]
  },
  {
   "cell_type": "code",
   "execution_count": 18,
   "id": "80cf0ec2",
   "metadata": {},
   "outputs": [
    {
     "name": "stdout",
     "output_type": "stream",
     "text": [
      " Hello wor\n"
     ]
    }
   ],
   "source": [
    "#string slicing\n",
    "a = \" Hello world i am python\" \n",
    "print(a[0:10])"
   ]
  },
  {
   "cell_type": "code",
   "execution_count": 22,
   "id": "f60cae5a",
   "metadata": {},
   "outputs": [
    {
     "name": "stdout",
     "output_type": "stream",
     "text": [
      "Hlowrdia y\n"
     ]
    }
   ],
   "source": [
    "#string slicing\n",
    "a = \"Hello world i am python\" \n",
    "print(a[0:20:2]) #increment by 2,4,6,8,10"
   ]
  },
  {
   "cell_type": "code",
   "execution_count": 27,
   "id": "c93530ea",
   "metadata": {},
   "outputs": [
    {
     "name": "stdout",
     "output_type": "stream",
     "text": [
      "nohtyP\n"
     ]
    }
   ],
   "source": [
    "a = \"Python\"\n",
    "print (a[-1:-7:-1])"
   ]
  },
  {
   "cell_type": "code",
   "execution_count": 32,
   "id": "e5b56a6f",
   "metadata": {},
   "outputs": [
    {
     "name": "stdout",
     "output_type": "stream",
     "text": [
      "nohtyP evol i dlrow olleh\n"
     ]
    }
   ],
   "source": [
    "a = \"hello world i love Python\"\n",
    "print (a[::-1])"
   ]
  },
  {
   "cell_type": "code",
   "execution_count": 29,
   "id": "4e5ce981",
   "metadata": {},
   "outputs": [
    {
     "name": "stdout",
     "output_type": "stream",
     "text": [
      "nohtyP\n"
     ]
    }
   ],
   "source": [
    "a = \"Python\"\n",
    "print (a[-1::-1]) #if length is too long, put it empty in the middle"
   ]
  },
  {
   "cell_type": "code",
   "execution_count": 46,
   "id": "13b2af91",
   "metadata": {},
   "outputs": [
    {
     "name": "stdout",
     "output_type": "stream",
     "text": [
      "hello i am ramesh i am 26\n"
     ]
    }
   ],
   "source": [
    "# string formatting\n",
    "a = \"ramesh\"\n",
    "b = 26\n",
    "c = \"hello i am \" + a + \" i am \" +str(b)\n",
    "print (c)"
   ]
  },
  {
   "cell_type": "code",
   "execution_count": 49,
   "id": "6960ba6c",
   "metadata": {},
   "outputs": [
    {
     "data": {
      "text/plain": [
       "'hello i am ramesh. i am 26 years old'"
      ]
     },
     "execution_count": 49,
     "metadata": {},
     "output_type": "execute_result"
    }
   ],
   "source": [
    "info = f\"hello i am {a}. i am {b} years old\"\n",
    "info"
   ]
  },
  {
   "cell_type": "code",
   "execution_count": 54,
   "id": "490e4f9c",
   "metadata": {},
   "outputs": [
    {
     "name": "stdout",
     "output_type": "stream",
     "text": [
      "enter name = ram\n",
      "enter age = 24\n",
      "enter add = Thamel\n",
      "hello world i am ram. i am from Thamel. i am 24 years old.\n"
     ]
    }
   ],
   "source": [
    "name = input(\"enter name = \")\n",
    "age = int (input (\"enter age = \"))\n",
    "add = input (\"enter add = \")\n",
    "\n",
    "info = f\"hello world i am {name}. i am from {add}. i am {age} years old.\"\n",
    "print(info)"
   ]
  },
  {
   "cell_type": "code",
   "execution_count": null,
   "id": "977480a0",
   "metadata": {},
   "outputs": [],
   "source": [
    "# #assignment\n",
    "# WAP to create a billing system using string\n",
    "# WAP to create a phone number entry system\n"
   ]
  },
  {
   "cell_type": "code",
   "execution_count": 56,
   "id": "6e0f7895",
   "metadata": {},
   "outputs": [
    {
     "name": "stdout",
     "output_type": "stream",
     "text": [
      "python\n"
     ]
    }
   ],
   "source": [
    "a = \"PyThon\"\n",
    "print(a.lower())"
   ]
  },
  {
   "cell_type": "code",
   "execution_count": 57,
   "id": "65869228",
   "metadata": {},
   "outputs": [
    {
     "name": "stdout",
     "output_type": "stream",
     "text": [
      "PyThon\n"
     ]
    }
   ],
   "source": [
    "print(a)"
   ]
  },
  {
   "cell_type": "code",
   "execution_count": 58,
   "id": "e80f05d6",
   "metadata": {},
   "outputs": [
    {
     "name": "stdout",
     "output_type": "stream",
     "text": [
      "python\n"
     ]
    }
   ],
   "source": [
    "a = \"Python\"\n",
    "a = a.lower()\n",
    "print(a)"
   ]
  },
  {
   "cell_type": "code",
   "execution_count": 61,
   "id": "263440ac",
   "metadata": {},
   "outputs": [
    {
     "name": "stdout",
     "output_type": "stream",
     "text": [
      "PYTHON\n"
     ]
    }
   ],
   "source": [
    "a = a.upper()\n",
    "print (a)"
   ]
  },
  {
   "cell_type": "code",
   "execution_count": 70,
   "id": "e277f88d",
   "metadata": {},
   "outputs": [
    {
     "name": "stdout",
     "output_type": "stream",
     "text": [
      "enter name = ram\n",
      "yes\n",
      "3\n"
     ]
    }
   ],
   "source": [
    "a = \"ram sam hari krishna sita gita ramesh ram\"\n",
    "name = input (\"enter name = \")\n",
    "if name in a:\n",
    "    print(\"yes\")\n",
    "    print(a.count(name))"
   ]
  },
  {
   "cell_type": "code",
   "execution_count": 75,
   "id": "5a15ba3f",
   "metadata": {},
   "outputs": [
    {
     "name": "stdout",
     "output_type": "stream",
     "text": [
      "RAM SAM HARI KRISHNA SITA GITA RAMESH RAM\n",
      "enter name = rAm\n",
      "yes\n",
      "3\n"
     ]
    }
   ],
   "source": [
    "a = \"ram sam hari krishna sita gita ramesh ram\".upper()\n",
    "print(a)\n",
    "name = input (\"enter name = \").upper()\n",
    "if name in a:\n",
    "    print(\"yes\")\n",
    "    print(a.count(name))"
   ]
  },
  {
   "cell_type": "code",
   "execution_count": 77,
   "id": "74e7f12e",
   "metadata": {},
   "outputs": [
    {
     "name": "stdout",
     "output_type": "stream",
     "text": [
      "ramu sam hari krishna sita gita ramuesh ramu\n"
     ]
    }
   ],
   "source": [
    "a = \"ram sam hari krishna sita gita ramesh ram\"\n",
    "a = a.replace('ram','ramu')\n",
    "print(a)"
   ]
  },
  {
   "cell_type": "code",
   "execution_count": 4,
   "id": "1e75353e",
   "metadata": {},
   "outputs": [
    {
     "name": "stdout",
     "output_type": "stream",
     "text": [
      "rama sam hari krishna sita gita ramesh ram\n"
     ]
    }
   ],
   "source": [
    "a = \"ram sam hari krishna sita gita ramesh ram\"\n",
    "b = \"rama\"\n",
    "c = b+a[3:]\n",
    "print(c)"
   ]
  },
  {
   "cell_type": "code",
   "execution_count": null,
   "id": "066f0e86",
   "metadata": {},
   "outputs": [],
   "source": []
  }
 ],
 "metadata": {
  "kernelspec": {
   "display_name": "Python 3 (ipykernel)",
   "language": "python",
   "name": "python3"
  },
  "language_info": {
   "codemirror_mode": {
    "name": "ipython",
    "version": 3
   },
   "file_extension": ".py",
   "mimetype": "text/x-python",
   "name": "python",
   "nbconvert_exporter": "python",
   "pygments_lexer": "ipython3",
   "version": "3.9.7"
  }
 },
 "nbformat": 4,
 "nbformat_minor": 5
}
