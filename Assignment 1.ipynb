{
 "cells": [
  {
   "cell_type": "code",
   "execution_count": null,
   "id": "de175f4f",
   "metadata": {},
   "outputs": [],
   "source": [
    "# #assignment\n",
    "# WAP to create a billing system using string\n",
    "# WAP to create a phone number entry system"
   ]
  },
  {
   "cell_type": "code",
   "execution_count": 22,
   "id": "d38d8fe3",
   "metadata": {},
   "outputs": [
    {
     "name": "stdout",
     "output_type": "stream",
     "text": [
      "enter your name = Ram\n",
      "what products do you want = Mobile Phone\n",
      "how many items = 5\n",
      "hello, welcome to the KK mart Ram\n",
      "you have purchased 5 number of Mobile Phone\n",
      "thank you, visit again\n"
     ]
    }
   ],
   "source": [
    "a = input (\"enter your name = \")\n",
    "b = input (\"what products do you want = \")\n",
    "c = int(input(\"how many items = \"))\n",
    "print (\"hello, welcome to the KK mart \" + a)\n",
    "if c<=10:\n",
    "    d = f\"you have purchased {c} number of {b}\"\n",
    "    print (d)\n",
    "else:\n",
    "    print (\" Sorry that number of \" + b + \" is not available currently\" )\n",
    "    \n",
    "print (\"thank you, visit again\")\n"
   ]
  },
  {
   "cell_type": "code",
   "execution_count": 23,
   "id": "d1ccbce2",
   "metadata": {},
   "outputs": [
    {
     "name": "stdout",
     "output_type": "stream",
     "text": [
      "enter a name = Ram\n",
      "enter the phone number = 9803098186\n",
      "the phone number of Ram is 9803098186\n"
     ]
    }
   ],
   "source": [
    "a = input (\"enter a name = \")\n",
    "b = int ( input (\"enter the phone number = \"))\n",
    "\n",
    "d = f\"the phone number of {a} is {b}\"\n",
    "print (d)\n"
   ]
  },
  {
   "cell_type": "code",
   "execution_count": 29,
   "id": "a12c1c23",
   "metadata": {},
   "outputs": [
    {
     "name": "stdout",
     "output_type": "stream",
     "text": [
      "enter number = 3\n",
      "enter name of item = mobile phone\n",
      "enter no. of item = 1\n",
      "enter the price of item = 20000\n",
      "enter name of item = laptop\n",
      "enter no. of item = 1\n",
      "enter the price of item = 200000\n",
      "enter name of item = battery\n",
      "enter no. of item = 4\n",
      "enter the price of item = 20\n",
      " mobile phone ----- 1 --- 20000 --- 20000 \n",
      " laptop ----- 1 --- 200000 --- 200000 \n",
      " battery ----- 4 --- 20 --- 80 \n",
      "\n",
      "your total bill amount is = 220080\n"
     ]
    }
   ],
   "source": [
    "# #assignment\n",
    "# WAP to create a billing system using string\n",
    "bill = \"\"\n",
    "a = 0\n",
    "n = int (input (\"enter number = \"))\n",
    "for i in range (n):\n",
    "    name = input (\"enter name of item = \")\n",
    "    quantity = int(input (\"enter no. of item = \"))\n",
    "    price = int(input (\"enter the price of item = \"))\n",
    "    total = quantity * price\n",
    "    bill = f\"{bill} {name} ----- {quantity} --- {price} --- {total} \\n\"\n",
    "    a = a + total\n",
    "print (bill)\n",
    "print (\"your total bill amount is = \" + str(a))\n"
   ]
  },
  {
   "cell_type": "code",
   "execution_count": 11,
   "id": "25bca1de",
   "metadata": {},
   "outputs": [
    {
     "name": "stdout",
     "output_type": "stream",
     "text": [
      "enter the number of phone records = 2\n",
      "enter name = ram\n",
      "enter phone number = 111\n",
      "enter name = sam\n",
      "enter phone number = 222\n",
      "ram ---- 111 \n",
      "sam ---- 222 \n",
      "\n"
     ]
    }
   ],
   "source": [
    "# WAP to create a phone number entry system\n",
    "s = str ()\n",
    "a = int(input (\"enter the number of phone records = \"))\n",
    "for i in range (a):\n",
    "    name = input(\"enter name = \")\n",
    "    contact = input (\"enter phone number = \")\n",
    "    s = f\"{s}{name} ---- {contact} \\n\"\n",
    "print (s)"
   ]
  },
  {
   "cell_type": "code",
   "execution_count": null,
   "id": "f05ab0af",
   "metadata": {},
   "outputs": [],
   "source": [
    "a = input (\"hello, your name please? \")\n",
    "b = int(input (\"enter your phone number please? \"))\n",
    "c = input (\"enter your suject, is it python + data science or any other ?\")\n",
    "print (\"thank you very much, you have a good day\")"
   ]
  },
  {
   "cell_type": "code",
   "execution_count": null,
   "id": "267ff28d",
   "metadata": {},
   "outputs": [],
   "source": []
  }
 ],
 "metadata": {
  "kernelspec": {
   "display_name": "Python 3 (ipykernel)",
   "language": "python",
   "name": "python3"
  },
  "language_info": {
   "codemirror_mode": {
    "name": "ipython",
    "version": 3
   },
   "file_extension": ".py",
   "mimetype": "text/x-python",
   "name": "python",
   "nbconvert_exporter": "python",
   "pygments_lexer": "ipython3",
   "version": "3.9.7"
  }
 },
 "nbformat": 4,
 "nbformat_minor": 5
}
